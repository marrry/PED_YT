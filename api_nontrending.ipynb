{
 "cells": [
  {
   "cell_type": "code",
   "execution_count": 397,
   "metadata": {},
   "outputs": [],
   "source": [
    "from googleapiclient.discovery import build\n",
    "from datetime import datetime\n",
    "import pandas as pd\n",
    "import numpy as np\n",
    "import csv"
   ]
  },
  {
   "cell_type": "code",
   "execution_count": 398,
   "metadata": {},
   "outputs": [],
   "source": [
    "api_key = 'put your api key here'\n",
    "token_file = 'youtube_data/nextToken.txt'"
   ]
  },
  {
   "cell_type": "code",
   "execution_count": 399,
   "metadata": {},
   "outputs": [],
   "source": [
    "with open(token_file, 'r') as tokenfile:\n",
    "    page_token = tokenfile.read()"
   ]
  },
  {
   "cell_type": "code",
   "execution_count": 400,
   "metadata": {},
   "outputs": [],
   "source": [
    "youtube = build('youtube', 'v3', developerKey=api_key)"
   ]
  },
  {
   "cell_type": "code",
   "execution_count": 401,
   "metadata": {},
   "outputs": [
    {
     "data": {
      "text/plain": [
       "googleapiclient.discovery.Resource"
      ]
     },
     "execution_count": 401,
     "metadata": {},
     "output_type": "execute_result"
    }
   ],
   "source": [
    "type(youtube)"
   ]
  },
  {
   "cell_type": "code",
   "execution_count": 402,
   "metadata": {},
   "outputs": [],
   "source": [
    "start_time = datetime(year=2017, month=11, day=14).strftime('%Y-%m-%dT%H:%M:%SZ')\n",
    "end_time = datetime(year=2018, month=6, day=14).strftime('%Y-%m-%dT%H:%M:%SZ')"
   ]
  },
  {
   "cell_type": "code",
   "execution_count": 403,
   "metadata": {},
   "outputs": [],
   "source": [
    "res = youtube.search().list(part='snippet',\n",
    "                            maxResults=50,\n",
    "                            publishedAfter=start_time,\n",
    "                            publishedBefore=end_time,\n",
    "                            order='viewCount',\n",
    "                            type='video',\n",
    "                            regionCode='GB',\n",
    "                            pageToken=page_token\n",
    "                           ).execute()"
   ]
  },
  {
   "cell_type": "code",
   "execution_count": 404,
   "metadata": {},
   "outputs": [],
   "source": [
    "with open(token_file, 'w') as tokenfile:\n",
    "    tokenfile.write(res['nextPageToken'])"
   ]
  },
  {
   "cell_type": "code",
   "execution_count": 405,
   "metadata": {},
   "outputs": [],
   "source": [
    "vid_dict = {'videoId':[], 'publishedAt':[], 'title':[], 'description':[], 'thumbnail':[], 'channelTitle':[], 'liveBcast':[]}\n",
    "for item in res['items']:\n",
    "    vid_dict['videoId'].append(item['id']['videoId'])\n",
    "    vid_dict['publishedAt'].append(item['snippet']['publishedAt'])\n",
    "    vid_dict['title'].append(item['snippet']['title'])\n",
    "    vid_dict['description'].append(item['snippet']['description'])\n",
    "    vid_dict['thumbnail'].append(item['snippet']['thumbnails']['default']['url'])\n",
    "    vid_dict['channelTitle'].append(item['snippet']['channelTitle'])\n",
    "    vid_dict['liveBcast'].append(item['snippet']['liveBroadcastContent'])"
   ]
  },
  {
   "cell_type": "code",
   "execution_count": 406,
   "metadata": {},
   "outputs": [],
   "source": [
    "videos = pd.DataFrame.from_dict(vid_dict)"
   ]
  },
  {
   "cell_type": "code",
   "execution_count": 407,
   "metadata": {},
   "outputs": [],
   "source": [
    "now = datetime.now().strftime(\"%d.%m.%H.%M.%S\")"
   ]
  },
  {
   "cell_type": "code",
   "execution_count": 408,
   "metadata": {},
   "outputs": [],
   "source": [
    "videos.to_csv(\"./youtube_data/nontrending\" + now + page_token + \".csv\", index=False, sep=';')"
   ]
  }
 ],
 "metadata": {
  "kernelspec": {
   "display_name": "Python 3",
   "language": "python",
   "name": "python3"
  },
  "language_info": {
   "codemirror_mode": {
    "name": "ipython",
    "version": 3
   },
   "file_extension": ".py",
   "mimetype": "text/x-python",
   "name": "python",
   "nbconvert_exporter": "python",
   "pygments_lexer": "ipython3",
   "version": "3.7.6"
  }
 },
 "nbformat": 4,
 "nbformat_minor": 4
}
