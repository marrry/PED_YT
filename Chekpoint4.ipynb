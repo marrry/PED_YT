{
  "nbformat": 4,
  "nbformat_minor": 0,
  "metadata": {
    "colab": {
      "name": "Chekpoint4.ipynb",
      "provenance": [],
      "collapsed_sections": [],
      "toc_visible": true
    },
    "kernelspec": {
      "name": "python3",
      "display_name": "Python 3"
    }
  },
  "cells": [
    {
      "cell_type": "markdown",
      "metadata": {
        "id": "Yp2urnz5llFC",
        "colab_type": "text"
      },
      "source": [
        "# Wykorzystanie uczenia pół-nadzorowanego, uzupełnienie kategorii\n",
        "## Opis zadania\n",
        "* Uczenie pół-nadzorowane do celów uzupełnienia info o kategoriach\n",
        "* Więcej niż tylko jedna metoda, ale z dobrym wytłumaczeniem dlaczego stosują\n",
        "taką metodę a nie inną\n",
        "* Porównanie metod, wybór jednej z nich\n",
        "* OCENA (15%)\n",
        " * 8% pierwsza metoda (z wytłumaczeniem)\n",
        " * 4% druga metoda (z wytłumaczeniem)\n",
        " * 3% porównanie metod, wybór jednej"
      ]
    },
    {
      "cell_type": "markdown",
      "metadata": {
        "id": "Ga16kjexpT-q",
        "colab_type": "text"
      },
      "source": [
        "## Code"
      ]
    },
    {
      "cell_type": "markdown",
      "metadata": {
        "id": "EpQ247dVpXIt",
        "colab_type": "text"
      },
      "source": [
        "### Constants"
      ]
    },
    {
      "cell_type": "code",
      "metadata": {
        "id": "4g6rMmeVpSNg",
        "colab_type": "code",
        "colab": {}
      },
      "source": [
        "DATA_FILE = 'data_checkpoint4.csv'\n",
        "RANDOM_STATE = 1996"
      ],
      "execution_count": 0,
      "outputs": []
    },
    {
      "cell_type": "code",
      "metadata": {
        "id": "x3rj1wu58ULv",
        "colab_type": "code",
        "outputId": "552c8431-1f5e-40fd-8be4-9b0e115b7fe4",
        "colab": {
          "base_uri": "https://localhost:8080/",
          "height": 110
        }
      },
      "source": [
        "!pip install imbalanced-learn # imblearn"
      ],
      "execution_count": 0,
      "outputs": [
        {
          "output_type": "stream",
          "text": [
            "Requirement already satisfied: imbalanced-learn in /usr/local/lib/python3.6/dist-packages (0.4.3)\n",
            "Requirement already satisfied: scikit-learn>=0.20 in /usr/local/lib/python3.6/dist-packages (from imbalanced-learn) (0.22.2.post1)\n",
            "Requirement already satisfied: numpy>=1.8.2 in /usr/local/lib/python3.6/dist-packages (from imbalanced-learn) (1.18.3)\n",
            "Requirement already satisfied: scipy>=0.13.3 in /usr/local/lib/python3.6/dist-packages (from imbalanced-learn) (1.4.1)\n",
            "Requirement already satisfied: joblib>=0.11 in /usr/local/lib/python3.6/dist-packages (from scikit-learn>=0.20->imbalanced-learn) (0.14.1)\n"
          ],
          "name": "stdout"
        }
      ]
    },
    {
      "cell_type": "code",
      "metadata": {
        "id": "T-_n2e-dkrjR",
        "colab_type": "code",
        "colab": {}
      },
      "source": [
        "from google.colab import drive # Google Drive connection\n",
        "from joblib import Memory # Memmory cache\n",
        "\n",
        "# Pandas\n",
        "import pandas as pd\n",
        "# progress_apply\n",
        "from tqdm.auto import tqdm  \n",
        "tqdm.pandas()\n",
        "\n",
        "from os import cpu_count\n",
        "from os import path # joinging path\n",
        "import numpy as np\n",
        "import matplotlib.pyplot as plt\n",
        "import matplotlib.style as style \n",
        "import seaborn as sns\n",
        "\n",
        "# Scikit\n",
        "from sklearn.model_selection import train_test_split\n",
        "from sklearn.linear_model import LogisticRegression\n",
        "from sklearn.metrics import classification_report\n",
        "from sklearn.metrics import confusion_matrix\n",
        "from sklearn.neural_network import MLPClassifier\n",
        "from sklearn.model_selection import ParameterGrid\n",
        "from copy import deepcopy\n",
        "from sklearn.semi_supervised import LabelSpreading\n",
        "from sklearn.metrics import f1_score\n",
        "\n",
        "# imblearn\n",
        "from imblearn.over_sampling import RandomOverSampler\n",
        "from imblearn.over_sampling import SMOTE\n",
        "from imblearn.under_sampling import TomekLinks\n",
        "\n",
        "# disable warnings\n",
        "import warnings\n",
        "warnings.filterwarnings('ignore')\n",
        "warnings.simplefilter('ignore')"
      ],
      "execution_count": 0,
      "outputs": []
    },
    {
      "cell_type": "code",
      "metadata": {
        "id": "1IhalbVpuTvL",
        "colab_type": "code",
        "colab": {}
      },
      "source": [
        "style.use('seaborn-poster') \n",
        "style.use('ggplot')"
      ],
      "execution_count": 0,
      "outputs": []
    },
    {
      "cell_type": "code",
      "metadata": {
        "id": "hrO20ZDueT0k",
        "colab_type": "code",
        "colab": {}
      },
      "source": [
        "if not(RANDOM_STATE == None):\n",
        "  np.random.seed(RANDOM_STATE)"
      ],
      "execution_count": 0,
      "outputs": []
    },
    {
      "cell_type": "markdown",
      "metadata": {
        "id": "XKMHRZkzppQ2",
        "colab_type": "text"
      },
      "source": [
        "## Google Drive"
      ]
    },
    {
      "cell_type": "code",
      "metadata": {
        "id": "Fk0mIauBpnMR",
        "colab_type": "code",
        "colab": {}
      },
      "source": [
        "# Mount google drive and load data\n",
        "drive.mount('/content/drive')\n",
        "\n",
        "drive_path = \"/content/drive/My Drive/\"\n",
        "data_path = path.join(drive_path , 'datasets/youtube_data')\n",
        "image_path = path.join(data_path, 'images')\n",
        "cache_path = path.join(drive_path, 'cache')\n",
        "\n",
        "# Set cache\n",
        "memory = Memory(location=cache_path, verbose=0)"
      ],
      "execution_count": 0,
      "outputs": []
    },
    {
      "cell_type": "code",
      "metadata": {
        "id": "lLIOmfpEpPpp",
        "colab_type": "code",
        "colab": {}
      },
      "source": [
        "df = pd.read_csv(path.join(data_path, DATA_FILE))"
      ],
      "execution_count": 0,
      "outputs": []
    },
    {
      "cell_type": "code",
      "metadata": {
        "id": "x0DOQFwVqAvq",
        "colab_type": "code",
        "outputId": "bbab0b70-40b2-4ecb-f93d-ba80197d8126",
        "colab": {
          "base_uri": "https://localhost:8080/",
          "height": 36
        }
      },
      "source": [
        "df.shape"
      ],
      "execution_count": 0,
      "outputs": [
        {
          "output_type": "execute_result",
          "data": {
            "text/plain": [
              "(8606, 915)"
            ]
          },
          "metadata": {
            "tags": []
          },
          "execution_count": 10
        }
      ]
    },
    {
      "cell_type": "markdown",
      "metadata": {
        "id": "5j3xHCcPqsNn",
        "colab_type": "text"
      },
      "source": [
        "We work with:\n",
        " * 8k examples\n",
        " * 900 features"
      ]
    },
    {
      "cell_type": "code",
      "metadata": {
        "id": "Cx4y9n2vDgw1",
        "colab_type": "code",
        "colab": {}
      },
      "source": [
        "df.category_id = pd.Categorical(df.category_id)"
      ],
      "execution_count": 0,
      "outputs": []
    },
    {
      "cell_type": "markdown",
      "metadata": {
        "id": "GVBUkT2Aq7ih",
        "colab_type": "text"
      },
      "source": [
        "## Test-Train split"
      ]
    },
    {
      "cell_type": "markdown",
      "metadata": {
        "id": "xEBkO4yrH-Fk",
        "colab_type": "text"
      },
      "source": [
        "Constants"
      ]
    },
    {
      "cell_type": "code",
      "metadata": {
        "id": "uotNEKxbH_pB",
        "colab_type": "code",
        "colab": {}
      },
      "source": [
        "TEST_SIZE = 0.2"
      ],
      "execution_count": 0,
      "outputs": []
    },
    {
      "cell_type": "code",
      "metadata": {
        "id": "-7O6d4GQqI_t",
        "colab_type": "code",
        "colab": {}
      },
      "source": [
        "df_cat = df.loc[df.category_id.notna()]"
      ],
      "execution_count": 0,
      "outputs": []
    },
    {
      "cell_type": "code",
      "metadata": {
        "id": "SkitGPj_rIyI",
        "colab_type": "code",
        "outputId": "86557c07-db5e-4915-ee55-8793c57b040e",
        "colab": {
          "base_uri": "https://localhost:8080/",
          "height": 36
        }
      },
      "source": [
        "df_cat.shape"
      ],
      "execution_count": 0,
      "outputs": [
        {
          "output_type": "execute_result",
          "data": {
            "text/plain": [
              "(448, 915)"
            ]
          },
          "metadata": {
            "tags": []
          },
          "execution_count": 14
        }
      ]
    },
    {
      "cell_type": "code",
      "metadata": {
        "id": "6jlGu6cPrwlk",
        "colab_type": "code",
        "outputId": "d0296dfa-6cae-47cd-dc09-4eac0ee571ec",
        "colab": {
          "base_uri": "https://localhost:8080/",
          "height": 36
        }
      },
      "source": [
        "print(\"%.2f%% of examples have category\" % (len(df_cat)/len(df) * 100))"
      ],
      "execution_count": 0,
      "outputs": [
        {
          "output_type": "stream",
          "text": [
            "5.21% of examples have category\n"
          ],
          "name": "stdout"
        }
      ]
    },
    {
      "cell_type": "code",
      "metadata": {
        "id": "Co56pcLUc5SM",
        "colab_type": "code",
        "colab": {}
      },
      "source": [
        "def show_values_on_bars(axs, h_v=\"v\", space=0.4, fontsize=15):\n",
        "  def _none_to_zero(val):\n",
        "    return val if not(np.isnan(val)) else 0\n",
        "\n",
        "  def _show_on_single_plot(ax):\n",
        "    if h_v == \"v\":\n",
        "      for p in ax.patches:\n",
        "        _x = _none_to_zero(p.get_x() + p.get_width() / 2)\n",
        "        _y = _none_to_zero(p.get_y() + p.get_height())\n",
        "        value = int(_none_to_zero(p.get_height()))\n",
        "        ax.text(_x, _y, value, ha=\"center\", fontsize=fontsize) \n",
        "    elif h_v == \"h\":\n",
        "      for p in ax.patches:\n",
        "        _x = _none_to_zero(p.get_x() + p.get_width() + float(space))\n",
        "        _y = _none_to_zero(p.get_y() + p.get_height())\n",
        "        value = int(_none_to_zero(p.get_width()))\n",
        "        ax.text(_x, _y, value, ha=\"left\", fontsize=fontsize)\n",
        "\n",
        "  if isinstance(axs, np.ndarray):\n",
        "    for idx, ax in np.ndenumerate(axs):\n",
        "        _show_on_single_plot(ax)\n",
        "  else:\n",
        "    _show_on_single_plot(axs)"
      ],
      "execution_count": 0,
      "outputs": []
    },
    {
      "cell_type": "markdown",
      "metadata": {
        "id": "6M2-6n8-rrb8",
        "colab_type": "text"
      },
      "source": [
        "We have ony 450 examples with category which constitue 5.21% in total"
      ]
    },
    {
      "cell_type": "code",
      "metadata": {
        "id": "PhtYLam-uNMP",
        "colab_type": "code",
        "outputId": "6cf47482-0863-4bb0-c221-31fa2146f2a1",
        "colab": {
          "base_uri": "https://localhost:8080/",
          "height": 573
        }
      },
      "source": [
        "ax = sns.countplot(df_cat.category_id, \n",
        "                   order=df_cat.category_id.value_counts().index)\n",
        "ax.set_title('Categories distribution')\n",
        "show_values_on_bars(ax);"
      ],
      "execution_count": 0,
      "outputs": [
        {
          "output_type": "display_data",
          "data": {
            "image/png": "[encoded data removed]",
            "text/plain": [
              "<Figure size 921.6x633.6 with 1 Axes>"
            ]
          },
          "metadata": {
            "tags": []
          }
        }
      ]
    },
    {
      "cell_type": "markdown",
      "metadata": {
        "id": "3YYGMlG2WERS",
        "colab_type": "text"
      },
      "source": [
        "* The data is also highly imbalanced.  \n",
        "* Two classes: **43** and **29** have also just one example. They will be duplicated to create splits with **Scikit** (a trick to utilize library methods). They will be later removed from the test and validation set, since we can't measure the performance on those classes anyway."
      ]
    },
    {
      "cell_type": "code",
      "metadata": {
        "id": "PVEBhN0PnAWv",
        "colab_type": "code",
        "outputId": "0368df89-514b-4984-f32b-8c5a7178c885",
        "colab": {
          "base_uri": "https://localhost:8080/",
          "height": 573
        }
      },
      "source": [
        "classes = df_cat.category_id.value_counts()\n",
        "rare_classes = [k for k, v in classes.items() if v == 1]\n",
        "rare_examples = df_cat.loc[df_cat.category_id.isin(rare_classes)]\n",
        "df_cat = df_cat.append(rare_examples).append(rare_examples)\n",
        "\n",
        "ax = sns.countplot(df_cat.category_id, \n",
        "                  order=df_cat.category_id.value_counts().index)\n",
        "ax.set_title('Categories distribution')\n",
        "show_values_on_bars(ax);"
      ],
      "execution_count": 0,
      "outputs": [
        {
          "output_type": "display_data",
          "data": {
            "image/png": "[encoded data removed]",
            "text/plain": [
              "<Figure size 921.6x633.6 with 1 Axes>"
            ]
          },
          "metadata": {
            "tags": []
          }
        }
      ]
    },
    {
      "cell_type": "code",
      "metadata": {
        "id": "HcjW9DXIrN28",
        "colab_type": "code",
        "colab": {}
      },
      "source": [
        "X = df_cat.drop(columns=['category_id']).to_numpy()\n",
        "y = df_cat.loc[:,'category_id'].to_numpy()"
      ],
      "execution_count": 0,
      "outputs": []
    },
    {
      "cell_type": "code",
      "metadata": {
        "id": "06nV--NN-bU0",
        "colab_type": "code",
        "colab": {}
      },
      "source": [
        "X_train, X_test, y_train, y_test = train_test_split(X, y, \n",
        "                                                    stratify=y,\n",
        "                                                    test_size=TEST_SIZE)\n",
        "\n",
        "X_train, X_val, y_train, y_val = train_test_split(X_train, y_train, \n",
        "                                                    stratify=y_train,\n",
        "                                                    test_size=TEST_SIZE)"
      ],
      "execution_count": 0,
      "outputs": []
    },
    {
      "cell_type": "code",
      "metadata": {
        "id": "zG4snwzMVqEV",
        "colab_type": "code",
        "colab": {}
      },
      "source": [
        "def compare_cat_dist(y_train, y_test, y_valid=None, order=None):\n",
        "  plt.figure(figsize=(25,15))\n",
        "\n",
        "  df_train = pd.DataFrame(y_train, columns=['category'])\n",
        "  df_train['data_set'] = 'train'\n",
        "\n",
        "  df_test = pd.DataFrame(y_test, columns=['category'])\n",
        "  df_test['data_set'] = 'test'\n",
        "\n",
        "  df_valid = None\n",
        "  if np.any(y_valid != None):\n",
        "    df_valid = pd.DataFrame(y_valid, columns=['category'])\n",
        "    df_valid['data_set'] = 'valid'\n",
        "\n",
        "  df_y = df_train.append(df_test)\n",
        "  if np.any(df_valid != None):\n",
        "    df_y = df_y.append(df_valid)\n",
        "\n",
        "  ax = sns.countplot(data=df_y, x='category', hue='data_set', order=order)\n",
        "  ax.set_title('Category distribution');\n",
        "  show_values_on_bars(ax);"
      ],
      "execution_count": 0,
      "outputs": []
    },
    {
      "cell_type": "code",
      "metadata": {
        "id": "mntFxlAMRE4t",
        "colab_type": "code",
        "outputId": "a3fd9689-1238-46bf-a731-69425211b2ac",
        "colab": {
          "base_uri": "https://localhost:8080/",
          "height": 791
        }
      },
      "source": [
        "compare_cat_dist(y_train, y_test, y_val, order=df.category_id.value_counts().index)"
      ],
      "execution_count": 0,
      "outputs": [
        {
          "output_type": "display_data",
          "data": {
            "image/png": "[encoded data removed]",
            "text/plain": [
              "<Figure size 1800x1080 with 1 Axes>"
            ]
          },
          "metadata": {
            "tags": []
          }
        }
      ]
    },
    {
      "cell_type": "markdown",
      "metadata": {
        "id": "izEJe6f4uXyd",
        "colab_type": "text"
      },
      "source": [
        "Categry **2** is not represented in the _test set_. We will mannually move one example.  \n",
        "We will also remove classes **43** and **29** from the _test set_. We will train the classifier on them but we won't measure the performance on them. Two other soultions (completly discarding those classes or including them in the test set and not in the training set) seem much less reasonable because of obvious reasons."
      ]
    },
    {
      "cell_type": "code",
      "metadata": {
        "id": "uLDNT6uUXXIU",
        "colab_type": "code",
        "outputId": "b47e220f-e059-4f4c-c836-b914ef6d1f7f",
        "colab": {
          "base_uri": "https://localhost:8080/",
          "height": 791
        }
      },
      "source": [
        "index = np.argmax(y_train==2.0)\n",
        "\n",
        "X_test = np.append(X_test, X_train[index,None], axis=0) \n",
        "y_test = np.append(y_test, 2.0)\n",
        "\n",
        "y_train = np.delete(y_train, index)\n",
        "X_train = np.delete(X_train, index, axis=0)\n",
        "\n",
        "to_remove = np.where(np.isin(y_test, [43.0, 29.0]))\n",
        "X_test = np.delete(X_test, to_remove, axis=0)\n",
        "y_test = np.delete(y_test, to_remove)\n",
        "compare_cat_dist(y_train, y_test, y_val, order=df.category_id.value_counts().index)"
      ],
      "execution_count": 0,
      "outputs": [
        {
          "output_type": "display_data",
          "data": {
            "image/png": "[encoded data removed]",
            "text/plain": [
              "<Figure size 1800x1080 with 1 Axes>"
            ]
          },
          "metadata": {
            "tags": []
          }
        }
      ]
    },
    {
      "cell_type": "markdown",
      "metadata": {
        "id": "F-Gv1ymDON2N",
        "colab_type": "text"
      },
      "source": [
        "## Imbalanced learning\n",
        "Simple **Logistic regression** will be used as a reference classifier"
      ]
    },
    {
      "cell_type": "code",
      "metadata": {
        "id": "BC7qn87Gqkrp",
        "colab_type": "code",
        "colab": {}
      },
      "source": [
        "class ClfScorer:\n",
        "  \n",
        "  SINGLE_SCORE_AVG = 'weighted avg'\n",
        "  SINGLE_SCORE_MEASURE = 'f1-score'\n",
        "  BENCHMARK_CLF = LogisticRegression(random_state=RANDOM_STATE, max_iter=1000)\n",
        "\n",
        "  def __init__(self, X_test, y_test):\n",
        "    self.X_test = X_test\n",
        "    self.y_test = y_test\n",
        "  \n",
        "  def score_report(self, clf):\n",
        "    print(type(clf))\n",
        "    y_pred = clf.predict(self.X_test)\n",
        "    report = classification_report(\n",
        "        self.y_test, \n",
        "        y_pred,\n",
        "        zero_division=0)\n",
        "    print(report)\n",
        "    \n",
        "  def score_number(self, clf, ret=False, X=None, y=None):\n",
        "    if X is None or y is None:\n",
        "      X, y = self.X_test, self.y_test\n",
        "    if not(ret): \n",
        "      print(type(clf))\n",
        "    y_pred = clf.predict(X)\n",
        "    report = classification_report(\n",
        "        y,\n",
        "        y_pred,\n",
        "        zero_division=0,\n",
        "        output_dict=True\n",
        "    )\n",
        "    score = report[self.SINGLE_SCORE_AVG][self.SINGLE_SCORE_MEASURE]\n",
        "    if not(ret): \n",
        "      print('%s %s: %.2f' % (self.SINGLE_SCORE_AVG, \n",
        "                           self.SINGLE_SCORE_MEASURE, \n",
        "                           score))\n",
        "    return score\n",
        "\n",
        "  def train_and_score(self, X_train, y_train, clf=None):\n",
        "    clf = clf if clf != None else self.BENCHMARK_CLF\n",
        "    clf = self.BENCHMARK_CLF.fit(X_train, y_train)\n",
        "    self.score_number(clf)"
      ],
      "execution_count": 0,
      "outputs": []
    },
    {
      "cell_type": "code",
      "metadata": {
        "id": "G9amluycr_cv",
        "colab_type": "code",
        "outputId": "1692f17e-5055-493d-b918-40ffe91fe355",
        "colab": {
          "base_uri": "https://localhost:8080/",
          "height": 54
        }
      },
      "source": [
        "scorer = ClfScorer(X_val, y_val)\n",
        "scorer.train_and_score(X_train, y_train)"
      ],
      "execution_count": 0,
      "outputs": [
        {
          "output_type": "stream",
          "text": [
            "<class 'sklearn.linear_model._logistic.LogisticRegression'>\n",
            "weighted avg f1-score: 0.47\n"
          ],
          "name": "stdout"
        }
      ]
    },
    {
      "cell_type": "markdown",
      "metadata": {
        "id": "8wmYzkkCtaHl",
        "colab_type": "text"
      },
      "source": [
        "### Oversampling"
      ]
    },
    {
      "cell_type": "markdown",
      "metadata": {
        "id": "f3VY-kxDteUo",
        "colab_type": "text"
      },
      "source": [
        "Here naive **oversampling** will be applied"
      ]
    },
    {
      "cell_type": "code",
      "metadata": {
        "id": "yqCHNzED936i",
        "colab_type": "code",
        "outputId": "0913ac45-e291-4686-fdd5-6ff6dce379c6",
        "colab": {
          "base_uri": "https://localhost:8080/",
          "height": 54
        }
      },
      "source": [
        "ros = RandomOverSampler(random_state=RANDOM_STATE)\n",
        "X_res, y_res = ros.fit_resample(X_train, y_train)\n",
        "scorer.train_and_score(X_res, y_res)"
      ],
      "execution_count": 0,
      "outputs": [
        {
          "output_type": "stream",
          "text": [
            "<class 'sklearn.linear_model._logistic.LogisticRegression'>\n",
            "weighted avg f1-score: 0.46\n"
          ],
          "name": "stdout"
        }
      ]
    },
    {
      "cell_type": "markdown",
      "metadata": {
        "id": "CoZE0j99t8re",
        "colab_type": "text"
      },
      "source": [
        "As it was supposed, naive oversampling didn't improve the result. The score even got worse."
      ]
    },
    {
      "cell_type": "markdown",
      "metadata": {
        "id": "Cqwt_qvp0_Q7",
        "colab_type": "text"
      },
      "source": [
        "### SMOTE"
      ]
    },
    {
      "cell_type": "markdown",
      "metadata": {
        "id": "w8gfZVdWw8_i",
        "colab_type": "text"
      },
      "source": [
        "In order to perform **SMOTE** first all the minority classes are randomly oversampled to 6."
      ]
    },
    {
      "cell_type": "code",
      "metadata": {
        "id": "hVAvlnK1xUzR",
        "colab_type": "code",
        "outputId": "09e631c2-99d8-403f-b387-7c72337368e3",
        "colab": {
          "base_uri": "https://localhost:8080/",
          "height": 556
        }
      },
      "source": [
        "rare_classes = [19.0, 2.0, 43.0, 29.0]\n",
        "sampling = {k : 6 for k in rare_classes}\n",
        "X_res, y_res = RandomOverSampler(sampling_strategy=sampling,\n",
        "                                 random_state=RANDOM_STATE)\\\n",
        "                .fit_resample(X_train, y_train)\n",
        "ax = sns.countplot(y_res);\n",
        "show_values_on_bars(ax);\n",
        "ax.set_title('Categories distribuiton after random oversampling');"
      ],
      "execution_count": 0,
      "outputs": [
        {
          "output_type": "display_data",
          "data": {
            "image/png": "[encoded data removed]",
            "text/plain": [
              "<Figure size 921.6x633.6 with 1 Axes>"
            ]
          },
          "metadata": {
            "tags": []
          }
        }
      ]
    },
    {
      "cell_type": "code",
      "metadata": {
        "id": "yMCmF-dQpCFD",
        "colab_type": "code",
        "outputId": "18b1ff7f-db8a-4941-df95-be56a8fbeb38",
        "colab": {
          "base_uri": "https://localhost:8080/",
          "height": 556
        }
      },
      "source": [
        "X_res, y_res = SMOTE(random_state=RANDOM_STATE).fit_resample(X_res, y_res);\n",
        "ax = sns.countplot(y_res);\n",
        "show_values_on_bars(ax);\n",
        "ax.set_title('Categories distribuiton after SMOTE');"
      ],
      "execution_count": 0,
      "outputs": [
        {
          "output_type": "display_data",
          "data": {
            "image/png": "[encoded data removed]",
            "text/plain": [
              "<Figure size 921.6x633.6 with 1 Axes>"
            ]
          },
          "metadata": {
            "tags": []
          }
        }
      ]
    },
    {
      "cell_type": "code",
      "metadata": {
        "id": "Nih9ZiHuyycc",
        "colab_type": "code",
        "outputId": "495b096f-3171-4c6f-b111-5ce4a0c71866",
        "colab": {
          "base_uri": "https://localhost:8080/",
          "height": 54
        }
      },
      "source": [
        "scorer.train_and_score(X_res, y_res)"
      ],
      "execution_count": 0,
      "outputs": [
        {
          "output_type": "stream",
          "text": [
            "<class 'sklearn.linear_model._logistic.LogisticRegression'>\n",
            "weighted avg f1-score: 0.47\n"
          ],
          "name": "stdout"
        }
      ]
    },
    {
      "cell_type": "markdown",
      "metadata": {
        "id": "SgVs4dua0Vk3",
        "colab_type": "text"
      },
      "source": [
        "**SMOTE** improved the score by **1%**"
      ]
    },
    {
      "cell_type": "markdown",
      "metadata": {
        "id": "PhMYtEgP1Bk9",
        "colab_type": "text"
      },
      "source": [
        "### Tomek Links"
      ]
    },
    {
      "cell_type": "code",
      "metadata": {
        "id": "GM-Y1QqD0b8Q",
        "colab_type": "code",
        "outputId": "59948a1a-4761-4cfd-af5c-4b9546b0cd9f",
        "colab": {
          "base_uri": "https://localhost:8080/",
          "height": 556
        }
      },
      "source": [
        "X_tom, y_tom = TomekLinks(random_state=RANDOM_STATE).fit_resample(X_res, y_res);\n",
        "ax = sns.countplot(y_res);\n",
        "show_values_on_bars(ax);\n",
        "ax.set_title('Categories distribuiton after TomekLinks');"
      ],
      "execution_count": 0,
      "outputs": [
        {
          "output_type": "display_data",
          "data": {
            "image/png": "[encoded data removed]",
            "text/plain": [
              "<Figure size 921.6x633.6 with 1 Axes>"
            ]
          },
          "metadata": {
            "tags": []
          }
        }
      ]
    },
    {
      "cell_type": "markdown",
      "metadata": {
        "id": "V7tq4lFP3WNf",
        "colab_type": "text"
      },
      "source": [
        "As we can see, no _Tomek Links_ were found."
      ]
    },
    {
      "cell_type": "markdown",
      "metadata": {
        "id": "vuc5To96nIkQ",
        "colab_type": "text"
      },
      "source": [
        "## Semi-Supervised Learning"
      ]
    },
    {
      "cell_type": "markdown",
      "metadata": {
        "id": "5f7nCg3-GSBl",
        "colab_type": "text"
      },
      "source": [
        "The first _semi-supervised_ method that will be aplied is **self-learning**.\n",
        "The method was chosen for the following purposes:\n",
        " * Ease of implementation\n",
        " * Low number of _hyperparameters_\n",
        " * Classifier independence\n",
        "\n",
        "Because of very high **feature space** it was decided to use relatively simple classifier - **Logistic Regression**. In order to combat overfitting which is surely to happen **l2 regularization** will be applied.\n",
        "\n",
        "**Self learning** will be applied in the following manner:\n",
        "* Every iteration some of the most sure predictions by the terms of **softmax outputs** and determined by the **threshold** will be added to the training set\n",
        "* Meanwhile the **validation** score will be measured. \n",
        "* The iterations will be executed until the _validation score_ drops. \n",
        "* The best saved classifier will be returned. \n",
        "\n",
        "The two _hyperparameters_:\n",
        "* _l2_ regularization **C**\n",
        "* _self learning's_ **threshold** \n",
        "will be crossvalidated on the _validation set_.\n",
        "\n",
        "After selecting the best set of hyperparameters the _validation_ and _training_ sets will be merged and the final classifier will be trained and the performance will be measured on the _test_ set.\n"
      ]
    },
    {
      "cell_type": "markdown",
      "metadata": {
        "id": "D0yJz-YdnMox",
        "colab_type": "text"
      },
      "source": [
        "### Self-Learning"
      ]
    },
    {
      "cell_type": "code",
      "metadata": {
        "id": "CzsyxqIfnLby",
        "colab_type": "code",
        "colab": {}
      },
      "source": [
        "class SelfLearning:\n",
        "  def __init__(self, clf, X, y, unlabeled, threshold=0.99, verbose=True,\n",
        "               scorer=None, score=False, max_iter=None, max_decreasing=3):\n",
        "    self.clf = clf\n",
        "    self.X = X.copy()\n",
        "    self.y = y.copy()\n",
        "    self.unlabeled = unlabeled.copy()\n",
        "    self.threshold = threshold\n",
        "    self.new_confident = True\n",
        "    self.verbose = verbose\n",
        "    self.scorer = scorer\n",
        "    self.score = scorer != None\n",
        "    self.scores = {\n",
        "        'valid': [],\n",
        "        'train': []\n",
        "    }\n",
        "    self.max_iter = max_iter\n",
        "    self.n_iter = 0\n",
        "    self.max_decreasing = max_decreasing\n",
        "    self._n_decreased = 0\n",
        "    self._best_clf = None\n",
        "\n",
        "    if score and scorer == None:\n",
        "      raise RuntimeError(\"Set scorer\")\n",
        "\n",
        "  def self_learn(self, n_iter=None):\n",
        "    self._log('Self learning with %s' % str(type(clf)))\n",
        "    self._fit()\n",
        "    self._best_clf = deepcopy(self.clf)\n",
        "    self._log()\n",
        "    while self.new_confident:\n",
        "      self.n_iter += 1\n",
        "      self._log('Iteration %3d:' % self.n_iter, end=' ')\n",
        "      self._fit()\n",
        "      self._add_confident()\n",
        "      self._log('', end='\\n')\n",
        "      if self.max_iter == self.n_iter:\n",
        "        break\n",
        "      if self._reached_max_dec():\n",
        "        break\n",
        "    return self._best_clf\n",
        "\n",
        "  def _reached_max_dec(self):\n",
        "    return self.max_decreasing and self._n_decreased >= self.max_decreasing\n",
        "\n",
        "  def _fit(self):\n",
        "    self.clf.fit(self.X, self.y)\n",
        "    self._add_score()\n",
        "\n",
        "  def _log(self, msg='', end='\\n'):\n",
        "    if self.verbose:\n",
        "      print(msg, end=end)\n",
        "\n",
        "  def _add_score(self):\n",
        "    if not(self.score):\n",
        "      return\n",
        "    valid_metric = self.scorer.score_number(self.clf, ret=True)\n",
        "    if len(self.scores['valid']) > 0 and self.scores['valid'][-1] > valid_metric:\n",
        "      self._n_decreased +=1\n",
        "    else:\n",
        "      self._n_decreased = 0\n",
        "      self._best_clf = deepcopy(self.clf) \n",
        "    self.scores['valid'].append(valid_metric)\n",
        "    train_metric = self.scorer.score_number(self.clf, \n",
        "                                            ret=True, \n",
        "                                            X=self.X, \n",
        "                                            y=self.y)\n",
        "    self.scores['train'].append(train_metric)\n",
        "    self._log('train_score: %.2f val_score: %.2f' \n",
        "              % (train_metric, valid_metric), end= ' ')\n",
        "\n",
        "  def _add_confident(self):\n",
        "    probs = self.clf.predict_proba(self.unlabeled)\n",
        "    index = np.argmax(probs, axis=1)\n",
        "    rows = np.choose(index, probs.T) > self.threshold\n",
        "    self.new_confident = np.any(rows)\n",
        "    if not(self.new_confident):\n",
        "      self._log('learning finished')\n",
        "      return\n",
        "    if self.verbose: print('new examples: %3d' % sum(rows), end=' ')\n",
        "    X_new = self.unlabeled[rows,:]\n",
        "    y_new = self.clf.predict(self.unlabeled)[rows]\n",
        "    self.X = np.append(self.X, X_new, axis=0)\n",
        "    self.y = np.append(self.y, y_new)\n",
        "    self.unlabeled = np.delete(self.unlabeled, np.where(rows), axis=0) \n",
        "  \n",
        "  def plot_scores(self, title=''):\n",
        "    plt.plot(self.scores['train']);\n",
        "    plt.plot(self.scores['valid'])\n",
        "    plt.legend(['train', 'valid'])\n",
        "    plt.xlabel('Iteration');\n",
        "    plt.ylabel('F1-Score');\n",
        "    plt.title(title);"
      ],
      "execution_count": 0,
      "outputs": []
    },
    {
      "cell_type": "markdown",
      "metadata": {
        "id": "4CHBf-Avqaey",
        "colab_type": "text"
      },
      "source": [
        "#### Logistic Regression"
      ]
    },
    {
      "cell_type": "code",
      "metadata": {
        "id": "MBwMVrbMrcvb",
        "colab_type": "code",
        "outputId": "03d6d0dc-72d2-424a-9438-8c661221b64a",
        "colab": {
          "base_uri": "https://localhost:8080/",
          "height": 1000
        }
      },
      "source": [
        "unlabeled = df.loc[df.category_id.isna()].drop(columns=['category_id']).to_numpy()\n",
        "scorer = ClfScorer(X_val, y_val)\n",
        "\n",
        "parameters = {\n",
        "  'C': 10.0**(-np.arange(0, 6)),\n",
        "  'threshold': np.arange(0.7, 1, 0.05)\n",
        "}\n",
        "grid = ParameterGrid(parameters)\n",
        "best_params = {'score': 0}\n",
        "\n",
        "for params in grid:\n",
        "  clf = LogisticRegression(max_iter=1000, \n",
        "                          n_jobs=cpu_count(), \n",
        "                          warm_start=True,\n",
        "                          C=params['C'])\n",
        "  \n",
        "  selfLearning = SelfLearning(clf, \n",
        "                              X_res, \n",
        "                              y_res, \n",
        "                              unlabeled, \n",
        "                              scorer=scorer,\n",
        "                              threshold=params['threshold'],\n",
        "                              max_decreasing=1,\n",
        "                              verbose=True)\n",
        "  clf = selfLearning.self_learn()\n",
        "  score = scorer.score_number(clf, ret=True)\n",
        "  if score > best_params['score']:\n",
        "    best_params['score'] = score\n",
        "    best_params['params'] = params\n",
        "    print('Best params: ', best_params)\n",
        "  else:\n",
        "    print(params, score)"
      ],
      "execution_count": 0,
      "outputs": [
        {
          "output_type": "stream",
          "text": [
            "Self learning with <class 'sklearn.linear_model._logistic.LogisticRegression'>\n",
            "train_score: 1.00 val_score: 0.47 \n",
            "Iteration   1: train_score: 1.00 val_score: 0.47 new examples: 4300 \n",
            "Iteration   2: train_score: 1.00 val_score: 0.50 new examples: 2565 \n",
            "Iteration   3: train_score: 1.00 val_score: 0.46 new examples: 810 \n",
            "Best params:  {'score': 0.49943011458794656, 'params': {'C': 1.0, 'threshold': 0.7}}\n",
            "Self learning with <class 'sklearn.linear_model._logistic.LogisticRegression'>\n",
            "train_score: 1.00 val_score: 0.47 \n",
            "Iteration   1: train_score: 1.00 val_score: 0.47 new examples: 3789 \n",
            "Iteration   2: train_score: 1.00 val_score: 0.49 new examples: 2588 \n",
            "Iteration   3: train_score: 1.00 val_score: 0.50 new examples: 921 \n",
            "Iteration   4: train_score: 1.00 val_score: 0.51 new examples: 320 \n",
            "Iteration   5: train_score: 1.00 val_score: 0.52 new examples: 147 \n",
            "Iteration   6: train_score: 1.00 val_score: 0.52 new examples:  72 \n",
            "Best params:  {'score': 0.517628140504853, 'params': {'C': 1.0, 'threshold': 0.75}}\n",
            "Self learning with <class 'sklearn.linear_model._logistic.LogisticRegression'>\n",
            "train_score: 1.00 val_score: 0.47 \n",
            "Iteration   1: train_score: 1.00 val_score: 0.47 new examples: 3304 \n",
            "Iteration   2: train_score: 1.00 val_score: 0.47 new examples: 2583 \n",
            "Iteration   3: train_score: 1.00 val_score: 0.49 new examples: 1071 \n",
            "Iteration   4: train_score: 1.00 val_score: 0.50 new examples: 442 \n",
            "Iteration   5: train_score: 1.00 val_score: 0.50 new examples: 174 \n",
            "{'C': 1.0, 'threshold': 0.8} 0.5019900799352854\n",
            "Self learning with <class 'sklearn.linear_model._logistic.LogisticRegression'>\n",
            "train_score: 1.00 val_score: 0.47 \n",
            "Iteration   1: train_score: 1.00 val_score: 0.47 new examples: 2814 \n",
            "Iteration   2: train_score: 1.00 val_score: 0.52 new examples: 2521 \n",
            "Iteration   3: train_score: 1.00 val_score: 0.52 new examples: 1123 \n",
            "Best params:  {'score': 0.5212904160929948, 'params': {'C': 1.0, 'threshold': 0.8500000000000001}}\n",
            "Self learning with <class 'sklearn.linear_model._logistic.LogisticRegression'>\n",
            "train_score: 1.00 val_score: 0.47 \n",
            "Iteration   1: train_score: 1.00 val_score: 0.47 new examples: 2233 \n",
            "Iteration   2: train_score: 1.00 val_score: 0.51 new examples: 2236 \n",
            "Iteration   3: train_score: 1.00 val_score: 0.48 new examples: 1263 \n",
            "{'C': 1.0, 'threshold': 0.9000000000000001} 0.5069204007560172\n",
            "Self learning with <class 'sklearn.linear_model._logistic.LogisticRegression'>\n",
            "train_score: 1.00 val_score: 0.47 \n",
            "Iteration   1: train_score: 1.00 val_score: 0.47 new examples: 1516 \n",
            "Iteration   2: train_score: 1.00 val_score: 0.49 new examples: 1653 \n",
            "Iteration   3: train_score: 1.00 val_score: 0.48 new examples: 1287 \n",
            "{'C': 1.0, 'threshold': 0.9500000000000002} 0.4933212235936532\n",
            "Self learning with <class 'sklearn.linear_model._logistic.LogisticRegression'>\n",
            "train_score: 1.00 val_score: 0.47 \n",
            "Iteration   1: train_score: 1.00 val_score: 0.47 learning finished\n",
            "\n",
            "{'C': 1.0, 'threshold': 1.0000000000000002} 0.46560005935509563\n",
            "Self learning with <class 'sklearn.linear_model._logistic.LogisticRegression'>\n",
            "train_score: 1.00 val_score: 0.48 \n",
            "Iteration   1: train_score: 1.00 val_score: 0.48 new examples: 3079 \n",
            "Iteration   2: train_score: 1.00 val_score: 0.51 new examples: 2738 \n",
            "Iteration   3: train_score: 1.00 val_score: 0.52 new examples: 1066 \n",
            "Iteration   4: train_score: 1.00 val_score: 0.52 new examples: 390 \n",
            "Iteration   5: train_score: 1.00 val_score: 0.48 new examples: 195 \n",
            "{'C': 0.1, 'threshold': 0.7} 0.5156865722308339\n",
            "Self learning with <class 'sklearn.linear_model._logistic.LogisticRegression'>\n",
            "train_score: 1.00 val_score: 0.48 \n",
            "Iteration   1: train_score: 1.00 val_score: 0.48 new examples: 2613 \n",
            "Iteration   2: train_score: 1.00 val_score: 0.47 new examples: 2592 \n",
            "{'C': 0.1, 'threshold': 0.75} 0.47616088361455\n",
            "Self learning with <class 'sklearn.linear_model._logistic.LogisticRegression'>\n",
            "train_score: 1.00 val_score: 0.48 \n",
            "Iteration   1: train_score: 1.00 val_score: 0.48 new examples: 2137 \n",
            "Iteration   2: train_score: 1.00 val_score: 0.51 new examples: 2333 \n",
            "Iteration   3: train_score: 1.00 val_score: 0.47 new examples: 1351 \n",
            "{'C': 0.1, 'threshold': 0.8} 0.5062947706783324\n",
            "Self learning with <class 'sklearn.linear_model._logistic.LogisticRegression'>\n",
            "train_score: 1.00 val_score: 0.48 \n",
            "Iteration   1: train_score: 1.00 val_score: 0.48 new examples: 1691 \n",
            "Iteration   2: train_score: 1.00 val_score: 0.49 new examples: 1973 \n",
            "Iteration   3: train_score: 1.00 val_score: 0.47 new examples: 1414 \n",
            "{'C': 0.1, 'threshold': 0.8500000000000001} 0.492877670663818\n",
            "Self learning with <class 'sklearn.linear_model._logistic.LogisticRegression'>\n",
            "train_score: 1.00 val_score: 0.48 \n",
            "Iteration   1: train_score: 1.00 val_score: 0.48 new examples: 1203 \n",
            "Iteration   2: train_score: 1.00 val_score: 0.47 new examples: 1444 \n",
            "{'C': 0.1, 'threshold': 0.9000000000000001} 0.47616088361455\n",
            "Self learning with <class 'sklearn.linear_model._logistic.LogisticRegression'>\n",
            "train_score: 1.00 val_score: 0.48 \n",
            "Iteration   1: train_score: 1.00 val_score: 0.48 new examples: 694 \n",
            "Iteration   2: train_score: 1.00 val_score: 0.49 new examples: 734 \n",
            "Iteration   3: train_score: 1.00 val_score: 0.45 new examples: 778 \n",
            "{'C': 0.1, 'threshold': 0.9500000000000002} 0.4852459072845858\n",
            "Self learning with <class 'sklearn.linear_model._logistic.LogisticRegression'>\n",
            "train_score: 1.00 val_score: 0.48 \n",
            "Iteration   1: train_score: 1.00 val_score: 0.48 learning finished\n",
            "\n",
            "{'C': 0.1, 'threshold': 1.0000000000000002} 0.47616088361455\n",
            "Self learning with <class 'sklearn.linear_model._logistic.LogisticRegression'>\n",
            "train_score: 1.00 val_score: 0.49 \n",
            "Iteration   1: train_score: 1.00 val_score: 0.49 new examples: 1414 \n",
            "Iteration   2: train_score: 1.00 val_score: 0.48 new examples: 1996 \n",
            "{'C': 0.01, 'threshold': 0.7} 0.4863774733637748\n",
            "Self learning with <class 'sklearn.linear_model._logistic.LogisticRegression'>\n",
            "train_score: 1.00 val_score: 0.49 \n",
            "Iteration   1: train_score: 1.00 val_score: 0.49 new examples: 1085 \n",
            "Iteration   2: train_score: 1.00 val_score: 0.47 new examples: 1546 \n",
            "{'C': 0.01, 'threshold': 0.75} 0.4863774733637748\n",
            "Self learning with <class 'sklearn.linear_model._logistic.LogisticRegression'>\n",
            "train_score: 1.00 val_score: 0.49 \n",
            "Iteration   1: train_score: 1.00 val_score: 0.49 new examples: 809 \n",
            "Iteration   2: train_score: 1.00 val_score: 0.46 new examples: 1035 \n",
            "{'C': 0.01, 'threshold': 0.8} 0.4863774733637748\n",
            "Self learning with <class 'sklearn.linear_model._logistic.LogisticRegression'>\n",
            "train_score: 1.00 val_score: 0.49 \n",
            "Iteration   1: train_score: 1.00 val_score: 0.49 new examples: 548 \n",
            "Iteration   2: train_score: 1.00 val_score: 0.48 new examples: 643 \n",
            "{'C': 0.01, 'threshold': 0.8500000000000001} 0.4863774733637748\n",
            "Self learning with <class 'sklearn.linear_model._logistic.LogisticRegression'>\n",
            "train_score: 1.00 val_score: 0.49 \n",
            "Iteration   1: train_score: 1.00 val_score: 0.49 new examples: 337 \n",
            "Iteration   2: train_score: 1.00 val_score: 0.49 new examples: 379 \n",
            "{'C': 0.01, 'threshold': 0.9000000000000001} 0.4863774733637748\n",
            "Self learning with <class 'sklearn.linear_model._logistic.LogisticRegression'>\n",
            "train_score: 1.00 val_score: 0.49 \n",
            "Iteration   1: train_score: 1.00 val_score: 0.49 new examples: 134 \n",
            "Iteration   2: train_score: 1.00 val_score: 0.49 new examples: 100 \n",
            "Iteration   3: train_score: 1.00 val_score: 0.49 new examples: 114 \n",
            "Iteration   4: train_score: 1.00 val_score: 0.48 new examples: 107 \n",
            "{'C': 0.01, 'threshold': 0.9500000000000002} 0.48860521655342043\n",
            "Self learning with <class 'sklearn.linear_model._logistic.LogisticRegression'>\n",
            "train_score: 1.00 val_score: 0.49 \n",
            "Iteration   1: train_score: 1.00 val_score: 0.49 learning finished\n",
            "\n",
            "{'C': 0.01, 'threshold': 1.0000000000000002} 0.4863774733637748\n",
            "Self learning with <class 'sklearn.linear_model._logistic.LogisticRegression'>\n",
            "train_score: 0.99 val_score: 0.50 \n",
            "Iteration   1: train_score: 0.99 val_score: 0.50 new examples: 179 \n",
            "Iteration   2: train_score: 0.99 val_score: 0.50 new examples: 322 \n",
            "Iteration   3: train_score: 0.98 val_score: 0.52 new examples: 407 \n",
            "Iteration   4: train_score: 0.98 val_score: 0.49 new examples: 389 \n",
            "Best params:  {'score': 0.5230069062462294, 'params': {'C': 0.001, 'threshold': 0.7}}\n",
            "Self learning with <class 'sklearn.linear_model._logistic.LogisticRegression'>\n",
            "train_score: 0.99 val_score: 0.50 \n",
            "Iteration   1: train_score: 0.99 val_score: 0.50 new examples:  98 \n",
            "Iteration   2: train_score: 0.99 val_score: 0.49 new examples: 172 \n",
            "{'C': 0.001, 'threshold': 0.75} 0.4968521584959942\n",
            "Self learning with <class 'sklearn.linear_model._logistic.LogisticRegression'>\n",
            "train_score: 0.99 val_score: 0.50 \n",
            "Iteration   1: train_score: 0.99 val_score: 0.50 new examples:  46 \n",
            "Iteration   2: train_score: 0.99 val_score: 0.49 new examples:  57 \n",
            "{'C': 0.001, 'threshold': 0.8} 0.4968521584959942\n",
            "Self learning with <class 'sklearn.linear_model._logistic.LogisticRegression'>\n",
            "train_score: 0.99 val_score: 0.50 \n",
            "Iteration   1: train_score: 0.99 val_score: 0.50 new examples:  13 \n",
            "Iteration   2: train_score: 0.99 val_score: 0.49 new examples:   6 \n",
            "{'C': 0.001, 'threshold': 0.8500000000000001} 0.4968521584959942\n",
            "Self learning with <class 'sklearn.linear_model._logistic.LogisticRegression'>\n",
            "train_score: 0.99 val_score: 0.50 \n",
            "Iteration   1: train_score: 0.99 val_score: 0.50 new examples:   5 \n",
            "Iteration   2: train_score: 0.99 val_score: 0.50 learning finished\n",
            "\n",
            "{'C': 0.001, 'threshold': 0.9000000000000001} 0.4968521584959942\n",
            "Self learning with <class 'sklearn.linear_model._logistic.LogisticRegression'>\n",
            "train_score: 0.99 val_score: 0.50 \n",
            "Iteration   1: train_score: 0.99 val_score: 0.50 new examples:   1 \n",
            "Iteration   2: train_score: 0.99 val_score: 0.50 learning finished\n",
            "\n",
            "{'C': 0.001, 'threshold': 0.9500000000000002} 0.4968521584959942\n",
            "Self learning with <class 'sklearn.linear_model._logistic.LogisticRegression'>\n",
            "train_score: 0.99 val_score: 0.50 \n",
            "Iteration   1: train_score: 0.99 val_score: 0.50 learning finished\n",
            "\n",
            "{'C': 0.001, 'threshold': 1.0000000000000002} 0.4968521584959942\n",
            "Self learning with <class 'sklearn.linear_model._logistic.LogisticRegression'>\n",
            "train_score: 0.89 val_score: 0.34 \n",
            "Iteration   1: train_score: 0.89 val_score: 0.34 learning finished\n",
            "\n",
            "{'C': 0.0001, 'threshold': 0.7} 0.34363181243880175\n",
            "Self learning with <class 'sklearn.linear_model._logistic.LogisticRegression'>\n",
            "train_score: 0.89 val_score: 0.34 \n",
            "Iteration   1: train_score: 0.89 val_score: 0.34 learning finished\n",
            "\n",
            "{'C': 0.0001, 'threshold': 0.75} 0.34363181243880175\n",
            "Self learning with <class 'sklearn.linear_model._logistic.LogisticRegression'>\n",
            "train_score: 0.89 val_score: 0.34 \n",
            "Iteration   1: train_score: 0.89 val_score: 0.34 learning finished\n",
            "\n",
            "{'C': 0.0001, 'threshold': 0.8} 0.34363181243880175\n",
            "Self learning with <class 'sklearn.linear_model._logistic.LogisticRegression'>\n",
            "train_score: 0.89 val_score: 0.34 \n",
            "Iteration   1: train_score: 0.89 val_score: 0.34 learning finished\n",
            "\n",
            "{'C': 0.0001, 'threshold': 0.8500000000000001} 0.34363181243880175\n",
            "Self learning with <class 'sklearn.linear_model._logistic.LogisticRegression'>\n",
            "train_score: 0.89 val_score: 0.34 \n",
            "Iteration   1: train_score: 0.89 val_score: 0.34 learning finished\n",
            "\n",
            "{'C': 0.0001, 'threshold': 0.9000000000000001} 0.34363181243880175\n",
            "Self learning with <class 'sklearn.linear_model._logistic.LogisticRegression'>\n",
            "train_score: 0.89 val_score: 0.34 \n",
            "Iteration   1: train_score: 0.89 val_score: 0.34 learning finished\n",
            "\n",
            "{'C': 0.0001, 'threshold': 0.9500000000000002} 0.34363181243880175\n",
            "Self learning with <class 'sklearn.linear_model._logistic.LogisticRegression'>\n",
            "train_score: 0.89 val_score: 0.34 \n",
            "Iteration   1: train_score: 0.89 val_score: 0.34 learning finished\n",
            "\n",
            "{'C': 0.0001, 'threshold': 1.0000000000000002} 0.34363181243880175\n",
            "Self learning with <class 'sklearn.linear_model._logistic.LogisticRegression'>\n",
            "train_score: 0.81 val_score: 0.22 \n",
            "Iteration   1: train_score: 0.81 val_score: 0.22 learning finished\n",
            "\n",
            "{'C': 1e-05, 'threshold': 0.7} 0.22246525404420142\n",
            "Self learning with <class 'sklearn.linear_model._logistic.LogisticRegression'>\n",
            "train_score: 0.81 val_score: 0.22 \n",
            "Iteration   1: train_score: 0.81 val_score: 0.22 learning finished\n",
            "\n",
            "{'C': 1e-05, 'threshold': 0.75} 0.22246525404420142\n",
            "Self learning with <class 'sklearn.linear_model._logistic.LogisticRegression'>\n",
            "train_score: 0.81 val_score: 0.22 \n",
            "Iteration   1: train_score: 0.81 val_score: 0.22 learning finished\n",
            "\n",
            "{'C': 1e-05, 'threshold': 0.8} 0.22246525404420142\n",
            "Self learning with <class 'sklearn.linear_model._logistic.LogisticRegression'>\n",
            "train_score: 0.81 val_score: 0.22 \n",
            "Iteration   1: train_score: 0.81 val_score: 0.22 learning finished\n",
            "\n",
            "{'C': 1e-05, 'threshold': 0.8500000000000001} 0.22246525404420142\n",
            "Self learning with <class 'sklearn.linear_model._logistic.LogisticRegression'>\n",
            "train_score: 0.81 val_score: 0.22 \n",
            "Iteration   1: train_score: 0.81 val_score: 0.22 learning finished\n",
            "\n",
            "{'C': 1e-05, 'threshold': 0.9000000000000001} 0.22246525404420142\n",
            "Self learning with <class 'sklearn.linear_model._logistic.LogisticRegression'>\n",
            "train_score: 0.81 val_score: 0.22 \n",
            "Iteration   1: train_score: 0.81 val_score: 0.22 learning finished\n",
            "\n",
            "{'C': 1e-05, 'threshold': 0.9500000000000002} 0.22246525404420142\n",
            "Self learning with <class 'sklearn.linear_model._logistic.LogisticRegression'>\n",
            "train_score: 0.81 val_score: 0.22 \n",
            "Iteration   1: train_score: 0.81 val_score: 0.22 learning finished\n",
            "\n",
            "{'C': 1e-05, 'threshold': 1.0000000000000002} 0.22246525404420142\n"
          ],
          "name": "stdout"
        }
      ]
    },
    {
      "cell_type": "code",
      "metadata": {
        "id": "FA9xTG_wV145",
        "colab_type": "code",
        "outputId": "6223a1fc-1d7f-4c0c-9100-6e2bdda10aed",
        "colab": {
          "base_uri": "https://localhost:8080/",
          "height": 34
        }
      },
      "source": [
        "print(best_params)"
      ],
      "execution_count": 0,
      "outputs": [
        {
          "output_type": "stream",
          "text": [
            "{'score': 0.5230069062462294, 'params': {'C': 0.001, 'threshold': 0.7}}\n"
          ],
          "name": "stdout"
        }
      ]
    },
    {
      "cell_type": "markdown",
      "metadata": {
        "id": "kUNsfXRBsEVT",
        "colab_type": "text"
      },
      "source": [
        "Self learning with logistic regression achieved the average weighted f1 score of 52% with _C = 0.001_ and _threshold = 0.7_.  \n",
        "At this stage _train_ and _validation_ sets will be merged and the whole pipeline will be applied to the merged set\n"
      ]
    },
    {
      "cell_type": "code",
      "metadata": {
        "id": "EMVn6p4oW2JE",
        "colab_type": "code",
        "colab": {}
      },
      "source": [
        "X_all = np.append(X_res, X_val, axis=0)\n",
        "y_all = np.append(y_res, y_val)"
      ],
      "execution_count": 0,
      "outputs": []
    },
    {
      "cell_type": "code",
      "metadata": {
        "id": "qceNukzKX-au",
        "colab_type": "code",
        "outputId": "bdfae1e6-4364-4972-b490-3e37caf3d7ba",
        "colab": {
          "base_uri": "https://localhost:8080/",
          "height": 87
        }
      },
      "source": [
        "scorer = ClfScorer(X_test, y_test)\n",
        "unlabeled = df.loc[df.category_id.isna()].drop(columns=['category_id']).to_numpy()\n",
        "\n",
        "clf = LogisticRegression(max_iter=1000, \n",
        "                        n_jobs=cpu_count(), \n",
        "                        warm_start=True,\n",
        "                        C=0.001)\n",
        "\n",
        "selfLearning = SelfLearning(clf, \n",
        "                            X_all, \n",
        "                            y_all, \n",
        "                            unlabeled, \n",
        "                            scorer=scorer,\n",
        "                            threshold=0.7,\n",
        "                            max_decreasing=1,\n",
        "                            verbose=True)\n",
        "clf = selfLearning.self_learn()"
      ],
      "execution_count": 0,
      "outputs": [
        {
          "output_type": "stream",
          "text": [
            "Self learning with <class 'sklearn.linear_model._logistic.LogisticRegression'>\n",
            "train_score: 0.98 val_score: 0.54 \n",
            "Iteration   1: train_score: 0.98 val_score: 0.54 new examples: 253 \n",
            "Iteration   2: train_score: 0.98 val_score: 0.52 new examples: 394 \n"
          ],
          "name": "stdout"
        }
      ]
    },
    {
      "cell_type": "code",
      "metadata": {
        "id": "dCKuGYADYTOZ",
        "colab_type": "code",
        "outputId": "2df76648-b0a6-431a-fafe-1c8a01f37939",
        "colab": {
          "base_uri": "https://localhost:8080/",
          "height": 123
        }
      },
      "source": [
        "print('Test set:')\n",
        "test_scorer = ClfScorer(X_test, y_test)\n",
        "test_scorer.score_number(clf)\n",
        "print('Train set:')\n",
        "train_scorer = ClfScorer(X_all, y_all)\n",
        "train_scorer.score_number(clf);"
      ],
      "execution_count": 0,
      "outputs": [
        {
          "output_type": "stream",
          "text": [
            "Test set:\n",
            "<class 'sklearn.linear_model._logistic.LogisticRegression'>\n",
            "weighted avg f1-score: 0.54\n",
            "Train set:\n",
            "<class 'sklearn.linear_model._logistic.LogisticRegression'>\n",
            "weighted avg f1-score: 0.99\n"
          ],
          "name": "stdout"
        }
      ]
    },
    {
      "cell_type": "markdown",
      "metadata": {
        "id": "vw_iDPaD3Dun",
        "colab_type": "text"
      },
      "source": [
        "We finally achieved _weighted averaged f1-score_ of **54%** on the _test set_. We can clearly see, that the classifier is overfitting despite the regularization applied: it achieved the score of **99%** on the _training set_.  The reason of this behaviour could be the high number of features (**914**), compared to the low number of training samples (**448** before applying any _augumentation/unsupervised learning_ techniques)."
      ]
    },
    {
      "cell_type": "markdown",
      "metadata": {
        "id": "0uAObpHnQ_Pa",
        "colab_type": "text"
      },
      "source": [
        "### Label Spreading"
      ]
    },
    {
      "cell_type": "markdown",
      "metadata": {
        "id": "Au81DjOYSA_E",
        "colab_type": "text"
      },
      "source": [
        "The second semi-supervised method is **Label Spreading**. This choice was motivated by:\n",
        " * fast training\n",
        " * few hyperparameters to set\n",
        " * ready-to-use implementation in *scikit* \n",
        "\n",
        "Label Spreading is an graph algotihm where a node’s labels propagate to all nodes according to their proximity. *LabelSpreading* minimizes a loss function that has regularization properties. The algorithm iterates on a modified version of the original graph and normalizes the edge weights by computing the normalized graph Laplacian matrix. - by [scikit](https://scikit-learn.org/stable/modules/label_propagation.html#label-propagation)\n",
        "\n",
        "Parameters:\n",
        " * gamma - parameter for *rbf* kernel\n",
        " * max_iter - maximum number of iterations allowed\n",
        " * alpha - clamping factor - specifies the relative amount that an instance should adopt the information from its neighbors as opposed to its initial label\n",
        "\n",
        "*Scikit* also allows to choose kernel - *RBF* or *KNN*. After performing few preparatory tests, it turned out that *KNN* gives much worse results and is much slower, so we chose to test further only *RBF*.\n",
        "\n"
      ]
    },
    {
      "cell_type": "code",
      "metadata": {
        "id": "yw79GnKsRNyz",
        "colab_type": "code",
        "colab": {}
      },
      "source": [
        "class LabelProp:\n",
        "  def __init__(self, X_train, y_train, unlabeled):\n",
        "    self.X_train = X_train\n",
        "    self.y_train = y_train\n",
        "    self.unlabeled = unlabeled.copy()\n",
        "    self.unlabeled = unlabeled.drop(\"category_id\", axis=1)\n",
        "    self.unlabeled.columns = list(np.arange(len(self.unlabeled.columns)))\n",
        "    self.unlabeled['category_id'] = -1*np.ones((len(self.unlabeled)))\n",
        "    self.model = None\n",
        "  \n",
        "  def train(self, gamma, max_iter, alpha):\n",
        "    X = pd.DataFrame(X_train)\n",
        "    X['category_id'] = y_train\n",
        "    X = pd.concat([X, self.unlabeled], axis=0)\n",
        "    X = X.sample(frac=1)\n",
        "    Y = X.iloc[:,-1]\n",
        "    X = X.iloc[:, :-1]\n",
        "    self.model = LabelSpreading(gamma=gamma, max_iter=max_iter, alpha=alpha)\n",
        "    self.model.fit(X, Y)\n",
        "\n",
        "  def predict(self, X_test):\n",
        "    if self.model is None:\n",
        "      print(\"ERROR. No model\")\n",
        "    else:\n",
        "      return self.model.predict(X_test)"
      ],
      "execution_count": 0,
      "outputs": []
    },
    {
      "cell_type": "markdown",
      "metadata": {
        "id": "qGjr3Nq3pnwO",
        "colab_type": "text"
      },
      "source": [
        "We will test some parameters with grid search and choose parameters, which give best results.\n"
      ]
    },
    {
      "cell_type": "code",
      "metadata": {
        "id": "jBPzcdQlWrzn",
        "colab_type": "code",
        "outputId": "6a7dcc41-76c0-4f3a-8ebc-0b5daef04b26",
        "colab": {
          "base_uri": "https://localhost:8080/",
          "height": 521
        }
      },
      "source": [
        "parameters = {\n",
        "  'gamma': [0.01, 0.02, 0.1],\n",
        "  'max_iter': [5, 10, 30],\n",
        "  'alpha': [0.1, 0.2, 0.5]\n",
        "}\n",
        "grid = ParameterGrid(parameters)\n",
        "\n",
        "for params in grid:\n",
        "  labelProp = LabelProp(X_res, y_res, df.loc[df.category_id.isna()])\n",
        "  labelProp.train(gamma=params['gamma'], max_iter=params['max_iter'], alpha=params['alpha'])\n",
        "  y_pred = labelProp.predict(X_val)\n",
        "  print(\" gamma: \", params['gamma'], \" max_iter: \", params['max_iter'], \" alpha: \", params['alpha'], \n",
        "        \" score: \", f1_score(y_val, y_pred, average='weighted'))"
      ],
      "execution_count": 0,
      "outputs": [
        {
          "output_type": "stream",
          "text": [
            " gamma:  0.01  max_iter:  5  alpha:  0.1  score:  0.3966882432635857\n",
            " gamma:  0.01  max_iter:  10  alpha:  0.1  score:  0.3966882432635857\n",
            " gamma:  0.01  max_iter:  30  alpha:  0.1  score:  0.3966882432635857\n",
            " gamma:  0.02  max_iter:  5  alpha:  0.1  score:  0.4738282677256825\n",
            " gamma:  0.02  max_iter:  10  alpha:  0.1  score:  0.4738282677256825\n",
            " gamma:  0.02  max_iter:  30  alpha:  0.1  score:  0.4738282677256825\n",
            " gamma:  0.1  max_iter:  5  alpha:  0.1  score:  0.3919255782269481\n",
            " gamma:  0.1  max_iter:  10  alpha:  0.1  score:  0.3919255782269481\n",
            " gamma:  0.1  max_iter:  30  alpha:  0.1  score:  0.3919255782269481\n",
            " gamma:  0.01  max_iter:  5  alpha:  0.2  score:  0.3966882432635857\n",
            " gamma:  0.01  max_iter:  10  alpha:  0.2  score:  0.3966882432635857\n",
            " gamma:  0.01  max_iter:  30  alpha:  0.2  score:  0.3966882432635857\n",
            " gamma:  0.02  max_iter:  5  alpha:  0.2  score:  0.48701857279617156\n",
            " gamma:  0.02  max_iter:  10  alpha:  0.2  score:  0.48701857279617156\n",
            " gamma:  0.02  max_iter:  30  alpha:  0.2  score:  0.48701857279617156\n",
            " gamma:  0.1  max_iter:  5  alpha:  0.2  score:  0.3910606229349965\n",
            " gamma:  0.1  max_iter:  10  alpha:  0.2  score:  0.3906921217734168\n",
            " gamma:  0.1  max_iter:  30  alpha:  0.2  score:  0.3906921217734168\n",
            " gamma:  0.01  max_iter:  5  alpha:  0.5  score:  0.4152641878669276\n",
            " gamma:  0.01  max_iter:  10  alpha:  0.5  score:  0.4152641878669276\n",
            " gamma:  0.01  max_iter:  30  alpha:  0.5  score:  0.4152641878669276\n",
            " gamma:  0.02  max_iter:  5  alpha:  0.5  score:  0.427421463843704\n",
            " gamma:  0.02  max_iter:  10  alpha:  0.5  score:  0.427421463843704\n",
            " gamma:  0.02  max_iter:  30  alpha:  0.5  score:  0.427421463843704\n",
            " gamma:  0.1  max_iter:  5  alpha:  0.5  score:  0.40053272450532723\n",
            " gamma:  0.1  max_iter:  10  alpha:  0.5  score:  0.40259879016858274\n",
            " gamma:  0.1  max_iter:  30  alpha:  0.5  score:  0.40259879016858274\n"
          ],
          "name": "stdout"
        }
      ]
    },
    {
      "cell_type": "markdown",
      "metadata": {
        "id": "WxVW10TTp0zX",
        "colab_type": "text"
      },
      "source": [
        "We will train classifier with best parameters on the training + validation set and then test it on the test set."
      ]
    },
    {
      "cell_type": "code",
      "metadata": {
        "id": "q3JGNUYRoSLQ",
        "colab_type": "code",
        "colab": {}
      },
      "source": [
        "labelProp = LabelProp(X_all, y_all, df.loc[df.category_id.isna()])\n",
        "labelProp.train(gamma=0.02, max_iter=5, alpha=0.2)"
      ],
      "execution_count": 0,
      "outputs": []
    },
    {
      "cell_type": "code",
      "metadata": {
        "id": "FyQwkUrmoGgZ",
        "colab_type": "code",
        "outputId": "c13281ec-9022-42f5-fc94-d2c492ee30e4",
        "colab": {
          "base_uri": "https://localhost:8080/",
          "height": 92
        }
      },
      "source": [
        "print('Test set:')\n",
        "y_test_pred = labelProp.predict(X_test)\n",
        "print(f1_score(y_test, y_test_pred, average='weighted'))\n",
        "print('Train set:')\n",
        "y_train_pred = labelProp.predict(X_all)\n",
        "print(f1_score(y_all, y_train_pred, average='weighted'));"
      ],
      "execution_count": 0,
      "outputs": [
        {
          "output_type": "stream",
          "text": [
            "Test set:\n",
            "0.4349259999259999\n",
            "Train set:\n",
            "0.9704004986398205\n"
          ],
          "name": "stdout"
        }
      ]
    },
    {
      "cell_type": "markdown",
      "metadata": {
        "id": "Em2-1OsQxczD",
        "colab_type": "text"
      },
      "source": [
        "As we can see, in spite of regularization included in *LabelSpreading*, the classifier is strongly overfitted."
      ]
    },
    {
      "cell_type": "markdown",
      "metadata": {
        "id": "f9rPqF64qZpF",
        "colab_type": "text"
      },
      "source": [
        "### Method choice"
      ]
    },
    {
      "cell_type": "markdown",
      "metadata": {
        "id": "Ed4TK9VdrOrs",
        "colab_type": "text"
      },
      "source": [
        "The first method - **Self Learning** obtained better results for the test set - 52% in comparison to **Label Spreading** - only 43%. \n",
        "\n",
        "Label Spreading was much faster than Self Learning, however. \n",
        "\n",
        "Both methods use regularization, but still problem with overfitting is present. Self learning can be used with different classifiers, therefore it is more flexible.\n",
        "\n",
        "With main criterion, which is weighted score on F1 metric, we choose to use **Self Learning** with **Logistic Regression** in further considerations."
      ]
    }
  ]
}