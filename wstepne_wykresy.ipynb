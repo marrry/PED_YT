{
 "cells": [
  {
   "cell_type": "markdown",
   "metadata": {},
   "source": [
    "# Projekt Eksploracji Danych Youtube Trending"
   ]
  },
  {
   "cell_type": "markdown",
   "metadata": {},
   "source": [
    "## Import bibliotek"
   ]
  },
  {
   "cell_type": "code",
   "execution_count": 126,
   "metadata": {},
   "outputs": [],
   "source": [
    "import pandas as pd\n",
    "import numpy as np\n",
    "import matplotlib.pyplot as plt\n",
    "import matplotlib.style as style \n",
    "import seaborn as sns\n",
    "from pandas.plotting import register_matplotlib_converters\n",
    "register_matplotlib_converters() # To plot dates on histograms' axis\n",
    "import itertools\n",
    "from collections import Counter\n",
    "from wordcloud import WordCloud\n",
    "from nltk import sent_tokenize, word_tokenize\n",
    "from nltk.corpus import stopwords"
   ]
  },
  {
   "cell_type": "code",
   "execution_count": 41,
   "metadata": {},
   "outputs": [],
   "source": [
    "style.use('seaborn-poster') # sets the size of the charts\n",
    "style.use('ggplot')"
   ]
  },
  {
   "cell_type": "markdown",
   "metadata": {},
   "source": [
    "## Wczytanie danych"
   ]
  },
  {
   "cell_type": "code",
   "execution_count": 42,
   "metadata": {},
   "outputs": [],
   "source": [
    "data_gb = pd.read_csv(\"./youtube_data/GB_videos_5p.csv\", sep=\";\")\n",
    "data_us = pd.read_csv(\"./youtube_data/US_videos_5p.csv\", sep=\";\")\n",
    "data = pd.concat([data_gb, data_us])"
   ]
  },
  {
   "cell_type": "code",
   "execution_count": 43,
   "metadata": {},
   "outputs": [
    {
     "data": {
      "text/plain": [
       "(79816, 16)"
      ]
     },
     "execution_count": 43,
     "metadata": {},
     "output_type": "execute_result"
    }
   ],
   "source": [
    "data.shape"
   ]
  },
  {
   "cell_type": "markdown",
   "metadata": {},
   "source": [
    "Łącznie, dane z obu plików zawierają 79816 wierszy, z których każdy opisany jest za pomocą następujących atrybutów:"
   ]
  },
  {
   "cell_type": "code",
   "execution_count": 44,
   "metadata": {},
   "outputs": [
    {
     "name": "stdout",
     "output_type": "stream",
     "text": [
      "<class 'pandas.core.frame.DataFrame'>\n",
      "Int64Index: 79816 entries, 0 to 40948\n",
      "Data columns (total 16 columns):\n",
      "video_id                  79816 non-null object\n",
      "trending_date             79816 non-null object\n",
      "title                     79816 non-null object\n",
      "channel_title             79816 non-null object\n",
      "category_id               3930 non-null float64\n",
      "publish_time              79816 non-null object\n",
      "tags                      79816 non-null object\n",
      "views                     79816 non-null int64\n",
      "likes                     79816 non-null int64\n",
      "dislikes                  79816 non-null int64\n",
      "comment_count             79816 non-null int64\n",
      "thumbnail_link            79816 non-null object\n",
      "comments_disabled         79816 non-null bool\n",
      "ratings_disabled          79816 non-null bool\n",
      "video_error_or_removed    79816 non-null bool\n",
      "description               78634 non-null object\n",
      "dtypes: bool(3), float64(1), int64(4), object(8)\n",
      "memory usage: 8.8+ MB\n"
     ]
    }
   ],
   "source": [
    "data.info()"
   ]
  },
  {
   "cell_type": "markdown",
   "metadata": {},
   "source": [
    "Przykładowe dane:"
   ]
  },
  {
   "cell_type": "code",
   "execution_count": 45,
   "metadata": {},
   "outputs": [
    {
     "data": {
      "text/html": [
       "<div>\n",
       "<style scoped>\n",
       "    .dataframe tbody tr th:only-of-type {\n",
       "        vertical-align: middle;\n",
       "    }\n",
       "\n",
       "    .dataframe tbody tr th {\n",
       "        vertical-align: top;\n",
       "    }\n",
       "\n",
       "    .dataframe thead th {\n",
       "        text-align: right;\n",
       "    }\n",
       "</style>\n",
       "<table border=\"1\" class=\"dataframe\">\n",
       "  <thead>\n",
       "    <tr style=\"text-align: right;\">\n",
       "      <th></th>\n",
       "      <th>video_id</th>\n",
       "      <th>trending_date</th>\n",
       "      <th>title</th>\n",
       "      <th>channel_title</th>\n",
       "      <th>category_id</th>\n",
       "      <th>publish_time</th>\n",
       "      <th>tags</th>\n",
       "      <th>views</th>\n",
       "      <th>likes</th>\n",
       "      <th>dislikes</th>\n",
       "      <th>comment_count</th>\n",
       "      <th>thumbnail_link</th>\n",
       "      <th>comments_disabled</th>\n",
       "      <th>ratings_disabled</th>\n",
       "      <th>video_error_or_removed</th>\n",
       "      <th>description</th>\n",
       "    </tr>\n",
       "  </thead>\n",
       "  <tbody>\n",
       "    <tr>\n",
       "      <th>0</th>\n",
       "      <td>Jw1Y-zhQURU</td>\n",
       "      <td>17.14.11</td>\n",
       "      <td>John Lewis Christmas Ad 2017 - #MozTheMonster</td>\n",
       "      <td>John Lewis</td>\n",
       "      <td>NaN</td>\n",
       "      <td>2017-11-10T07:38:29.000Z</td>\n",
       "      <td>christmas|\"john lewis christmas\"|\"john lewis\"|...</td>\n",
       "      <td>7224515</td>\n",
       "      <td>55681</td>\n",
       "      <td>10247</td>\n",
       "      <td>9479</td>\n",
       "      <td>https://i.ytimg.com/vi/Jw1Y-zhQURU/default.jpg</td>\n",
       "      <td>False</td>\n",
       "      <td>False</td>\n",
       "      <td>False</td>\n",
       "      <td>Click here to continue the story and make your...</td>\n",
       "    </tr>\n",
       "    <tr>\n",
       "      <th>1</th>\n",
       "      <td>3s1rvMFUweQ</td>\n",
       "      <td>17.14.11</td>\n",
       "      <td>Taylor Swift: …Ready for It? (Live) - SNL</td>\n",
       "      <td>Saturday Night Live</td>\n",
       "      <td>NaN</td>\n",
       "      <td>2017-11-12T06:24:44.000Z</td>\n",
       "      <td>SNL|\"Saturday Night Live\"|\"SNL Season 43\"|\"Epi...</td>\n",
       "      <td>1053632</td>\n",
       "      <td>25561</td>\n",
       "      <td>2294</td>\n",
       "      <td>2757</td>\n",
       "      <td>https://i.ytimg.com/vi/3s1rvMFUweQ/default.jpg</td>\n",
       "      <td>False</td>\n",
       "      <td>False</td>\n",
       "      <td>False</td>\n",
       "      <td>Musical guest Taylor Swift performs …Ready for...</td>\n",
       "    </tr>\n",
       "    <tr>\n",
       "      <th>2</th>\n",
       "      <td>n1WpP7iowLc</td>\n",
       "      <td>17.14.11</td>\n",
       "      <td>Eminem - Walk On Water (Audio) ft. Beyoncé</td>\n",
       "      <td>EminemVEVO</td>\n",
       "      <td>NaN</td>\n",
       "      <td>2017-11-10T17:00:03.000Z</td>\n",
       "      <td>Eminem|\"Walk\"|\"On\"|\"Water\"|\"Aftermath/Shady/In...</td>\n",
       "      <td>17158579</td>\n",
       "      <td>787420</td>\n",
       "      <td>43420</td>\n",
       "      <td>125882</td>\n",
       "      <td>https://i.ytimg.com/vi/n1WpP7iowLc/default.jpg</td>\n",
       "      <td>False</td>\n",
       "      <td>False</td>\n",
       "      <td>False</td>\n",
       "      <td>Eminem's new track Walk on Water ft. Beyoncé i...</td>\n",
       "    </tr>\n",
       "    <tr>\n",
       "      <th>3</th>\n",
       "      <td>PUTEiSjKwJU</td>\n",
       "      <td>17.14.11</td>\n",
       "      <td>Goals from Salford City vs Class of 92 and Fri...</td>\n",
       "      <td>Salford City Football Club</td>\n",
       "      <td>NaN</td>\n",
       "      <td>2017-11-13T02:30:38.000Z</td>\n",
       "      <td>Salford City FC|\"Salford City\"|\"Salford\"|\"Clas...</td>\n",
       "      <td>27833</td>\n",
       "      <td>193</td>\n",
       "      <td>12</td>\n",
       "      <td>37</td>\n",
       "      <td>https://i.ytimg.com/vi/PUTEiSjKwJU/default.jpg</td>\n",
       "      <td>False</td>\n",
       "      <td>False</td>\n",
       "      <td>False</td>\n",
       "      <td>Salford drew 4-4 against the Class of 92 and F...</td>\n",
       "    </tr>\n",
       "    <tr>\n",
       "      <th>4</th>\n",
       "      <td>rHwDegptbI4</td>\n",
       "      <td>17.14.11</td>\n",
       "      <td>Dashcam captures truck's near miss with child ...</td>\n",
       "      <td>Cute Girl Videos</td>\n",
       "      <td>NaN</td>\n",
       "      <td>2017-11-13T01:45:13.000Z</td>\n",
       "      <td>[none]</td>\n",
       "      <td>9815</td>\n",
       "      <td>30</td>\n",
       "      <td>2</td>\n",
       "      <td>30</td>\n",
       "      <td>https://i.ytimg.com/vi/rHwDegptbI4/default.jpg</td>\n",
       "      <td>False</td>\n",
       "      <td>False</td>\n",
       "      <td>False</td>\n",
       "      <td>Dashcam captures truck's near miss with child ...</td>\n",
       "    </tr>\n",
       "  </tbody>\n",
       "</table>\n",
       "</div>"
      ],
      "text/plain": [
       "      video_id trending_date  \\\n",
       "0  Jw1Y-zhQURU      17.14.11   \n",
       "1  3s1rvMFUweQ      17.14.11   \n",
       "2  n1WpP7iowLc      17.14.11   \n",
       "3  PUTEiSjKwJU      17.14.11   \n",
       "4  rHwDegptbI4      17.14.11   \n",
       "\n",
       "                                               title  \\\n",
       "0      John Lewis Christmas Ad 2017 - #MozTheMonster   \n",
       "1          Taylor Swift: …Ready for It? (Live) - SNL   \n",
       "2         Eminem - Walk On Water (Audio) ft. Beyoncé   \n",
       "3  Goals from Salford City vs Class of 92 and Fri...   \n",
       "4  Dashcam captures truck's near miss with child ...   \n",
       "\n",
       "                channel_title  category_id              publish_time  \\\n",
       "0                  John Lewis          NaN  2017-11-10T07:38:29.000Z   \n",
       "1         Saturday Night Live          NaN  2017-11-12T06:24:44.000Z   \n",
       "2                  EminemVEVO          NaN  2017-11-10T17:00:03.000Z   \n",
       "3  Salford City Football Club          NaN  2017-11-13T02:30:38.000Z   \n",
       "4            Cute Girl Videos          NaN  2017-11-13T01:45:13.000Z   \n",
       "\n",
       "                                                tags     views   likes  \\\n",
       "0  christmas|\"john lewis christmas\"|\"john lewis\"|...   7224515   55681   \n",
       "1  SNL|\"Saturday Night Live\"|\"SNL Season 43\"|\"Epi...   1053632   25561   \n",
       "2  Eminem|\"Walk\"|\"On\"|\"Water\"|\"Aftermath/Shady/In...  17158579  787420   \n",
       "3  Salford City FC|\"Salford City\"|\"Salford\"|\"Clas...     27833     193   \n",
       "4                                             [none]      9815      30   \n",
       "\n",
       "   dislikes  comment_count                                  thumbnail_link  \\\n",
       "0     10247           9479  https://i.ytimg.com/vi/Jw1Y-zhQURU/default.jpg   \n",
       "1      2294           2757  https://i.ytimg.com/vi/3s1rvMFUweQ/default.jpg   \n",
       "2     43420         125882  https://i.ytimg.com/vi/n1WpP7iowLc/default.jpg   \n",
       "3        12             37  https://i.ytimg.com/vi/PUTEiSjKwJU/default.jpg   \n",
       "4         2             30  https://i.ytimg.com/vi/rHwDegptbI4/default.jpg   \n",
       "\n",
       "   comments_disabled  ratings_disabled  video_error_or_removed  \\\n",
       "0              False             False                   False   \n",
       "1              False             False                   False   \n",
       "2              False             False                   False   \n",
       "3              False             False                   False   \n",
       "4              False             False                   False   \n",
       "\n",
       "                                        description   \n",
       "0  Click here to continue the story and make your...  \n",
       "1  Musical guest Taylor Swift performs …Ready for...  \n",
       "2  Eminem's new track Walk on Water ft. Beyoncé i...  \n",
       "3  Salford drew 4-4 against the Class of 92 and F...  \n",
       "4  Dashcam captures truck's near miss with child ...  "
      ]
     },
     "execution_count": 45,
     "metadata": {},
     "output_type": "execute_result"
    }
   ],
   "source": [
    "data.head()"
   ]
  },
  {
   "cell_type": "markdown",
   "metadata": {},
   "source": [
    "## Analiza atrybutów"
   ]
  },
  {
   "cell_type": "markdown",
   "metadata": {},
   "source": [
    "### video_id"
   ]
  },
  {
   "cell_type": "code",
   "execution_count": 46,
   "metadata": {},
   "outputs": [
    {
     "data": {
      "text/plain": [
       "#NAZWA?        725\n",
       "8h--kFui1JA     65\n",
       "vjSohj-Iclc     62\n",
       "VYOjWnS4cMY     61\n",
       "l884wKofd54     60\n",
       "zxwfDlhJIpw     59\n",
       "UUkn-enk2RU     59\n",
       "BspHjvU11y4     59\n",
       "5GHXEGz3PJg     59\n",
       "CX11yw6YL1w     57\n",
       "vjI4Alon-3Q     56\n",
       "oWw1BcFhk-k     56\n",
       "tJfDBSWYqU8     56\n",
       "u_C4onVrr8U     55\n",
       "mdWcaWBxxcY     55\n",
       "ffxKSjUwKdU     55\n",
       "KUUjtUP2CrE     55\n",
       "i5qOzqD9Rms     55\n",
       "6SuMbFuKDf8     54\n",
       "pFc6I0rgmgY     54\n",
       "rxmtHVSVjdo     54\n",
       "iWZmdoY1aTE     53\n",
       "T4FAg5A4wQk     53\n",
       "M4ZoCHID9GI     52\n",
       "OAGfx7eB3gA     52\n",
       "DdLYSziSXII     52\n",
       "tjA7nAHOAww     52\n",
       "pcJo0tIWybY     51\n",
       "NukmFF__G-g     51\n",
       "Wpm07-BGJnE     51\n",
       "              ... \n",
       "eYf1IKFNHgM      1\n",
       "uzK1OmxS4CE      1\n",
       "aydY1eiGjgs      1\n",
       "qaSOyhK3gTM      1\n",
       "bhoFXkVy8JA      1\n",
       "uT3wso5Zp7k      1\n",
       "N-3NfWJHNhg      1\n",
       "CefAPPIkB8E      1\n",
       "G8gJ4RTBxcg      1\n",
       "SCnVbXlC1Ds      1\n",
       "D3uvvA7dyoI      1\n",
       "PitmObjGur4      1\n",
       "djlaHJCXT4o      1\n",
       "7m630xvAJtA      1\n",
       "ZzZ-BsiSamk      1\n",
       "9L4-DV1nVek      1\n",
       "ufOnBRXy3Pc      1\n",
       "uO_8d1t5Xh4      1\n",
       "tCnbAAgfxH8      1\n",
       "egXr0PU-kCY      1\n",
       "Zvg6b6q1s-Y      1\n",
       "BWhqHJtvbPo      1\n",
       "-0NYY8cqdiQ      1\n",
       "uEhv-4Eb9ms      1\n",
       "cgIbzjjbdw8      1\n",
       "UsXI9cvTb7E      1\n",
       "j3IYFeVwf5I      1\n",
       "oYvw0GryNs8      1\n",
       "t4NRe5NI5Gc      1\n",
       "PXWlnc-Qcwg      1\n",
       "Name: video_id, Length: 8510, dtype: int64"
      ]
     },
     "execution_count": 46,
     "metadata": {},
     "output_type": "execute_result"
    }
   ],
   "source": [
    "data.video_id.value_counts()"
   ]
  },
  {
   "cell_type": "markdown",
   "metadata": {},
   "source": [
    "Wśród danych 725 razy występuje `#NAZWA?`. Jest to błąd danych, który należy albo naprawić, albo usunąć wiersze z występującym błędem. Po przyjrzeniu się danym, można zauważyć, że dla każdego innego wiersza, wartość pola `video_id` występuje również w atrybucie `thumbnail_link` jako część linku do miniaturki filmu. Aby nie tracić danych, posłużono się tym atrybutem, wycinając ze ścieżki odpowiedni człon i zastąpiono nim błędne pole `video_id`."
   ]
  },
  {
   "cell_type": "code",
   "execution_count": 47,
   "metadata": {},
   "outputs": [],
   "source": [
    "def get_id(v_id, link):\n",
    "    if v_id == \"#NAZWA?\":\n",
    "        tokens = link.split('/')\n",
    "        return tokens[-2]\n",
    "    else: return v_id"
   ]
  },
  {
   "cell_type": "code",
   "execution_count": 48,
   "metadata": {},
   "outputs": [],
   "source": [
    "data['video_id'] = data.apply(lambda row : get_id(row.video_id, row.thumbnail_link), axis = 1) "
   ]
  },
  {
   "cell_type": "code",
   "execution_count": 49,
   "metadata": {},
   "outputs": [],
   "source": [
    "data.to_csv(\"./youtube_data/videos_5p.csv\", sep=\";\") # zapisujemy poprawione dane w celu późniejszego wykorzystania do komunikacji poprzez YT API"
   ]
  },
  {
   "cell_type": "code",
   "execution_count": 50,
   "metadata": {},
   "outputs": [
    {
     "data": {
      "text/plain": [
       "8h--kFui1JA    65\n",
       "vjSohj-Iclc    62\n",
       "VYOjWnS4cMY    61\n",
       "l884wKofd54    60\n",
       "BspHjvU11y4    59\n",
       "5GHXEGz3PJg    59\n",
       "UUkn-enk2RU    59\n",
       "zxwfDlhJIpw    59\n",
       "CX11yw6YL1w    57\n",
       "vjI4Alon-3Q    56\n",
       "oWw1BcFhk-k    56\n",
       "tJfDBSWYqU8    56\n",
       "ffxKSjUwKdU    55\n",
       "KUUjtUP2CrE    55\n",
       "i5qOzqD9Rms    55\n",
       "mdWcaWBxxcY    55\n",
       "u_C4onVrr8U    55\n",
       "pFc6I0rgmgY    54\n",
       "6SuMbFuKDf8    54\n",
       "rxmtHVSVjdo    54\n",
       "T4FAg5A4wQk    53\n",
       "iWZmdoY1aTE    53\n",
       "M4ZoCHID9GI    52\n",
       "DdLYSziSXII    52\n",
       "OAGfx7eB3gA    52\n",
       "tjA7nAHOAww    52\n",
       "kton-qrKNLc    51\n",
       "Wpm07-BGJnE    51\n",
       "pcJo0tIWybY    51\n",
       "NukmFF__G-g    51\n",
       "               ..\n",
       "ydRw4zylmbw     1\n",
       "5vQcI9phkyk     1\n",
       "w9JQf4Lw46g     1\n",
       "VRHhT9f6e0k     1\n",
       "1cUUfMeOijg     1\n",
       "RQpGCAkpEtY     1\n",
       "rXqh6AcIb-c     1\n",
       "Bu2Djx2ejlA     1\n",
       "eOcJ27xT99w     1\n",
       "SsmgtO1zAhg     1\n",
       "Q6Usd3_fbq8     1\n",
       "j3IYFeVwf5I     1\n",
       "s1yurGsRM_s     1\n",
       "QzfnWcHhdyQ     1\n",
       "IXJhN4cOVM0     1\n",
       "Lr8VpJ2GX2E     1\n",
       "3VbHg5fqBYw     1\n",
       "BEweWXa5Twk     1\n",
       "I-xZz2OabW0     1\n",
       "DJMyDoYkioY     1\n",
       "SC8Eg0odTfY     1\n",
       "P2z7Jwu5OfQ     1\n",
       "JlcJaCS4BPM     1\n",
       "rovAxg5A48Q     1\n",
       "48SbgzxKW-E     1\n",
       "HOblx_0Zyts     1\n",
       "kb1qAO9KB3k     1\n",
       "FZ_jNGKCIWs     1\n",
       "agKDPntMv-E     1\n",
       "oB3SAI2oCqk     1\n",
       "Name: video_id, Length: 8606, dtype: int64"
      ]
     },
     "execution_count": 50,
     "metadata": {},
     "output_type": "execute_result"
    }
   ],
   "source": [
    "data.video_id.value_counts()"
   ]
  },
  {
   "cell_type": "markdown",
   "metadata": {},
   "source": [
    "Atrybut `video_id` jest identyfikatorem filmu w serwisie YouTube. Wśród wszystkich wpisów występuje tylko 8606 unikalnych identyfikatorów, co oznacza, że większość filmów utrzymywała się na liście Trending przez dłuższy czas."
   ]
  },
  {
   "cell_type": "markdown",
   "metadata": {},
   "source": [
    "### trending_date"
   ]
  },
  {
   "cell_type": "code",
   "execution_count": 51,
   "metadata": {},
   "outputs": [],
   "source": [
    "data.trending_date = pd.to_datetime(data.trending_date, format=\"%y.%d.%m\")"
   ]
  },
  {
   "cell_type": "code",
   "execution_count": 52,
   "metadata": {},
   "outputs": [
    {
     "data": {
      "text/plain": [
       "<matplotlib.axes._subplots.AxesSubplot at 0xf8308d0>"
      ]
     },
     "execution_count": 52,
     "metadata": {},
     "output_type": "execute_result"
    },
    {
     "data": {
      "image/png": "[encoded data removed]",
      "text/plain": [
       "<Figure size 921.6x633.6 with 1 Axes>"
      ]
     },
     "metadata": {},
     "output_type": "display_data"
    }
   ],
   "source": [
    "data.trending_date.hist()"
   ]
  },
  {
   "cell_type": "markdown",
   "metadata": {},
   "source": [
    "Dane pochodzą z okresu od listopada 2017 roku do czerwca 2018 roku i są rozłożone równomiernie."
   ]
  },
  {
   "cell_type": "markdown",
   "metadata": {},
   "source": [
    "### title"
   ]
  },
  {
   "cell_type": "code",
   "execution_count": 53,
   "metadata": {},
   "outputs": [
    {
     "data": {
      "text/plain": [
       "<matplotlib.axes._subplots.AxesSubplot at 0xf830828>"
      ]
     },
     "execution_count": 53,
     "metadata": {},
     "output_type": "execute_result"
    },
    {
     "data": {
      "image/png": "[encoded data removed]",
      "text/plain": [
       "<Figure size 921.6x633.6 with 1 Axes>"
      ]
     },
     "metadata": {},
     "output_type": "display_data"
    }
   ],
   "source": [
    "data.title.value_counts()\n",
    "data.title.value_counts().hist()"
   ]
  },
  {
   "cell_type": "markdown",
   "metadata": {},
   "source": [
    "Większość filmów była na liście Trending raz lub kilka razy, natomiast zdarzały się również takie, które utrzymywały się przez długi okres czasu."
   ]
  },
  {
   "cell_type": "markdown",
   "metadata": {},
   "source": [
    "### Channel title"
   ]
  },
  {
   "cell_type": "code",
   "execution_count": 54,
   "metadata": {},
   "outputs": [
    {
     "data": {
      "text/plain": [
       "The Tonight Show Starring Jimmy Fallon    404\n",
       "TheEllenShow                              400\n",
       "Jimmy Kimmel Live                         393\n",
       "Saturday Night Live                       380\n",
       "Netflix                                   380\n",
       "Late Night with Seth Meyers               377\n",
       "The Late Show with Stephen Colbert        376\n",
       "The Late Late Show with James Corden      365\n",
       "WWE                                       361\n",
       "ESPN                                      334\n",
       "Warner Bros. Pictures                     318\n",
       "CNN                                       305\n",
       "WIRED                                     305\n",
       "Screen Junkies                            297\n",
       "Marvel Entertainment                      273\n",
       "20th Century Fox                          273\n",
       "Breakfast Club Power 105.1 FM             251\n",
       "Vogue                                     251\n",
       "SMTOWN                                    250\n",
       "Vox                                       248\n",
       "Star Wars                                 247\n",
       "BBC Radio 1                               241\n",
       "NBA                                       235\n",
       "The Voice                                 232\n",
       "HBO                                       230\n",
       "Movieclips Trailers                       225\n",
       "jypentertainment                          219\n",
       "INSIDER                                   217\n",
       "Sony Pictures Entertainment               209\n",
       "CollegeHumor                              205\n",
       "                                         ... \n",
       "Hot Dad                                     1\n",
       "onsetfacilities.com                         1\n",
       "CG Record                                   1\n",
       "Yvolution                                   1\n",
       "Simpsons Road Rage Gameplay                 1\n",
       "Jamie Demeter                               1\n",
       "Chris Sturgeon                              1\n",
       "PhilPhillipsVEVO                            1\n",
       "Алексей Навальный                           1\n",
       "MickMake                                    1\n",
       "misleadingsilhouette                        1\n",
       "shoaib246                                   1\n",
       "Freeform                                    1\n",
       "mike m                                      1\n",
       "M2                                          1\n",
       "WhatsApp Wacky                              1\n",
       "ClovesVEVO                                  1\n",
       "westfesttv                                  1\n",
       "Eurogamer                                   1\n",
       "Owen Harvey                                 1\n",
       "yeokm1                                      1\n",
       "Kylo Ren                                    1\n",
       "PetaPixel                                   1\n",
       "Семен Слепаков                              1\n",
       "CIRCUITBEARD                                1\n",
       "CoinDaddy                                   1\n",
       "ETC Show                                    1\n",
       "ram klim                                    1\n",
       "MrRevillz                                   1\n",
       "Ryan                                        1\n",
       "Name: channel_title, Length: 3099, dtype: int64"
      ]
     },
     "execution_count": 54,
     "metadata": {},
     "output_type": "execute_result"
    },
    {
     "data": {
      "image/png": "[encoded data removed]",
      "text/plain": [
       "<Figure size 921.6x633.6 with 1 Axes>"
      ]
     },
     "metadata": {},
     "output_type": "display_data"
    }
   ],
   "source": [
    "data.channel_title.value_counts().hist(bins=20)\n",
    "data.channel_title.value_counts()"
   ]
  },
  {
   "cell_type": "markdown",
   "metadata": {},
   "source": [
    "Niektóre kanały występują w danych znacznie częściej niż inne. Jest to spowodowane tym, że są to kanały znane globalnie, mające dużą ilość subskrybentów. Łatwiej im trafić do większej publiczności i zdobyć wysoką popularność filmów."
   ]
  },
  {
   "cell_type": "markdown",
   "metadata": {},
   "source": [
    "### category_id"
   ]
  },
  {
   "cell_type": "code",
   "execution_count": 55,
   "metadata": {},
   "outputs": [
    {
     "data": {
      "text/plain": [
       "95.07617520296682"
      ]
     },
     "execution_count": 55,
     "metadata": {},
     "output_type": "execute_result"
    }
   ],
   "source": [
    "data.category_id.value_counts(dropna=False)\n",
    "data.category_id.isnull().sum()*100/len(data)"
   ]
  },
  {
   "cell_type": "markdown",
   "metadata": {},
   "source": [
    "Nazwa kategorii jest pusta dla 95% przypadków. Jak wiemy z opisu ćwiczenia, uzupełnienie jej będzie jednym z zadań, dlatego na tym etapie pozostaje niezmieniona."
   ]
  },
  {
   "cell_type": "markdown",
   "metadata": {},
   "source": [
    "### publish_time"
   ]
  },
  {
   "cell_type": "code",
   "execution_count": 56,
   "metadata": {},
   "outputs": [],
   "source": [
    "data.publish_time.head()\n",
    "data.publish_time = pd.to_datetime(data.trending_date)"
   ]
  },
  {
   "cell_type": "code",
   "execution_count": 57,
   "metadata": {},
   "outputs": [
    {
     "data": {
      "text/plain": [
       "<matplotlib.axes._subplots.AxesSubplot at 0xebbd0b8>"
      ]
     },
     "execution_count": 57,
     "metadata": {},
     "output_type": "execute_result"
    },
    {
     "data": {
      "image/png": "[encoded data removed]",
      "text/plain": [
       "<Figure size 921.6x633.6 with 1 Axes>"
      ]
     },
     "metadata": {},
     "output_type": "display_data"
    }
   ],
   "source": [
    "data.publish_time.hist()"
   ]
  },
  {
   "cell_type": "markdown",
   "metadata": {},
   "source": [
    "### Tags"
   ]
  },
  {
   "cell_type": "code",
   "execution_count": 58,
   "metadata": {},
   "outputs": [
    {
     "data": {
      "text/plain": [
       "0    christmas|\"john lewis christmas\"|\"john lewis\"|...\n",
       "1    SNL|\"Saturday Night Live\"|\"SNL Season 43\"|\"Epi...\n",
       "2    Eminem|\"Walk\"|\"On\"|\"Water\"|\"Aftermath/Shady/In...\n",
       "3    Salford City FC|\"Salford City\"|\"Salford\"|\"Clas...\n",
       "4                                               [none]\n",
       "Name: tags, dtype: object"
      ]
     },
     "execution_count": 58,
     "metadata": {},
     "output_type": "execute_result"
    }
   ],
   "source": [
    "data.tags.head()"
   ]
  },
  {
   "cell_type": "code",
   "execution_count": 59,
   "metadata": {},
   "outputs": [
    {
     "data": {
      "text/plain": [
       "'christmas|\"john lewis christmas\"|\"john lewis\"|\"christmas ad\"|\"mozthemonster\"|\"christmas 2017\"|\"christmas ad 2017\"|\"john lewis christmas advert\"|\"moz\"'"
      ]
     },
     "execution_count": 59,
     "metadata": {},
     "output_type": "execute_result"
    }
   ],
   "source": [
    "data.tags.values[0]"
   ]
  },
  {
   "cell_type": "code",
   "execution_count": 60,
   "metadata": {},
   "outputs": [
    {
     "data": {
      "text/plain": [
       "['christmas',\n",
       " 'john lewis christmas',\n",
       " 'john lewis',\n",
       " 'christmas ad',\n",
       " 'mozthemonster',\n",
       " 'christmas 2017',\n",
       " 'christmas ad 2017',\n",
       " 'john lewis christmas advert',\n",
       " 'moz']"
      ]
     },
     "execution_count": 60,
     "metadata": {},
     "output_type": "execute_result"
    }
   ],
   "source": [
    "data.tags.values[0].replace('\"',\"\").split('|')"
   ]
  },
  {
   "cell_type": "code",
   "execution_count": 127,
   "metadata": {},
   "outputs": [],
   "source": [
    "def prepare_tags(tags):\n",
    "    return tags.replace('\"', '').split('|') if tags != '[none]' else None\n",
    "\n",
    "data['tags_split'] = data.tags.apply(prepare_tags)"
   ]
  },
  {
   "cell_type": "code",
   "execution_count": 128,
   "metadata": {},
   "outputs": [],
   "source": [
    "all_tags = [tags for tags in data.split_tags if tags != None]\n",
    "all_tags = list(itertools.chain.from_iterable(all_tags))\n",
    "tags100 = {a: b for a, b in Counter(all_tags).most_common(100)}"
   ]
  },
  {
   "cell_type": "code",
   "execution_count": 129,
   "metadata": {},
   "outputs": [],
   "source": [
    "wordcloud = WordCloud(background_color='white',\n",
    "                      max_words=50, \n",
    "                      max_font_size=40,\n",
    "                      random_state=42).generate_from_frequencies(tags100)"
   ]
  },
  {
   "cell_type": "code",
   "execution_count": 130,
   "metadata": {},
   "outputs": [
    {
     "data": {
      "text/plain": [
       "Text(0.5, 1.0, 'Most used tags')"
      ]
     },
     "execution_count": 130,
     "metadata": {},
     "output_type": "execute_result"
    },
    {
     "data": {
      "image/png": "[encoded data removed]",
      "text/plain": [
       "<Figure size 921.6x633.6 with 1 Axes>"
      ]
     },
     "metadata": {},
     "output_type": "display_data"
    }
   ],
   "source": [
    "plt.imshow(wordcloud, interpolation=\"bilinear\")\n",
    "plt.grid(b=None)\n",
    "plt.axis(\"off\")\n",
    "plt.title(\"Most used tags\")"
   ]
  },
  {
   "cell_type": "markdown",
   "metadata": {},
   "source": [
    "Na powyższej grafice przedstawiono najczęściej występujące tagi. Większość z nich związana jest z rozrywką i spędzaniem czasu wolnego."
   ]
  },
  {
   "cell_type": "markdown",
   "metadata": {},
   "source": [
    "### Views"
   ]
  },
  {
   "cell_type": "code",
   "execution_count": 65,
   "metadata": {},
   "outputs": [
    {
     "data": {
      "text/plain": [
       "count    7.981600e+04\n",
       "mean     4.089589e+06\n",
       "std      1.439442e+07\n",
       "min      5.490000e+02\n",
       "25%      2.462062e+05\n",
       "50%      7.952275e+05\n",
       "75%      2.533302e+06\n",
       "max      4.245389e+08\n",
       "Name: views, dtype: float64"
      ]
     },
     "execution_count": 65,
     "metadata": {},
     "output_type": "execute_result"
    }
   ],
   "source": [
    "data.views.describe()"
   ]
  },
  {
   "cell_type": "code",
   "execution_count": 66,
   "metadata": {},
   "outputs": [
    {
     "data": {
      "text/plain": [
       "<matplotlib.axes._subplots.AxesSubplot at 0x1e66eda0>"
      ]
     },
     "execution_count": 66,
     "metadata": {},
     "output_type": "execute_result"
    },
    {
     "data": {
      "image/png": "[encoded data removed]",
      "text/plain": [
       "<Figure size 921.6x633.6 with 1 Axes>"
      ]
     },
     "metadata": {},
     "output_type": "display_data"
    }
   ],
   "source": [
    "data.views.hist(bins=50)"
   ]
  },
  {
   "cell_type": "markdown",
   "metadata": {},
   "source": [
    "### Likes"
   ]
  },
  {
   "cell_type": "code",
   "execution_count": 67,
   "metadata": {},
   "outputs": [
    {
     "data": {
      "text/plain": [
       "count    7.981600e+04\n",
       "mean     1.036131e+05\n",
       "std      2.958002e+05\n",
       "min      0.000000e+00\n",
       "25%      5.637750e+03\n",
       "50%      2.090300e+04\n",
       "75%      7.816350e+04\n",
       "max      5.613827e+06\n",
       "Name: likes, dtype: float64"
      ]
     },
     "execution_count": 67,
     "metadata": {},
     "output_type": "execute_result"
    }
   ],
   "source": [
    "data.likes.describe()"
   ]
  },
  {
   "cell_type": "code",
   "execution_count": 68,
   "metadata": {},
   "outputs": [
    {
     "data": {
      "text/plain": [
       "<matplotlib.axes._subplots.AxesSubplot at 0x1e6f5e48>"
      ]
     },
     "execution_count": 68,
     "metadata": {},
     "output_type": "execute_result"
    },
    {
     "data": {
      "image/png": "[encoded data removed]",
      "text/plain": [
       "<Figure size 921.6x633.6 with 1 Axes>"
      ]
     },
     "metadata": {},
     "output_type": "display_data"
    }
   ],
   "source": [
    "data.likes.hist(bins=30)"
   ]
  },
  {
   "cell_type": "markdown",
   "metadata": {},
   "source": [
    "### Dislikes"
   ]
  },
  {
   "cell_type": "code",
   "execution_count": 69,
   "metadata": {},
   "outputs": [
    {
     "data": {
      "text/plain": [
       "count    7.981600e+04\n",
       "mean     5.612412e+03\n",
       "std      4.125681e+04\n",
       "min      0.000000e+00\n",
       "25%      2.010000e+02\n",
       "50%      7.110000e+02\n",
       "75%      2.526000e+03\n",
       "max      1.944971e+06\n",
       "Name: dislikes, dtype: float64"
      ]
     },
     "execution_count": 69,
     "metadata": {},
     "output_type": "execute_result"
    }
   ],
   "source": [
    "data.dislikes.describe()"
   ]
  },
  {
   "cell_type": "code",
   "execution_count": 70,
   "metadata": {},
   "outputs": [
    {
     "data": {
      "text/plain": [
       "<matplotlib.axes._subplots.AxesSubplot at 0x1e80d978>"
      ]
     },
     "execution_count": 70,
     "metadata": {},
     "output_type": "execute_result"
    },
    {
     "data": {
      "image/png": "[encoded data removed]",
      "text/plain": [
       "<Figure size 921.6x633.6 with 1 Axes>"
      ]
     },
     "metadata": {},
     "output_type": "display_data"
    }
   ],
   "source": [
    "data.dislikes.hist(bins=100)"
   ]
  },
  {
   "cell_type": "markdown",
   "metadata": {},
   "source": [
    "### Comment count"
   ]
  },
  {
   "cell_type": "code",
   "execution_count": 71,
   "metadata": {},
   "outputs": [
    {
     "data": {
      "text/plain": [
       "count    7.981600e+04\n",
       "mean     1.070894e+04\n",
       "std      4.444967e+04\n",
       "min      0.000000e+00\n",
       "25%      6.420000e+02\n",
       "50%      2.099000e+03\n",
       "75%      7.215000e+03\n",
       "max      1.626501e+06\n",
       "Name: comment_count, dtype: float64"
      ]
     },
     "execution_count": 71,
     "metadata": {},
     "output_type": "execute_result"
    }
   ],
   "source": [
    "data.comment_count.describe()"
   ]
  },
  {
   "cell_type": "code",
   "execution_count": 72,
   "metadata": {},
   "outputs": [
    {
     "data": {
      "text/plain": [
       "<matplotlib.axes._subplots.AxesSubplot at 0x1ea78860>"
      ]
     },
     "execution_count": 72,
     "metadata": {},
     "output_type": "execute_result"
    },
    {
     "data": {
      "image/png": "[encoded data removed]",
      "text/plain": [
       "<Figure size 921.6x633.6 with 1 Axes>"
      ]
     },
     "metadata": {},
     "output_type": "display_data"
    }
   ],
   "source": [
    "data.comment_count.hist(bins=100)"
   ]
  },
  {
   "cell_type": "markdown",
   "metadata": {},
   "source": [
    "Liczba wyświetleń, poozytywnych i negatywnych reakcji a także liczba komentarzy mają rozkład prawoskośny - w danych występuje mała liczba filmów o rekordowej oglądalności, wzbudzających bardzo dużo pozytywnych i negatywnych reakcji i komentarzy. Większość filmów jest do siebie zbliżona z globalnego punktu widzenia."
   ]
  },
  {
   "cell_type": "markdown",
   "metadata": {},
   "source": [
    "### Thumbnail_link"
   ]
  },
  {
   "cell_type": "code",
   "execution_count": 73,
   "metadata": {},
   "outputs": [
    {
     "data": {
      "text/plain": [
       "0    https://i.ytimg.com/vi/Jw1Y-zhQURU/default.jpg\n",
       "1    https://i.ytimg.com/vi/3s1rvMFUweQ/default.jpg\n",
       "2    https://i.ytimg.com/vi/n1WpP7iowLc/default.jpg\n",
       "3    https://i.ytimg.com/vi/PUTEiSjKwJU/default.jpg\n",
       "4    https://i.ytimg.com/vi/rHwDegptbI4/default.jpg\n",
       "Name: thumbnail_link, dtype: object"
      ]
     },
     "execution_count": 73,
     "metadata": {},
     "output_type": "execute_result"
    }
   ],
   "source": [
    "data.thumbnail_link.head()"
   ]
  },
  {
   "cell_type": "markdown",
   "metadata": {},
   "source": [
    "Wszystkie linki mają podobną strukturę: różnią się jedynie członem stanowiącym identyfikator filmu."
   ]
  },
  {
   "cell_type": "markdown",
   "metadata": {},
   "source": [
    "### comments_disabled"
   ]
  },
  {
   "cell_type": "code",
   "execution_count": 74,
   "metadata": {},
   "outputs": [
    {
     "data": {
      "text/plain": [
       "False    78501\n",
       "True      1315\n",
       "Name: comments_disabled, dtype: int64"
      ]
     },
     "execution_count": 74,
     "metadata": {},
     "output_type": "execute_result"
    }
   ],
   "source": [
    "data.comments_disabled.value_counts()"
   ]
  },
  {
   "cell_type": "markdown",
   "metadata": {},
   "source": [
    "Filmy z wyłączoną możliwością komentowania stanowią jedynie 1,65% całego zbioru danych. W dalszej części projektu ciekawym zagadnieniem może okazać się analiza tych filmów - jakie były prawdopodobne powody wyłączenia komentarzy oraz jednoczesna wysoka popularność - może były to komunikaty rządowe, kontrowersyjne treści, a może jeszcze inne? "
   ]
  },
  {
   "cell_type": "markdown",
   "metadata": {},
   "source": [
    "### Rating disabled"
   ]
  },
  {
   "cell_type": "code",
   "execution_count": 75,
   "metadata": {},
   "outputs": [
    {
     "data": {
      "text/plain": [
       "False    79376\n",
       "True       440\n",
       "Name: ratings_disabled, dtype: int64"
      ]
     },
     "execution_count": 75,
     "metadata": {},
     "output_type": "execute_result"
    }
   ],
   "source": [
    "data.ratings_disabled.value_counts()"
   ]
  },
  {
   "cell_type": "markdown",
   "metadata": {},
   "source": [
    "Filmy z wyłączoną możliwością oceniania stanowią 0,55% całego zbioru danych. Jak wyżej, analiza powodów takiej decyzji może być interesującym zagadnieniem."
   ]
  },
  {
   "cell_type": "markdown",
   "metadata": {},
   "source": [
    "### video_error_or_removed "
   ]
  },
  {
   "cell_type": "code",
   "execution_count": 76,
   "metadata": {},
   "outputs": [
    {
     "data": {
      "text/plain": [
       "False    79724\n",
       "True        92\n",
       "Name: video_error_or_removed, dtype: int64"
      ]
     },
     "execution_count": 76,
     "metadata": {},
     "output_type": "execute_result"
    }
   ],
   "source": [
    "data.video_error_or_removed.value_counts()"
   ]
  },
  {
   "cell_type": "markdown",
   "metadata": {},
   "source": [
    "Filmy usunięte lub powodujące błędy stanowią 0,12% całego zbioru danych. Być może niektóre z nich zdobyły popularność ze względu wysokiej kontrowersyjności i zostały z tego samego powodu usunięte? Może łamały prawa autorskie? Przyjrzymy się im w kolejnym etapie analizy."
   ]
  },
  {
   "cell_type": "markdown",
   "metadata": {},
   "source": [
    "**Can we remove those ones? --- jak będzie nam się chciało to ja bym z ciekwości poszukała co to są za filmy i dlaczego mogły zostać usunięte ---> Być może wnioskiem z całej analizy będzie \"Wrzuć na Jutuba film, który będzie obrażał wszystkich, byc może uda ci się być w trending zanim ktoś w YT się ogarnie\" XD Zrobiłabym sprawdzenie korelacji z liczbą dislikes.**"
   ]
  },
  {
   "cell_type": "markdown",
   "metadata": {},
   "source": [
    "### description"
   ]
  },
  {
   "cell_type": "code",
   "execution_count": 77,
   "metadata": {},
   "outputs": [],
   "source": [
    "data.columns = data.columns.str.replace('description ', 'description')"
   ]
  },
  {
   "cell_type": "code",
   "execution_count": 78,
   "metadata": {},
   "outputs": [
    {
     "data": {
      "text/plain": [
       "\"Click here to continue the story and make your own monster:\\\\nhttp://bit.ly/2mboXgj\\\\n\\\\nJoe befriends a noisy Monster under his bed but the two have so much fun together that he can't get to sleep, leaving him tired by day. For Christmas Joe receives a gift to help him finally get a good night’s sleep.\\\\n\\\\nShop the ad\\\\nhttp://bit.ly/2hg04Lc\\\\n\\\\nThe music is Golden Slumbers performed by elbow, the original song was by The Beatles. \\\\nFind the track:\\\\nhttps://Elbow.lnk.to/GoldenSlumbersXS\\\\n\\\\nSubscribe to this channel for regular video updates\\\\nhttp://bit.ly/2eU8MvW\\\\n\\\\nIf you want to hear more from John Lewis:\\\\n\\\\nLike John Lewis on Facebook\\\\nhttp://www.facebook.com/johnlewisretail\\\\n\\\\nFollow John Lewis on Twitter\\\\nhttp://twitter.com/johnlewisretail\\\\n\\\\nFollow John Lewis on Instagram\\\\nhttp://instagram.com/johnlewisretail\""
      ]
     },
     "execution_count": 78,
     "metadata": {},
     "output_type": "execute_result"
    }
   ],
   "source": [
    "data.description.values[0]"
   ]
  },
  {
   "cell_type": "markdown",
   "metadata": {},
   "source": [
    "## Wytworzenie atrybutów do predykcji"
   ]
  },
  {
   "cell_type": "markdown",
   "metadata": {},
   "source": [
    "Dostępne atrybuty są mniej lub bardziej informatywne dla postawionego problemu. Na przykład można zastanowić się, czy liczba pozytywnych reakcji sprzyja wyższej oglądalności, jednak nie jest to czynnik, który autor filmu ma pod kontrolą. Niektóre z artybutów można poddać dodatkowym operacjom mającym na celu ekstrakcję cech, które będą przydatne w procesie odkrywania wiedzy. Do takich atrybutów należą na pewno: `title`, `tags`, `description`. Atrybuty takie jak: `comments_disabled`, `ratings_disabled`, `comment_count`, `video_error_or_removed`, `dislikes`, `publish_time` mogą częściowo wchodzić w korelacje z innymi atrybutami (np. można spodziewać się, że w okresie świątecznym w tagach będzie przeważało słowo \"christmas\", flaga `video_error_or_removed` może być w zależności z liczbą negatywnych reakcji itp.). Atrybutami, których nie będziemy analizować w tej części są: `video_id` - ze względu na to, że jest to unikalny identyfikator filmu, `views` - niemożność bezpośredniego wpływu, `category_id` - brak danych z wiadomych przyczyn."
   ]
  },
  {
   "cell_type": "raw",
   "metadata": {},
   "source": [
    "Tokenization, bag of words, tf idf?"
   ]
  },
  {
   "cell_type": "markdown",
   "metadata": {},
   "source": [
    "Odnośnie dalszych działań to bym to widziała tak:\n",
    "- Dla każdego z {title, tags, description}:\n",
    "   \n",
    "    - tokenizacja\n",
    "    - usunięcie stopwords\n",
    "    - (lematyzacja/stemming)\n",
    "    - wytworzenie reprezentacji word2vec, tfidf, embeddings (nwm czy wszystkie, może tylko niektóre/jeden z nich albo inne)\n",
    "    - ? może wytworzenie jakiegoś/jakichś binarnych atrybutów mówiących o tym, czy posiada słowa, które w danym czasie były najbardziej \"na czasie\" - tzn. na przykład w lipcu mamy, że najczęściej pojawiają się \"science, independence, cat\" i atrybut miałby True, jeśli dla tego filmu też występuję jedno z nich np. \"science\"  **Bardzo podoba mi się pomysł**\n",
    "    - procentowa zawartość capital letters\n",
    "    - obecność znaków typu emotikony, wykrzykniki, znaki zapytania itp.\n",
    "    - długość całego tekstu\n",
    "    \n",
    "    \n",
    "- sprawdzenie prawdopodobnych korelacji, o których pisałam wyżej\n",
    "- Równolegle dobrze by było ogarnąć YouTube API i zacząć ściągać dane potrzebne do punktu 5"
   ]
  },
  {
   "cell_type": "markdown",
   "metadata": {},
   "source": [
    "Propozycje atrybutów tekstowych:,\n",
    " * Czy występuje link / ilość linków,\n",
    " * Czy opis zawiera tagi / ilość tagów zawartych w opisie,\n",
    " * Ilość tagów,    \n",
    " * Czy zawarty jest link do FB / Instagrama / SnapChata / Twittera... (lub czy w ogóle do jakichś mediów społecznościowych),\n",
    " * Długość opisu,\n",
    " * NLP - Proponuję użyć Tf-Idf by mieć punkt wyjścia i jednej DLowej metody - ELMO lub BERT (ja mam doświadczenie z ELMO),\n",
    " \n",
    "Atrybuty pozatekstowe:\n",
    "  * Czy opublikowane w weekend,\n",
    "  * Godzina publikacji (kodowanie atrybutu - ciekawy temat),\n",
    "  * Czy jest muzyką? (pytanie jak sprawdzić?),\n",
    "  * Czy komentarze wyłączone,\n",
    "  * Czy rating wyłączony"
   ]
  },
  {
   "cell_type": "code",
   "execution_count": 132,
   "metadata": {},
   "outputs": [],
   "source": [
    "def length(wordlist):\n",
    "    if wordlist is None: return 0\n",
    "    else: return len(wordlist)\n",
    "def onlyalpha(string):\n",
    "    return word_tokenize(''.join([char for char in string if char.isalpha() or char.isspace()]))\n",
    "def count_capitals(alphalist):\n",
    "    string = ''.join(alphalist)\n",
    "    if len(string) == 0:\n",
    "        return 0\n",
    "    else: return len([char for char in string if char.isupper()])/ len(string)"
   ]
  },
  {
   "cell_type": "code",
   "execution_count": 133,
   "metadata": {},
   "outputs": [],
   "source": [
    "data['title_split'] = data.title.apply(word_tokenize)\n",
    "data['title_alpha'] = data.title.apply(onlyalpha)\n",
    "data['title_num_words'] = data.title_alpha.apply(length)\n",
    "data['title_capital'] = data.title_alpha.apply(count_capitals)\n",
    "data['title_exc_count'] = data.apply(lambda row: row['title'].count('!'), axis=1)\n",
    "data['title_que_count'] = data.apply(lambda row: row['title'].count('?'), axis=1)"
   ]
  },
  {
   "cell_type": "code",
   "execution_count": 134,
   "metadata": {},
   "outputs": [
    {
     "data": {
      "text/html": [
       "<div>\n",
       "<style scoped>\n",
       "    .dataframe tbody tr th:only-of-type {\n",
       "        vertical-align: middle;\n",
       "    }\n",
       "\n",
       "    .dataframe tbody tr th {\n",
       "        vertical-align: top;\n",
       "    }\n",
       "\n",
       "    .dataframe thead th {\n",
       "        text-align: right;\n",
       "    }\n",
       "</style>\n",
       "<table border=\"1\" class=\"dataframe\">\n",
       "  <thead>\n",
       "    <tr style=\"text-align: right;\">\n",
       "      <th></th>\n",
       "      <th>video_id</th>\n",
       "      <th>title_split</th>\n",
       "      <th>title_alpha</th>\n",
       "      <th>title_num_words</th>\n",
       "      <th>title_capital</th>\n",
       "      <th>title_exc_count</th>\n",
       "      <th>title_que_count</th>\n",
       "    </tr>\n",
       "  </thead>\n",
       "  <tbody>\n",
       "    <tr>\n",
       "      <th>0</th>\n",
       "      <td>Jw1Y-zhQURU</td>\n",
       "      <td>[John, Lewis, Christmas, Ad, 2017, -, #, MozTh...</td>\n",
       "      <td>[John, Lewis, Christmas, Ad, MozTheMonster]</td>\n",
       "      <td>5</td>\n",
       "      <td>0.212121</td>\n",
       "      <td>0</td>\n",
       "      <td>0</td>\n",
       "    </tr>\n",
       "    <tr>\n",
       "      <th>1</th>\n",
       "      <td>3s1rvMFUweQ</td>\n",
       "      <td>[Taylor, Swift, :, …Ready, for, It, ?, (, Live...</td>\n",
       "      <td>[Taylor, Swift, Ready, for, It, Live, SNL]</td>\n",
       "      <td>7</td>\n",
       "      <td>0.285714</td>\n",
       "      <td>0</td>\n",
       "      <td>1</td>\n",
       "    </tr>\n",
       "    <tr>\n",
       "      <th>2</th>\n",
       "      <td>n1WpP7iowLc</td>\n",
       "      <td>[Eminem, -, Walk, On, Water, (, Audio, ), ft.,...</td>\n",
       "      <td>[Eminem, Walk, On, Water, Audio, ft, Beyoncé]</td>\n",
       "      <td>7</td>\n",
       "      <td>0.193548</td>\n",
       "      <td>0</td>\n",
       "      <td>0</td>\n",
       "    </tr>\n",
       "    <tr>\n",
       "      <th>3</th>\n",
       "      <td>PUTEiSjKwJU</td>\n",
       "      <td>[Goals, from, Salford, City, vs, Class, of, 92...</td>\n",
       "      <td>[Goals, from, Salford, City, vs, Class, of, an...</td>\n",
       "      <td>13</td>\n",
       "      <td>0.133333</td>\n",
       "      <td>1</td>\n",
       "      <td>0</td>\n",
       "    </tr>\n",
       "    <tr>\n",
       "      <th>4</th>\n",
       "      <td>rHwDegptbI4</td>\n",
       "      <td>[Dashcam, captures, truck, 's, near, miss, wit...</td>\n",
       "      <td>[Dashcam, captures, trucks, near, miss, with, ...</td>\n",
       "      <td>9</td>\n",
       "      <td>0.043478</td>\n",
       "      <td>0</td>\n",
       "      <td>0</td>\n",
       "    </tr>\n",
       "    <tr>\n",
       "      <th>5</th>\n",
       "      <td>AumaWl0TNBo</td>\n",
       "      <td>[How, My, Relationship, Started, !]</td>\n",
       "      <td>[How, My, Relationship, Started]</td>\n",
       "      <td>4</td>\n",
       "      <td>0.166667</td>\n",
       "      <td>1</td>\n",
       "      <td>0</td>\n",
       "    </tr>\n",
       "    <tr>\n",
       "      <th>6</th>\n",
       "      <td>2Vv-BfVoq4g</td>\n",
       "      <td>[Ed, Sheeran, -, Perfect, (, Official, Music, ...</td>\n",
       "      <td>[Ed, Sheeran, Perfect, Official, Music, Video]</td>\n",
       "      <td>6</td>\n",
       "      <td>0.176471</td>\n",
       "      <td>0</td>\n",
       "      <td>0</td>\n",
       "    </tr>\n",
       "    <tr>\n",
       "      <th>7</th>\n",
       "      <td>-N5eucPMTTc</td>\n",
       "      <td>[CHRISTMAS, HAS, GONE, TO, MY, HEAD]</td>\n",
       "      <td>[CHRISTMAS, HAS, GONE, TO, MY, HEAD]</td>\n",
       "      <td>6</td>\n",
       "      <td>1.000000</td>\n",
       "      <td>0</td>\n",
       "      <td>0</td>\n",
       "    </tr>\n",
       "    <tr>\n",
       "      <th>8</th>\n",
       "      <td>LMCuKltaY3M</td>\n",
       "      <td>[Elbow, -, Golden, Slumbers, (, John, Lewis, A...</td>\n",
       "      <td>[Elbow, Golden, Slumbers, John, Lewis, Advert]</td>\n",
       "      <td>6</td>\n",
       "      <td>0.176471</td>\n",
       "      <td>0</td>\n",
       "      <td>0</td>\n",
       "    </tr>\n",
       "    <tr>\n",
       "      <th>9</th>\n",
       "      <td>9t9u_yPEidY</td>\n",
       "      <td>[Jennifer, Lopez, -, Amor, ,, Amor, ,, Amor, (...</td>\n",
       "      <td>[Jennifer, Lopez, Amor, Amor, Amor, Official, ...</td>\n",
       "      <td>9</td>\n",
       "      <td>0.177778</td>\n",
       "      <td>0</td>\n",
       "      <td>0</td>\n",
       "    </tr>\n",
       "    <tr>\n",
       "      <th>10</th>\n",
       "      <td>ONQ-fAp5X64</td>\n",
       "      <td>[CAN, BABIES, DO, GYMNASTICS, ?, **World, Reco...</td>\n",
       "      <td>[CAN, BABIES, DO, GYMNASTICS, World, Record]</td>\n",
       "      <td>6</td>\n",
       "      <td>0.718750</td>\n",
       "      <td>0</td>\n",
       "      <td>1</td>\n",
       "    </tr>\n",
       "    <tr>\n",
       "      <th>11</th>\n",
       "      <td>Dlwf5u2BLAg</td>\n",
       "      <td>[TV, Reporter, Interviews, Alleged, Bank, Robb...</td>\n",
       "      <td>[TV, Reporter, Interviews, Alleged, Bank, Robb...</td>\n",
       "      <td>11</td>\n",
       "      <td>0.200000</td>\n",
       "      <td>0</td>\n",
       "      <td>0</td>\n",
       "    </tr>\n",
       "    <tr>\n",
       "      <th>12</th>\n",
       "      <td>NVCqz2BDfcQ</td>\n",
       "      <td>[Gucci, Mane, -, Curve, (, ft, ., The, Weeknd, )]</td>\n",
       "      <td>[Gucci, Mane, Curve, ft, The, Weeknd]</td>\n",
       "      <td>6</td>\n",
       "      <td>0.200000</td>\n",
       "      <td>0</td>\n",
       "      <td>0</td>\n",
       "    </tr>\n",
       "    <tr>\n",
       "      <th>13</th>\n",
       "      <td>MyEqfBkzESU</td>\n",
       "      <td>[EXTREME, GOLDEN, TAN, TRANSFORMATION]</td>\n",
       "      <td>[EXTREME, GOLDEN, TAN, TRANSFORMATION]</td>\n",
       "      <td>4</td>\n",
       "      <td>1.000000</td>\n",
       "      <td>0</td>\n",
       "      <td>0</td>\n",
       "    </tr>\n",
       "    <tr>\n",
       "      <th>14</th>\n",
       "      <td>b4vTZx_AtHk</td>\n",
       "      <td>[How, To, Dry, a, Shirt, in, 30, Seconds]</td>\n",
       "      <td>[How, To, Dry, a, Shirt, in, Seconds]</td>\n",
       "      <td>7</td>\n",
       "      <td>0.217391</td>\n",
       "      <td>0</td>\n",
       "      <td>0</td>\n",
       "    </tr>\n",
       "    <tr>\n",
       "      <th>15</th>\n",
       "      <td>BsfhHKx6ajA</td>\n",
       "      <td>[Attracting, An, Alpaca, With, An, Accordion, ...</td>\n",
       "      <td>[Attracting, An, Alpaca, With, An, Accordion, ...</td>\n",
       "      <td>8</td>\n",
       "      <td>0.181818</td>\n",
       "      <td>0</td>\n",
       "      <td>0</td>\n",
       "    </tr>\n",
       "    <tr>\n",
       "      <th>16</th>\n",
       "      <td>DIU3xPdhCBI</td>\n",
       "      <td>[Sam, Smith, surprises, brides, at, their, wed...</td>\n",
       "      <td>[Sam, Smith, surprises, brides, at, their, wed...</td>\n",
       "      <td>10</td>\n",
       "      <td>0.155556</td>\n",
       "      <td>1</td>\n",
       "      <td>0</td>\n",
       "    </tr>\n",
       "    <tr>\n",
       "      <th>17</th>\n",
       "      <td>pz95u3UVpaM</td>\n",
       "      <td>[Camila, Cabello, -, Havana, (, Vertical, Vide...</td>\n",
       "      <td>[Camila, Cabello, Havana, Vertical, Video, ft,...</td>\n",
       "      <td>8</td>\n",
       "      <td>0.162791</td>\n",
       "      <td>0</td>\n",
       "      <td>0</td>\n",
       "    </tr>\n",
       "    <tr>\n",
       "      <th>18</th>\n",
       "      <td>jp9hK-jY6yY</td>\n",
       "      <td>[When, Someone, Has, A, Crush, on, You, |, Lil...</td>\n",
       "      <td>[When, Someone, Has, A, Crush, on, You, Lilly,...</td>\n",
       "      <td>9</td>\n",
       "      <td>0.228571</td>\n",
       "      <td>0</td>\n",
       "      <td>0</td>\n",
       "    </tr>\n",
       "    <tr>\n",
       "      <th>19</th>\n",
       "      <td>gEHCXl4J9Qo</td>\n",
       "      <td>[Taylor, Swift, -, “, New, Year, ’, s, Day, ”,...</td>\n",
       "      <td>[Taylor, Swift, New, Years, Day, Fan, Performa...</td>\n",
       "      <td>7</td>\n",
       "      <td>0.194444</td>\n",
       "      <td>0</td>\n",
       "      <td>0</td>\n",
       "    </tr>\n",
       "    <tr>\n",
       "      <th>20</th>\n",
       "      <td>OWvCCu2t6Ts</td>\n",
       "      <td>[SO, Much, To, Tell, You, |, 32, Weeks, Pregna...</td>\n",
       "      <td>[SO, Much, To, Tell, You, Weeks, Pregnant, MOT...</td>\n",
       "      <td>8</td>\n",
       "      <td>0.473684</td>\n",
       "      <td>0</td>\n",
       "      <td>0</td>\n",
       "    </tr>\n",
       "    <tr>\n",
       "      <th>21</th>\n",
       "      <td>6p-QzY5bxJ0</td>\n",
       "      <td>[The, 'Stranger, Things, ', Kids, Were, Nearly...</td>\n",
       "      <td>[The, Stranger, Things, Kids, Were, Nearly, a,...</td>\n",
       "      <td>10</td>\n",
       "      <td>0.187500</td>\n",
       "      <td>0</td>\n",
       "      <td>0</td>\n",
       "    </tr>\n",
       "    <tr>\n",
       "      <th>22</th>\n",
       "      <td>fiusxyygqGk</td>\n",
       "      <td>[Marshmello, -, You, &amp;, Me, (, Official, Music...</td>\n",
       "      <td>[Marshmello, You, Me, Official, Music, Video]</td>\n",
       "      <td>6</td>\n",
       "      <td>0.181818</td>\n",
       "      <td>0</td>\n",
       "      <td>0</td>\n",
       "    </tr>\n",
       "    <tr>\n",
       "      <th>23</th>\n",
       "      <td>QOksZ8VogRw</td>\n",
       "      <td>[Bastille, -, World, Gone, Mad, (, from, Brigh...</td>\n",
       "      <td>[Bastille, World, Gone, Mad, from, Bright, The...</td>\n",
       "      <td>11</td>\n",
       "      <td>0.178571</td>\n",
       "      <td>0</td>\n",
       "      <td>0</td>\n",
       "    </tr>\n",
       "    <tr>\n",
       "      <th>24</th>\n",
       "      <td>lo5ERI5nPbM</td>\n",
       "      <td>[Sharon, Needles, -, Andy, Warhol, Is, Dead, [...</td>\n",
       "      <td>[Sharon, Needles, Andy, Warhol, Is, Dead, Offi...</td>\n",
       "      <td>7</td>\n",
       "      <td>0.189189</td>\n",
       "      <td>0</td>\n",
       "      <td>0</td>\n",
       "    </tr>\n",
       "    <tr>\n",
       "      <th>25</th>\n",
       "      <td>Ja_GMU7-sjs</td>\n",
       "      <td>[Google, Pixelbook, :, $, 1000, of, Weird, !]</td>\n",
       "      <td>[Google, Pixelbook, of, Weird]</td>\n",
       "      <td>4</td>\n",
       "      <td>0.136364</td>\n",
       "      <td>1</td>\n",
       "      <td>0</td>\n",
       "    </tr>\n",
       "    <tr>\n",
       "      <th>26</th>\n",
       "      <td>_6ViZ13mN9I</td>\n",
       "      <td>[GSP, and, Tyron, Woodley, Talk, About, Their,...</td>\n",
       "      <td>[GSP, and, Tyron, Woodley, Talk, About, Their,...</td>\n",
       "      <td>13</td>\n",
       "      <td>0.197183</td>\n",
       "      <td>0</td>\n",
       "      <td>0</td>\n",
       "    </tr>\n",
       "    <tr>\n",
       "      <th>27</th>\n",
       "      <td>F62QpaPWXDI</td>\n",
       "      <td>[THE, CHEAPEST, &amp;, BEST, EYESHADOWS, ?]</td>\n",
       "      <td>[THE, CHEAPEST, BEST, EYESHADOWS]</td>\n",
       "      <td>4</td>\n",
       "      <td>1.000000</td>\n",
       "      <td>0</td>\n",
       "      <td>1</td>\n",
       "    </tr>\n",
       "    <tr>\n",
       "      <th>28</th>\n",
       "      <td>g5c1bk8weaQ</td>\n",
       "      <td>[FIRST, TIME, IM, DOING, THIS, !, TALKS, WITH,...</td>\n",
       "      <td>[FIRST, TIME, IM, DOING, THIS, TALKS, WITH, LIZA]</td>\n",
       "      <td>8</td>\n",
       "      <td>1.000000</td>\n",
       "      <td>1</td>\n",
       "      <td>0</td>\n",
       "    </tr>\n",
       "    <tr>\n",
       "      <th>29</th>\n",
       "      <td>3qYt_fXdaXY</td>\n",
       "      <td>[Sweetie, destroys, Flav, (, Sweetie, vs, ., F...</td>\n",
       "      <td>[Sweetie, destroys, Flav, Sweetie, vs, Flavor,...</td>\n",
       "      <td>7</td>\n",
       "      <td>0.131579</td>\n",
       "      <td>0</td>\n",
       "      <td>0</td>\n",
       "    </tr>\n",
       "    <tr>\n",
       "      <th>...</th>\n",
       "      <td>...</td>\n",
       "      <td>...</td>\n",
       "      <td>...</td>\n",
       "      <td>...</td>\n",
       "      <td>...</td>\n",
       "      <td>...</td>\n",
       "      <td>...</td>\n",
       "    </tr>\n",
       "    <tr>\n",
       "      <th>40919</th>\n",
       "      <td>vDyYMcjf500</td>\n",
       "      <td>[The, History, of, Fortnite, Battle, Royale, -...</td>\n",
       "      <td>[The, History, of, Fortnite, Battle, Royale, D...</td>\n",
       "      <td>12</td>\n",
       "      <td>0.192982</td>\n",
       "      <td>0</td>\n",
       "      <td>1</td>\n",
       "    </tr>\n",
       "    <tr>\n",
       "      <th>40920</th>\n",
       "      <td>3Q2j5ApzSqs</td>\n",
       "      <td>[Christina, Aguilera, -, Fall, In, Line, (, Of...</td>\n",
       "      <td>[Christina, Aguilera, Fall, In, Line, Official...</td>\n",
       "      <td>10</td>\n",
       "      <td>0.173077</td>\n",
       "      <td>0</td>\n",
       "      <td>0</td>\n",
       "    </tr>\n",
       "    <tr>\n",
       "      <th>40921</th>\n",
       "      <td>GfxNGjfSKRY</td>\n",
       "      <td>[James, Bay, -, Delicate, (, Taylor, Swift, co...</td>\n",
       "      <td>[James, Bay, Delicate, Taylor, Swift, cover, i...</td>\n",
       "      <td>10</td>\n",
       "      <td>0.148936</td>\n",
       "      <td>0</td>\n",
       "      <td>0</td>\n",
       "    </tr>\n",
       "    <tr>\n",
       "      <th>40922</th>\n",
       "      <td>amtC28yfYCM</td>\n",
       "      <td>[Mindy, Kaling, Is, Mad, She, Was, n't, Invite...</td>\n",
       "      <td>[Mindy, Kaling, Is, Mad, She, Wasnt, Invited, ...</td>\n",
       "      <td>11</td>\n",
       "      <td>0.187500</td>\n",
       "      <td>0</td>\n",
       "      <td>0</td>\n",
       "    </tr>\n",
       "    <tr>\n",
       "      <th>40923</th>\n",
       "      <td>9NC2saE5MbQ</td>\n",
       "      <td>[Camels, vs, ., Cactus, !, !, !, جمل]</td>\n",
       "      <td>[Camels, vs, Cactus, جمل]</td>\n",
       "      <td>4</td>\n",
       "      <td>0.117647</td>\n",
       "      <td>3</td>\n",
       "      <td>0</td>\n",
       "    </tr>\n",
       "    <tr>\n",
       "      <th>40924</th>\n",
       "      <td>XdNOI-q70q4</td>\n",
       "      <td>[GIANT, Bowl, of, Lucky, Charms, CHALLENGE, (,...</td>\n",
       "      <td>[GIANT, Bowl, of, Lucky, Charms, CHALLENGE, Ca...</td>\n",
       "      <td>7</td>\n",
       "      <td>0.461538</td>\n",
       "      <td>0</td>\n",
       "      <td>0</td>\n",
       "    </tr>\n",
       "    <tr>\n",
       "      <th>40925</th>\n",
       "      <td>QgOXIEhHU1Y</td>\n",
       "      <td>[Diplo, ,, French, Montana, &amp;, Lil, Pump, ft.,...</td>\n",
       "      <td>[Diplo, French, Montana, Lil, Pump, ft, Zhavia...</td>\n",
       "      <td>13</td>\n",
       "      <td>0.190476</td>\n",
       "      <td>0</td>\n",
       "      <td>0</td>\n",
       "    </tr>\n",
       "    <tr>\n",
       "      <th>40926</th>\n",
       "      <td>SQsPvrev_bQ</td>\n",
       "      <td>[435]</td>\n",
       "      <td>[]</td>\n",
       "      <td>0</td>\n",
       "      <td>0.000000</td>\n",
       "      <td>0</td>\n",
       "      <td>0</td>\n",
       "    </tr>\n",
       "    <tr>\n",
       "      <th>40927</th>\n",
       "      <td>_1LdMWlNYS4</td>\n",
       "      <td>[That, Time, It, Rained, for, Two, Million, Ye...</td>\n",
       "      <td>[That, Time, It, Rained, for, Two, Million, Ye...</td>\n",
       "      <td>8</td>\n",
       "      <td>0.205882</td>\n",
       "      <td>0</td>\n",
       "      <td>0</td>\n",
       "    </tr>\n",
       "    <tr>\n",
       "      <th>40928</th>\n",
       "      <td>AFbu21AGSho</td>\n",
       "      <td>[Watch, a, Hercules, Beetle, Metamorphose, Bef...</td>\n",
       "      <td>[Watch, a, Hercules, Beetle, Metamorphose, Bef...</td>\n",
       "      <td>11</td>\n",
       "      <td>0.178571</td>\n",
       "      <td>0</td>\n",
       "      <td>0</td>\n",
       "    </tr>\n",
       "    <tr>\n",
       "      <th>40929</th>\n",
       "      <td>hHaUQh6Gx-Q</td>\n",
       "      <td>[Mustard, ,, Nick, Jonas, -, Anywhere]</td>\n",
       "      <td>[Mustard, Nick, Jonas, Anywhere]</td>\n",
       "      <td>4</td>\n",
       "      <td>0.166667</td>\n",
       "      <td>0</td>\n",
       "      <td>0</td>\n",
       "    </tr>\n",
       "    <tr>\n",
       "      <th>40930</th>\n",
       "      <td>wI89nVn6LHk</td>\n",
       "      <td>[Maddie, Poppe, Wins, American, Idol, 2018, -,...</td>\n",
       "      <td>[Maddie, Poppe, Wins, American, Idol, Finale, ...</td>\n",
       "      <td>10</td>\n",
       "      <td>0.220000</td>\n",
       "      <td>0</td>\n",
       "      <td>0</td>\n",
       "    </tr>\n",
       "    <tr>\n",
       "      <th>40931</th>\n",
       "      <td>oLDbO545aKQ</td>\n",
       "      <td>[Terrible, Magicians, |, Rudy, Mancuso, &amp;, Jua...</td>\n",
       "      <td>[Terrible, Magicians, Rudy, Mancuso, Juanpa, Z...</td>\n",
       "      <td>6</td>\n",
       "      <td>0.150000</td>\n",
       "      <td>0</td>\n",
       "      <td>0</td>\n",
       "    </tr>\n",
       "    <tr>\n",
       "      <th>40932</th>\n",
       "      <td>tiF9SzzzX_o</td>\n",
       "      <td>[The, Voice, 2018, Brynn, Cartelli, -, Finale,...</td>\n",
       "      <td>[The, Voice, Brynn, Cartelli, Finale, Skyfall]</td>\n",
       "      <td>6</td>\n",
       "      <td>0.176471</td>\n",
       "      <td>0</td>\n",
       "      <td>0</td>\n",
       "    </tr>\n",
       "    <tr>\n",
       "      <th>40933</th>\n",
       "      <td>Gs26bZTRkdU</td>\n",
       "      <td>[8, Survival, Myths, That, Will, Definitely, M...</td>\n",
       "      <td>[Survival, Myths, That, Will, Definitely, Make...</td>\n",
       "      <td>8</td>\n",
       "      <td>0.173913</td>\n",
       "      <td>0</td>\n",
       "      <td>0</td>\n",
       "    </tr>\n",
       "    <tr>\n",
       "      <th>40934</th>\n",
       "      <td>Qcj15vHJTtk</td>\n",
       "      <td>[Royal, Wedding, -, SNL]</td>\n",
       "      <td>[Royal, Wedding, SNL]</td>\n",
       "      <td>3</td>\n",
       "      <td>0.333333</td>\n",
       "      <td>0</td>\n",
       "      <td>0</td>\n",
       "    </tr>\n",
       "    <tr>\n",
       "      <th>40935</th>\n",
       "      <td>2in8XqiElwc</td>\n",
       "      <td>[Nicki, Minaj, -, Chun-Li, (, Live, on, SNL, /...</td>\n",
       "      <td>[Nicki, Minaj, ChunLi, Live, on, SNL]</td>\n",
       "      <td>6</td>\n",
       "      <td>0.320000</td>\n",
       "      <td>0</td>\n",
       "      <td>0</td>\n",
       "    </tr>\n",
       "    <tr>\n",
       "      <th>40936</th>\n",
       "      <td>Xr2rgT9uEnA</td>\n",
       "      <td>[LIE, DETECTOR, TEST, WITH, MY, GIRLFRIEND, !]</td>\n",
       "      <td>[LIE, DETECTOR, TEST, WITH, MY, GIRLFRIEND]</td>\n",
       "      <td>6</td>\n",
       "      <td>1.000000</td>\n",
       "      <td>1</td>\n",
       "      <td>0</td>\n",
       "    </tr>\n",
       "    <tr>\n",
       "      <th>40937</th>\n",
       "      <td>v7H_Or9Nr5I</td>\n",
       "      <td>[Lucas, the, Spider, -, Giant, Spider]</td>\n",
       "      <td>[Lucas, the, Spider, Giant, Spider]</td>\n",
       "      <td>5</td>\n",
       "      <td>0.160000</td>\n",
       "      <td>0</td>\n",
       "      <td>0</td>\n",
       "    </tr>\n",
       "    <tr>\n",
       "      <th>40938</th>\n",
       "      <td>n_W54baizX8</td>\n",
       "      <td>[Daddy, Yankee, -, Hielo, (, Video, Oficial, )]</td>\n",
       "      <td>[Daddy, Yankee, Hielo, Video, Oficial]</td>\n",
       "      <td>5</td>\n",
       "      <td>0.178571</td>\n",
       "      <td>0</td>\n",
       "      <td>0</td>\n",
       "    </tr>\n",
       "    <tr>\n",
       "      <th>40939</th>\n",
       "      <td>pcJo0tIWybY</td>\n",
       "      <td>[SZA, -, Garden, (, Say, It, Like, Dat, ), (, ...</td>\n",
       "      <td>[SZA, Garden, Say, It, Like, Dat, Official, Vi...</td>\n",
       "      <td>8</td>\n",
       "      <td>0.294118</td>\n",
       "      <td>0</td>\n",
       "      <td>0</td>\n",
       "    </tr>\n",
       "    <tr>\n",
       "      <th>40940</th>\n",
       "      <td>_QWZvU7VCn8</td>\n",
       "      <td>[Brad, Pitt, Bid, $, 120k, For, A, Night, With...</td>\n",
       "      <td>[Brad, Pitt, Bid, k, For, A, Night, With, Emil...</td>\n",
       "      <td>14</td>\n",
       "      <td>0.232143</td>\n",
       "      <td>1</td>\n",
       "      <td>0</td>\n",
       "    </tr>\n",
       "    <tr>\n",
       "      <th>40941</th>\n",
       "      <td>7UoP9ABJXGE</td>\n",
       "      <td>[Dan, +, Shay, -, Speechless, (, Wedding, Vide...</td>\n",
       "      <td>[Dan, Shay, Speechless, Wedding, Video]</td>\n",
       "      <td>5</td>\n",
       "      <td>0.172414</td>\n",
       "      <td>0</td>\n",
       "      <td>0</td>\n",
       "    </tr>\n",
       "    <tr>\n",
       "      <th>40942</th>\n",
       "      <td>ju_inUnrLc4</td>\n",
       "      <td>[Fifth, Harmony, -, Do, n't, Say, You, Love, Me]</td>\n",
       "      <td>[Fifth, Harmony, Dont, Say, You, Love, Me]</td>\n",
       "      <td>7</td>\n",
       "      <td>0.250000</td>\n",
       "      <td>0</td>\n",
       "      <td>0</td>\n",
       "    </tr>\n",
       "    <tr>\n",
       "      <th>40943</th>\n",
       "      <td>1PhPYr_9zRY</td>\n",
       "      <td>[BTS, Plays, With, Puppies, While, Answering, ...</td>\n",
       "      <td>[BTS, Plays, With, Puppies, While, Answering, ...</td>\n",
       "      <td>8</td>\n",
       "      <td>0.222222</td>\n",
       "      <td>0</td>\n",
       "      <td>0</td>\n",
       "    </tr>\n",
       "    <tr>\n",
       "      <th>40944</th>\n",
       "      <td>BZt0qjTWNhw</td>\n",
       "      <td>[The, Cat, Who, Caught, the, Laser]</td>\n",
       "      <td>[The, Cat, Who, Caught, the, Laser]</td>\n",
       "      <td>6</td>\n",
       "      <td>0.217391</td>\n",
       "      <td>0</td>\n",
       "      <td>0</td>\n",
       "    </tr>\n",
       "    <tr>\n",
       "      <th>40945</th>\n",
       "      <td>1h7KV2sjUWY</td>\n",
       "      <td>[True, Facts, :, Ant, Mutualism]</td>\n",
       "      <td>[True, Facts, Ant, Mutualism]</td>\n",
       "      <td>4</td>\n",
       "      <td>0.190476</td>\n",
       "      <td>0</td>\n",
       "      <td>0</td>\n",
       "    </tr>\n",
       "    <tr>\n",
       "      <th>40946</th>\n",
       "      <td>D6Oy4LfoqsU</td>\n",
       "      <td>[I, GAVE, SAFIYA, NYGAARD, A, PERFECT, HAIR, M...</td>\n",
       "      <td>[I, GAVE, SAFIYA, NYGAARD, A, PERFECT, HAIR, M...</td>\n",
       "      <td>14</td>\n",
       "      <td>0.867647</td>\n",
       "      <td>1</td>\n",
       "      <td>0</td>\n",
       "    </tr>\n",
       "    <tr>\n",
       "      <th>40947</th>\n",
       "      <td>oV0zkMe1K8s</td>\n",
       "      <td>[How, Black, Panther, Should, Have, Ended]</td>\n",
       "      <td>[How, Black, Panther, Should, Have, Ended]</td>\n",
       "      <td>6</td>\n",
       "      <td>0.200000</td>\n",
       "      <td>0</td>\n",
       "      <td>0</td>\n",
       "    </tr>\n",
       "    <tr>\n",
       "      <th>40948</th>\n",
       "      <td>ooyjaVdt-jA</td>\n",
       "      <td>[Official, Call, of, Duty®, :, Black, Ops, 4, ...</td>\n",
       "      <td>[Official, Call, of, Duty, Black, Ops, Multipl...</td>\n",
       "      <td>9</td>\n",
       "      <td>0.160000</td>\n",
       "      <td>0</td>\n",
       "      <td>0</td>\n",
       "    </tr>\n",
       "  </tbody>\n",
       "</table>\n",
       "<p>79816 rows × 7 columns</p>\n",
       "</div>"
      ],
      "text/plain": [
       "          video_id                                        title_split  \\\n",
       "0      Jw1Y-zhQURU  [John, Lewis, Christmas, Ad, 2017, -, #, MozTh...   \n",
       "1      3s1rvMFUweQ  [Taylor, Swift, :, …Ready, for, It, ?, (, Live...   \n",
       "2      n1WpP7iowLc  [Eminem, -, Walk, On, Water, (, Audio, ), ft.,...   \n",
       "3      PUTEiSjKwJU  [Goals, from, Salford, City, vs, Class, of, 92...   \n",
       "4      rHwDegptbI4  [Dashcam, captures, truck, 's, near, miss, wit...   \n",
       "5      AumaWl0TNBo                [How, My, Relationship, Started, !]   \n",
       "6      2Vv-BfVoq4g  [Ed, Sheeran, -, Perfect, (, Official, Music, ...   \n",
       "7      -N5eucPMTTc               [CHRISTMAS, HAS, GONE, TO, MY, HEAD]   \n",
       "8      LMCuKltaY3M  [Elbow, -, Golden, Slumbers, (, John, Lewis, A...   \n",
       "9      9t9u_yPEidY  [Jennifer, Lopez, -, Amor, ,, Amor, ,, Amor, (...   \n",
       "10     ONQ-fAp5X64  [CAN, BABIES, DO, GYMNASTICS, ?, **World, Reco...   \n",
       "11     Dlwf5u2BLAg  [TV, Reporter, Interviews, Alleged, Bank, Robb...   \n",
       "12     NVCqz2BDfcQ  [Gucci, Mane, -, Curve, (, ft, ., The, Weeknd, )]   \n",
       "13     MyEqfBkzESU             [EXTREME, GOLDEN, TAN, TRANSFORMATION]   \n",
       "14     b4vTZx_AtHk          [How, To, Dry, a, Shirt, in, 30, Seconds]   \n",
       "15     BsfhHKx6ajA  [Attracting, An, Alpaca, With, An, Accordion, ...   \n",
       "16     DIU3xPdhCBI  [Sam, Smith, surprises, brides, at, their, wed...   \n",
       "17     pz95u3UVpaM  [Camila, Cabello, -, Havana, (, Vertical, Vide...   \n",
       "18     jp9hK-jY6yY  [When, Someone, Has, A, Crush, on, You, |, Lil...   \n",
       "19     gEHCXl4J9Qo  [Taylor, Swift, -, “, New, Year, ’, s, Day, ”,...   \n",
       "20     OWvCCu2t6Ts  [SO, Much, To, Tell, You, |, 32, Weeks, Pregna...   \n",
       "21     6p-QzY5bxJ0  [The, 'Stranger, Things, ', Kids, Were, Nearly...   \n",
       "22     fiusxyygqGk  [Marshmello, -, You, &, Me, (, Official, Music...   \n",
       "23     QOksZ8VogRw  [Bastille, -, World, Gone, Mad, (, from, Brigh...   \n",
       "24     lo5ERI5nPbM  [Sharon, Needles, -, Andy, Warhol, Is, Dead, [...   \n",
       "25     Ja_GMU7-sjs      [Google, Pixelbook, :, $, 1000, of, Weird, !]   \n",
       "26     _6ViZ13mN9I  [GSP, and, Tyron, Woodley, Talk, About, Their,...   \n",
       "27     F62QpaPWXDI            [THE, CHEAPEST, &, BEST, EYESHADOWS, ?]   \n",
       "28     g5c1bk8weaQ  [FIRST, TIME, IM, DOING, THIS, !, TALKS, WITH,...   \n",
       "29     3qYt_fXdaXY  [Sweetie, destroys, Flav, (, Sweetie, vs, ., F...   \n",
       "...            ...                                                ...   \n",
       "40919  vDyYMcjf500  [The, History, of, Fortnite, Battle, Royale, -...   \n",
       "40920  3Q2j5ApzSqs  [Christina, Aguilera, -, Fall, In, Line, (, Of...   \n",
       "40921  GfxNGjfSKRY  [James, Bay, -, Delicate, (, Taylor, Swift, co...   \n",
       "40922  amtC28yfYCM  [Mindy, Kaling, Is, Mad, She, Was, n't, Invite...   \n",
       "40923  9NC2saE5MbQ              [Camels, vs, ., Cactus, !, !, !, جمل]   \n",
       "40924  XdNOI-q70q4  [GIANT, Bowl, of, Lucky, Charms, CHALLENGE, (,...   \n",
       "40925  QgOXIEhHU1Y  [Diplo, ,, French, Montana, &, Lil, Pump, ft.,...   \n",
       "40926  SQsPvrev_bQ                                              [435]   \n",
       "40927  _1LdMWlNYS4  [That, Time, It, Rained, for, Two, Million, Ye...   \n",
       "40928  AFbu21AGSho  [Watch, a, Hercules, Beetle, Metamorphose, Bef...   \n",
       "40929  hHaUQh6Gx-Q             [Mustard, ,, Nick, Jonas, -, Anywhere]   \n",
       "40930  wI89nVn6LHk  [Maddie, Poppe, Wins, American, Idol, 2018, -,...   \n",
       "40931  oLDbO545aKQ  [Terrible, Magicians, |, Rudy, Mancuso, &, Jua...   \n",
       "40932  tiF9SzzzX_o  [The, Voice, 2018, Brynn, Cartelli, -, Finale,...   \n",
       "40933  Gs26bZTRkdU  [8, Survival, Myths, That, Will, Definitely, M...   \n",
       "40934  Qcj15vHJTtk                           [Royal, Wedding, -, SNL]   \n",
       "40935  2in8XqiElwc  [Nicki, Minaj, -, Chun-Li, (, Live, on, SNL, /...   \n",
       "40936  Xr2rgT9uEnA     [LIE, DETECTOR, TEST, WITH, MY, GIRLFRIEND, !]   \n",
       "40937  v7H_Or9Nr5I             [Lucas, the, Spider, -, Giant, Spider]   \n",
       "40938  n_W54baizX8    [Daddy, Yankee, -, Hielo, (, Video, Oficial, )]   \n",
       "40939  pcJo0tIWybY  [SZA, -, Garden, (, Say, It, Like, Dat, ), (, ...   \n",
       "40940  _QWZvU7VCn8  [Brad, Pitt, Bid, $, 120k, For, A, Night, With...   \n",
       "40941  7UoP9ABJXGE  [Dan, +, Shay, -, Speechless, (, Wedding, Vide...   \n",
       "40942  ju_inUnrLc4   [Fifth, Harmony, -, Do, n't, Say, You, Love, Me]   \n",
       "40943  1PhPYr_9zRY  [BTS, Plays, With, Puppies, While, Answering, ...   \n",
       "40944  BZt0qjTWNhw                [The, Cat, Who, Caught, the, Laser]   \n",
       "40945  1h7KV2sjUWY                   [True, Facts, :, Ant, Mutualism]   \n",
       "40946  D6Oy4LfoqsU  [I, GAVE, SAFIYA, NYGAARD, A, PERFECT, HAIR, M...   \n",
       "40947  oV0zkMe1K8s         [How, Black, Panther, Should, Have, Ended]   \n",
       "40948  ooyjaVdt-jA  [Official, Call, of, Duty®, :, Black, Ops, 4, ...   \n",
       "\n",
       "                                             title_alpha  title_num_words  \\\n",
       "0            [John, Lewis, Christmas, Ad, MozTheMonster]                5   \n",
       "1             [Taylor, Swift, Ready, for, It, Live, SNL]                7   \n",
       "2          [Eminem, Walk, On, Water, Audio, ft, Beyoncé]                7   \n",
       "3      [Goals, from, Salford, City, vs, Class, of, an...               13   \n",
       "4      [Dashcam, captures, trucks, near, miss, with, ...                9   \n",
       "5                       [How, My, Relationship, Started]                4   \n",
       "6         [Ed, Sheeran, Perfect, Official, Music, Video]                6   \n",
       "7                   [CHRISTMAS, HAS, GONE, TO, MY, HEAD]                6   \n",
       "8         [Elbow, Golden, Slumbers, John, Lewis, Advert]                6   \n",
       "9      [Jennifer, Lopez, Amor, Amor, Amor, Official, ...                9   \n",
       "10          [CAN, BABIES, DO, GYMNASTICS, World, Record]                6   \n",
       "11     [TV, Reporter, Interviews, Alleged, Bank, Robb...               11   \n",
       "12                 [Gucci, Mane, Curve, ft, The, Weeknd]                6   \n",
       "13                [EXTREME, GOLDEN, TAN, TRANSFORMATION]                4   \n",
       "14                 [How, To, Dry, a, Shirt, in, Seconds]                7   \n",
       "15     [Attracting, An, Alpaca, With, An, Accordion, ...                8   \n",
       "16     [Sam, Smith, surprises, brides, at, their, wed...               10   \n",
       "17     [Camila, Cabello, Havana, Vertical, Video, ft,...                8   \n",
       "18     [When, Someone, Has, A, Crush, on, You, Lilly,...                9   \n",
       "19     [Taylor, Swift, New, Years, Day, Fan, Performa...                7   \n",
       "20     [SO, Much, To, Tell, You, Weeks, Pregnant, MOT...                8   \n",
       "21     [The, Stranger, Things, Kids, Were, Nearly, a,...               10   \n",
       "22         [Marshmello, You, Me, Official, Music, Video]                6   \n",
       "23     [Bastille, World, Gone, Mad, from, Bright, The...               11   \n",
       "24     [Sharon, Needles, Andy, Warhol, Is, Dead, Offi...                7   \n",
       "25                        [Google, Pixelbook, of, Weird]                4   \n",
       "26     [GSP, and, Tyron, Woodley, Talk, About, Their,...               13   \n",
       "27                     [THE, CHEAPEST, BEST, EYESHADOWS]                4   \n",
       "28     [FIRST, TIME, IM, DOING, THIS, TALKS, WITH, LIZA]                8   \n",
       "29     [Sweetie, destroys, Flav, Sweetie, vs, Flavor,...                7   \n",
       "...                                                  ...              ...   \n",
       "40919  [The, History, of, Fortnite, Battle, Royale, D...               12   \n",
       "40920  [Christina, Aguilera, Fall, In, Line, Official...               10   \n",
       "40921  [James, Bay, Delicate, Taylor, Swift, cover, i...               10   \n",
       "40922  [Mindy, Kaling, Is, Mad, She, Wasnt, Invited, ...               11   \n",
       "40923                          [Camels, vs, Cactus, جمل]                4   \n",
       "40924  [GIANT, Bowl, of, Lucky, Charms, CHALLENGE, Ca...                7   \n",
       "40925  [Diplo, French, Montana, Lil, Pump, ft, Zhavia...               13   \n",
       "40926                                                 []                0   \n",
       "40927  [That, Time, It, Rained, for, Two, Million, Ye...                8   \n",
       "40928  [Watch, a, Hercules, Beetle, Metamorphose, Bef...               11   \n",
       "40929                   [Mustard, Nick, Jonas, Anywhere]                4   \n",
       "40930  [Maddie, Poppe, Wins, American, Idol, Finale, ...               10   \n",
       "40931  [Terrible, Magicians, Rudy, Mancuso, Juanpa, Z...                6   \n",
       "40932     [The, Voice, Brynn, Cartelli, Finale, Skyfall]                6   \n",
       "40933  [Survival, Myths, That, Will, Definitely, Make...                8   \n",
       "40934                              [Royal, Wedding, SNL]                3   \n",
       "40935              [Nicki, Minaj, ChunLi, Live, on, SNL]                6   \n",
       "40936        [LIE, DETECTOR, TEST, WITH, MY, GIRLFRIEND]                6   \n",
       "40937                [Lucas, the, Spider, Giant, Spider]                5   \n",
       "40938             [Daddy, Yankee, Hielo, Video, Oficial]                5   \n",
       "40939  [SZA, Garden, Say, It, Like, Dat, Official, Vi...                8   \n",
       "40940  [Brad, Pitt, Bid, k, For, A, Night, With, Emil...               14   \n",
       "40941            [Dan, Shay, Speechless, Wedding, Video]                5   \n",
       "40942         [Fifth, Harmony, Dont, Say, You, Love, Me]                7   \n",
       "40943  [BTS, Plays, With, Puppies, While, Answering, ...                8   \n",
       "40944                [The, Cat, Who, Caught, the, Laser]                6   \n",
       "40945                      [True, Facts, Ant, Mutualism]                4   \n",
       "40946  [I, GAVE, SAFIYA, NYGAARD, A, PERFECT, HAIR, M...               14   \n",
       "40947         [How, Black, Panther, Should, Have, Ended]                6   \n",
       "40948  [Official, Call, of, Duty, Black, Ops, Multipl...                9   \n",
       "\n",
       "       title_capital  title_exc_count  title_que_count  \n",
       "0           0.212121                0                0  \n",
       "1           0.285714                0                1  \n",
       "2           0.193548                0                0  \n",
       "3           0.133333                1                0  \n",
       "4           0.043478                0                0  \n",
       "5           0.166667                1                0  \n",
       "6           0.176471                0                0  \n",
       "7           1.000000                0                0  \n",
       "8           0.176471                0                0  \n",
       "9           0.177778                0                0  \n",
       "10          0.718750                0                1  \n",
       "11          0.200000                0                0  \n",
       "12          0.200000                0                0  \n",
       "13          1.000000                0                0  \n",
       "14          0.217391                0                0  \n",
       "15          0.181818                0                0  \n",
       "16          0.155556                1                0  \n",
       "17          0.162791                0                0  \n",
       "18          0.228571                0                0  \n",
       "19          0.194444                0                0  \n",
       "20          0.473684                0                0  \n",
       "21          0.187500                0                0  \n",
       "22          0.181818                0                0  \n",
       "23          0.178571                0                0  \n",
       "24          0.189189                0                0  \n",
       "25          0.136364                1                0  \n",
       "26          0.197183                0                0  \n",
       "27          1.000000                0                1  \n",
       "28          1.000000                1                0  \n",
       "29          0.131579                0                0  \n",
       "...              ...              ...              ...  \n",
       "40919       0.192982                0                1  \n",
       "40920       0.173077                0                0  \n",
       "40921       0.148936                0                0  \n",
       "40922       0.187500                0                0  \n",
       "40923       0.117647                3                0  \n",
       "40924       0.461538                0                0  \n",
       "40925       0.190476                0                0  \n",
       "40926       0.000000                0                0  \n",
       "40927       0.205882                0                0  \n",
       "40928       0.178571                0                0  \n",
       "40929       0.166667                0                0  \n",
       "40930       0.220000                0                0  \n",
       "40931       0.150000                0                0  \n",
       "40932       0.176471                0                0  \n",
       "40933       0.173913                0                0  \n",
       "40934       0.333333                0                0  \n",
       "40935       0.320000                0                0  \n",
       "40936       1.000000                1                0  \n",
       "40937       0.160000                0                0  \n",
       "40938       0.178571                0                0  \n",
       "40939       0.294118                0                0  \n",
       "40940       0.232143                1                0  \n",
       "40941       0.172414                0                0  \n",
       "40942       0.250000                0                0  \n",
       "40943       0.222222                0                0  \n",
       "40944       0.217391                0                0  \n",
       "40945       0.190476                0                0  \n",
       "40946       0.867647                1                0  \n",
       "40947       0.200000                0                0  \n",
       "40948       0.160000                0                0  \n",
       "\n",
       "[79816 rows x 7 columns]"
      ]
     },
     "execution_count": 134,
     "metadata": {},
     "output_type": "execute_result"
    }
   ],
   "source": [
    "data[['video_id','title_split', 'title_alpha', 'title_num_words', 'title_capital', 'title_exc_count', 'title_que_count']]"
   ]
  },
  {
   "cell_type": "code",
   "execution_count": 135,
   "metadata": {},
   "outputs": [],
   "source": [
    "data['tags_count'] = data.tags_split.apply(length)"
   ]
  },
  {
   "cell_type": "code",
   "execution_count": 139,
   "metadata": {},
   "outputs": [
    {
     "data": {
      "text/html": [
       "<div>\n",
       "<style scoped>\n",
       "    .dataframe tbody tr th:only-of-type {\n",
       "        vertical-align: middle;\n",
       "    }\n",
       "\n",
       "    .dataframe tbody tr th {\n",
       "        vertical-align: top;\n",
       "    }\n",
       "\n",
       "    .dataframe thead th {\n",
       "        text-align: right;\n",
       "    }\n",
       "</style>\n",
       "<table border=\"1\" class=\"dataframe\">\n",
       "  <thead>\n",
       "    <tr style=\"text-align: right;\">\n",
       "      <th></th>\n",
       "      <th>video_id</th>\n",
       "      <th>tags</th>\n",
       "      <th>tags_split</th>\n",
       "      <th>tags_count</th>\n",
       "    </tr>\n",
       "  </thead>\n",
       "  <tbody>\n",
       "    <tr>\n",
       "      <th>0</th>\n",
       "      <td>Jw1Y-zhQURU</td>\n",
       "      <td>christmas|\"john lewis christmas\"|\"john lewis\"|...</td>\n",
       "      <td>[christmas, john lewis christmas, john lewis, ...</td>\n",
       "      <td>9</td>\n",
       "    </tr>\n",
       "    <tr>\n",
       "      <th>1</th>\n",
       "      <td>3s1rvMFUweQ</td>\n",
       "      <td>SNL|\"Saturday Night Live\"|\"SNL Season 43\"|\"Epi...</td>\n",
       "      <td>[SNL, Saturday Night Live, SNL Season 43, Epis...</td>\n",
       "      <td>36</td>\n",
       "    </tr>\n",
       "    <tr>\n",
       "      <th>2</th>\n",
       "      <td>n1WpP7iowLc</td>\n",
       "      <td>Eminem|\"Walk\"|\"On\"|\"Water\"|\"Aftermath/Shady/In...</td>\n",
       "      <td>[Eminem, Walk, On, Water, Aftermath/Shady/Inte...</td>\n",
       "      <td>6</td>\n",
       "    </tr>\n",
       "    <tr>\n",
       "      <th>3</th>\n",
       "      <td>PUTEiSjKwJU</td>\n",
       "      <td>Salford City FC|\"Salford City\"|\"Salford\"|\"Clas...</td>\n",
       "      <td>[Salford City FC, Salford City, Salford, Class...</td>\n",
       "      <td>9</td>\n",
       "    </tr>\n",
       "    <tr>\n",
       "      <th>4</th>\n",
       "      <td>rHwDegptbI4</td>\n",
       "      <td>[none]</td>\n",
       "      <td>None</td>\n",
       "      <td>0</td>\n",
       "    </tr>\n",
       "    <tr>\n",
       "      <th>5</th>\n",
       "      <td>AumaWl0TNBo</td>\n",
       "      <td>pointlessblog|\"pointlessblogtv\"|\"pointlessblog...</td>\n",
       "      <td>[pointlessblog, pointlessblogtv, pointlessblog...</td>\n",
       "      <td>38</td>\n",
       "    </tr>\n",
       "    <tr>\n",
       "      <th>6</th>\n",
       "      <td>2Vv-BfVoq4g</td>\n",
       "      <td>edsheeran|\"ed sheeran\"|\"acoustic\"|\"live\"|\"cove...</td>\n",
       "      <td>[edsheeran, ed sheeran, acoustic, live, cover,...</td>\n",
       "      <td>10</td>\n",
       "    </tr>\n",
       "    <tr>\n",
       "      <th>7</th>\n",
       "      <td>-N5eucPMTTc</td>\n",
       "      <td>zoe sugg|\"zoella\"|\"zoe\"|\"vlog\"|\"vlogging\"|\"vlo...</td>\n",
       "      <td>[zoe sugg, zoella, zoe, vlog, vlogging, vlogs,...</td>\n",
       "      <td>31</td>\n",
       "    </tr>\n",
       "  </tbody>\n",
       "</table>\n",
       "</div>"
      ],
      "text/plain": [
       "      video_id                                               tags  \\\n",
       "0  Jw1Y-zhQURU  christmas|\"john lewis christmas\"|\"john lewis\"|...   \n",
       "1  3s1rvMFUweQ  SNL|\"Saturday Night Live\"|\"SNL Season 43\"|\"Epi...   \n",
       "2  n1WpP7iowLc  Eminem|\"Walk\"|\"On\"|\"Water\"|\"Aftermath/Shady/In...   \n",
       "3  PUTEiSjKwJU  Salford City FC|\"Salford City\"|\"Salford\"|\"Clas...   \n",
       "4  rHwDegptbI4                                             [none]   \n",
       "5  AumaWl0TNBo  pointlessblog|\"pointlessblogtv\"|\"pointlessblog...   \n",
       "6  2Vv-BfVoq4g  edsheeran|\"ed sheeran\"|\"acoustic\"|\"live\"|\"cove...   \n",
       "7  -N5eucPMTTc  zoe sugg|\"zoella\"|\"zoe\"|\"vlog\"|\"vlogging\"|\"vlo...   \n",
       "\n",
       "                                          tags_split  tags_count  \n",
       "0  [christmas, john lewis christmas, john lewis, ...           9  \n",
       "1  [SNL, Saturday Night Live, SNL Season 43, Epis...          36  \n",
       "2  [Eminem, Walk, On, Water, Aftermath/Shady/Inte...           6  \n",
       "3  [Salford City FC, Salford City, Salford, Class...           9  \n",
       "4                                               None           0  \n",
       "5  [pointlessblog, pointlessblogtv, pointlessblog...          38  \n",
       "6  [edsheeran, ed sheeran, acoustic, live, cover,...          10  \n",
       "7  [zoe sugg, zoella, zoe, vlog, vlogging, vlogs,...          31  "
      ]
     },
     "execution_count": 139,
     "metadata": {},
     "output_type": "execute_result"
    }
   ],
   "source": [
    "data[['video_id','tags','tags_split', 'tags_count']].head(8)"
   ]
  },
  {
   "cell_type": "code",
   "execution_count": 141,
   "metadata": {},
   "outputs": [
    {
     "data": {
      "text/plain": [
       "0        Click here to continue the story and make your...\n",
       "1        Musical guest Taylor Swift performs …Ready for...\n",
       "2        Eminem's new track Walk on Water ft. Beyoncé i...\n",
       "3        Salford drew 4-4 against the Class of 92 and F...\n",
       "4        Dashcam captures truck's near miss with child ...\n",
       "5        ► HOW MY RELATIONSHIP STARTED!\\n► PB Merch • h...\n",
       "6        🎧: https://ad.gt/yt-perfect\\n💰: https://atlant...\n",
       "7        CHRISTMAS HAS GONE TO MY HEAD\\nPrevious Vlog: ...\n",
       "8        “Golden Slumbers”, originally by The Beatles, ...\n",
       "9        Jennifer Lopez ft. Wisin - Amor, Amor, Amor (O...\n",
       "10       ➢ Join my FREE 7 Steps to Success - http://www...\n",
       "11       More from Inside Edition: https://www.youtube....\n",
       "12       Gucci Mane - Curve feat. The Weeknd\\n\\n Mr. Da...\n",
       "13       -\\n\\n\\nWebsite - http://www.johnmaclean.co.uk\\...\n",
       "14       Today I show you how to completely dry a shirt...\n",
       "15       Trust us, there's nowhere else in the universe...\n",
       "16       You have to watch this! Sam serenades a couple...\n",
       "17       Havana – Spotify Vertical Video \\nVideo Direct...\n",
       "18       You know that feeling when someone has a crush...\n",
       "19       This intimate fan performance of Taylor Swift'...\n",
       "20       A big chat about everything going on in my pre...\n",
       "21       James and the young stars of Stranger Things -...\n",
       "22       PURCHASE YOU & ME HERE ▶ https://smarturl.it/m...\n",
       "23       Bastille - World Gone Mad from Bright: The Alb...\n",
       "24       A Geek Mythology Production \\n\\nDirector Ben S...\n",
       "25       Pixelbook is a $1000 2-in-1 laptop/tablet and ...\n",
       "26       Every Friday on TMZ Sports UFC Welterweight Ch...\n",
       "27       Subscribe and join the fam! http://www.youtube...\n",
       "28       Having kids, having anxiety and not having boo...\n",
       "29                                               episode 4\n",
       "                               ...                        \n",
       "40919    Thanks to Skillshare for sponsoring this video...\n",
       "40920    Pre-order Christina Aguilera’s new album ‘Libe...\n",
       "40921    James Bay covers Taylor Swift's Delicate in th...\n",
       "40922    Mindy Kaling chats with Jimmy about his though...\n",
       "40923    Dromedary camels tear through prickly pear cac...\n",
       "40924    Download Fortnite!! https://pixly.go2cloud.org...\n",
       "40925    Official Video | Diplo, French Montana & Lil P...\n",
       "40926    a random song laying around from the flower bo...\n",
       "40927    Check out our NEW POSTER: https://store.dftba....\n",
       "40928    Watch this beetle go from larvae to giant. The...\n",
       "40929    Anywhere Out Now! http://smarturl.it/AnywhereM...\n",
       "40930    Maddie Poppe the crowd the American Idol 2018 ...\n",
       "40931    WATCH MORE ▶ https://youtu.be/Q9_WGkd_svIWATCH...\n",
       "40932    Brynn Cartelli sings Adele's Skyfall during th...\n",
       "40933    You might think you know how to survive if you...\n",
       "40934    Footage from Prince Harry's (Mikey Day) weddin...\n",
       "40935    Chun-Li (Live on SNL / 2018)Song Available Her...\n",
       "40936    Talia: https://www.youtube.com/user/nataliahad...\n",
       "40937    Lucas is a tiny spider to some...giant arachni...\n",
       "40938    Daddy Yankee - Hielo (Video Oficial)Spotify: h...\n",
       "40939    SZA's CTRL available on:Apple Music - http://s...\n",
       "40940    Check out all that Emilia Clarke merch... Subs...\n",
       "40941    Stream + Download:https://wmna.sh/speechlessht...\n",
       "40942    Fifth Harmony available at iTunes http://smart...\n",
       "40943    BTS with the PPS, the puppies. These adorable ...\n",
       "40944       The Cat Who Caught the Laser - Aaron's Animals\n",
       "40945                                                  NaN\n",
       "40946    I had so much fun transforming Safiyas hair in...\n",
       "40947    How Black Panther Should Have EndedWatch More ...\n",
       "40948    Call of Duty: Black Ops 4 Multiplayer raises t...\n",
       "Name: description, Length: 79816, dtype: object"
      ]
     },
     "execution_count": 141,
     "metadata": {},
     "output_type": "execute_result"
    }
   ],
   "source": [
    "data['description']"
   ]
  },
  {
   "cell_type": "code",
   "execution_count": 145,
   "metadata": {},
   "outputs": [],
   "source": [
    "def tokenize(column):\n",
    "    if column is None:\n",
    "        return []\n",
    "    else: return word_tokenize(column)"
   ]
  },
  {
   "cell_type": "code",
   "execution_count": null,
   "metadata": {},
   "outputs": [],
   "source": [
    "data['desc_split'] = data.description.apply(tokenize)\n",
    "data['desc_alpha'] = data.description.apply(onlyalpha)\n",
    "data['desc_num_words'] = data.desc_alpha.apply(length)\n",
    "data['desc_capital'] = data.title_alpha.apply(count_capitals)\n",
    "data['desc_exc_count'] = data.apply(lambda row: row['description'].count('!'), axis=1)\n",
    "data['desc_que_count'] = data.apply(lambda row: row['description'].count('?'), axis=1)"
   ]
  }
 ],
 "metadata": {
  "kernelspec": {
   "display_name": "Python 3",
   "language": "python",
   "name": "python3"
  },
  "language_info": {
   "codemirror_mode": {
    "name": "ipython",
    "version": 3
   },
   "file_extension": ".py",
   "mimetype": "text/x-python",
   "name": "python",
   "nbconvert_exporter": "python",
   "pygments_lexer": "ipython3",
   "version": "3.6.7"
  }
 },
 "nbformat": 4,
 "nbformat_minor": 4
}
