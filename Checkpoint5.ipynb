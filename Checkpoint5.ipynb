{
  "nbformat": 4,
  "nbformat_minor": 0,
  "metadata": {
    "colab": {
      "name": "Copy of Checkpoint 5.ipynb",
      "provenance": [],
      "collapsed_sections": [],
      "toc_visible": true
    },
    "kernelspec": {
      "name": "python3",
      "display_name": "Python 3"
    }
  },
  "cells": [
    {
      "cell_type": "markdown",
      "metadata": {
        "id": "Yp2urnz5llFC",
        "colab_type": "text"
      },
      "source": [
        "## Etap 5 - Zbieranie danych i weryfikacja wyników\n",
        "* Pozyskanie ground truth z YouTube API (spójnego z ustaloną charakterystyką\n",
        "danych)\n",
        "* Weryfikacja wyników w oparciu o porównanie uzyskanych wyników z tzw. ground\n",
        "truth\n",
        "* Skorzystanie z YouTube API aby pozyskać dane nie-trending\n",
        "* Dane powinny być kompatybilne z naszymi trending - generalnie ten sam okres,\n",
        "równie popularne, zgodność atrybutów, itd.\n",
        "* Oczyszczenie i zintegrowanie danych non-trending\n",
        "* Odfiltrowanie nieinteresujących nas kategorii\n",
        "* Ewentualne zweryfikowanie ważności atrybutów wybranych we wcześniejszym\n",
        "etapie  \n",
        "\n",
        "\n",
        "* OCENA (15%)\n",
        "  * 5% ground truth + weryfikacja wyników z semi-supervised learning\n",
        "  * 6% zgromadzenie odpowiednich danych kontrastujących z trending\n",
        "  * 4% przygotowanie danych non-trending, odfiltrowanie niektórych kategorii"
      ]
    },
    {
      "cell_type": "markdown",
      "metadata": {
        "id": "PiNYKMkQ0bfG",
        "colab_type": "text"
      },
      "source": [
        "The following files are needed to run the code:\n",
        "* _data_checkpoint4.csv_\n",
        "* _data_c12.hdf_\n",
        "* _categories_gt.csv_\n",
        "* _bestLogReg.joblib_\n",
        "* _data_checkpoint5.csv_\n"
      ]
    },
    {
      "cell_type": "markdown",
      "metadata": {
        "id": "EpQ247dVpXIt",
        "colab_type": "text"
      },
      "source": [
        "## Constants"
      ]
    },
    {
      "cell_type": "code",
      "metadata": {
        "id": "4g6rMmeVpSNg",
        "colab_type": "code",
        "colab": {}
      },
      "source": [
        "DATA_FILE = 'data_checkpoint4.csv'\n",
        "DATA_OLD = 'data_c12.hdf'\n",
        "DATA_GT = 'categories_gt.csv'\n",
        "DATA_NT = 'data_checkpoint5.csv'\n",
        "CLASSIFIER = 'bestLogReg.joblib'\n",
        "RANDOM_STATE = 1996"
      ],
      "execution_count": 0,
      "outputs": []
    },
    {
      "cell_type": "code",
      "metadata": {
        "id": "VXZudOEaqvEz",
        "colab_type": "code",
        "colab": {}
      },
      "source": [
        "!pip install --upgrade tables\n",
        "!pip install langdetect"
      ],
      "execution_count": 0,
      "outputs": []
    },
    {
      "cell_type": "code",
      "metadata": {
        "id": "T-_n2e-dkrjR",
        "colab_type": "code",
        "colab": {}
      },
      "source": [
        "from google.colab import drive # Google Drive connection\n",
        "from joblib import Memory # Memmory cache\n",
        "\n",
        "# Pandas\n",
        "import pandas as pd\n",
        "# progress_apply\n",
        "from tqdm.auto import tqdm  \n",
        "tqdm.pandas()\n",
        "\n",
        "from os import cpu_count\n",
        "from os import path # joinging path\n",
        "import numpy as np\n",
        "import matplotlib.pyplot as plt\n",
        "import matplotlib.style as style \n",
        "import seaborn as sns\n",
        "import langdetect\n",
        "\n",
        "# Scikit\n",
        "from sklearn.model_selection import train_test_split\n",
        "from sklearn.linear_model import LogisticRegression\n",
        "from sklearn.metrics import classification_report\n",
        "from sklearn.metrics import confusion_matrix\n",
        "from sklearn.neural_network import MLPClassifier\n",
        "from sklearn.model_selection import ParameterGrid\n",
        "from copy import deepcopy\n",
        "from sklearn.semi_supervised import LabelSpreading\n",
        "from sklearn.metrics import f1_score\n",
        "\n",
        "# loading model\n",
        "from joblib import load\n",
        "\n",
        "# disable warnings\n",
        "import warnings\n",
        "warnings.filterwarnings('ignore')\n",
        "warnings.simplefilter('ignore')"
      ],
      "execution_count": 0,
      "outputs": []
    },
    {
      "cell_type": "markdown",
      "metadata": {
        "id": "XKMHRZkzppQ2",
        "colab_type": "text"
      },
      "source": [
        "## Google Drive"
      ]
    },
    {
      "cell_type": "code",
      "metadata": {
        "id": "Fk0mIauBpnMR",
        "colab_type": "code",
        "colab": {}
      },
      "source": [
        "# Mount google drive and load data\n",
        "drive.mount('/content/drive')\n",
        "\n",
        "drive_path = \"/content/drive/My Drive/\"\n",
        "data_path = path.join(drive_path , 'datasets/youtube_data')\n",
        "image_path = path.join(data_path, 'images')\n",
        "cache_path = path.join(drive_path, 'cache')\n",
        "\n",
        "# Set cache\n",
        "memory = Memory(location=cache_path, verbose=0)"
      ],
      "execution_count": 0,
      "outputs": []
    },
    {
      "cell_type": "markdown",
      "metadata": {
        "id": "9wU7vxrZ1KmK",
        "colab_type": "text"
      },
      "source": [
        "## Loading files"
      ]
    },
    {
      "cell_type": "code",
      "metadata": {
        "id": "lLIOmfpEpPpp",
        "colab_type": "code",
        "colab": {}
      },
      "source": [
        "df = pd.read_csv(path.join(data_path, DATA_FILE))\n",
        "df_old = pd.read_hdf(path.join(data_path, DATA_OLD))\n",
        "ground_truth = pd.read_csv(path.join(data_path, DATA_GT), sep=\";\")\n",
        "clf = load(path.join(data_path, CLASSIFIER))"
      ],
      "execution_count": 0,
      "outputs": []
    },
    {
      "cell_type": "markdown",
      "metadata": {
        "id": "1E9yauQK02bB",
        "colab_type": "text"
      },
      "source": [
        "## Retrieving ground-truth"
      ]
    },
    {
      "cell_type": "code",
      "metadata": {
        "id": "3VL6Xw5Nq_mh",
        "colab_type": "code",
        "colab": {}
      },
      "source": [
        "def find_cat(x):\n",
        "  cat = ground_truth[ground_truth.video_id == x].category_id.values\n",
        "  if len(cat) == 0:\n",
        "    return None\n",
        "  if len(cat) == 1:\n",
        "    return cat[0]\n",
        "  else:\n",
        "    raise ValueError(\"More than one category matching\")\n",
        "\n",
        "df_old[\"true_cat\"] = df_old.video_id.apply(find_cat)\n",
        "mapping = df_old[[\"video_id\", \"true_cat\"]]"
      ],
      "execution_count": 0,
      "outputs": []
    },
    {
      "cell_type": "code",
      "metadata": {
        "id": "HcjW9DXIrN28",
        "colab_type": "code",
        "colab": {}
      },
      "source": [
        "X = df.drop(columns=['category_id']).to_numpy()\n",
        "y_true = mapping.loc[:,'true_cat'].to_numpy()"
      ],
      "execution_count": 0,
      "outputs": []
    },
    {
      "cell_type": "code",
      "metadata": {
        "id": "IdBxzrV07DHt",
        "colab_type": "code",
        "outputId": "f5253b32-ba77-49cc-fcf4-b404d4a86d47",
        "colab": {
          "base_uri": "https://localhost:8080/",
          "height": 36
        }
      },
      "source": [
        "sum(np.isnan(y_true))"
      ],
      "execution_count": 0,
      "outputs": [
        {
          "output_type": "execute_result",
          "data": {
            "text/plain": [
              "674"
            ]
          },
          "metadata": {
            "tags": []
          },
          "execution_count": 8
        }
      ]
    },
    {
      "cell_type": "markdown",
      "metadata": {
        "id": "55j-hpM97MFe",
        "colab_type": "text"
      },
      "source": [
        "Some videos in ground truth are missing cattegory. We will remove them."
      ]
    },
    {
      "cell_type": "code",
      "metadata": {
        "id": "868odRzW7BhZ",
        "colab_type": "code",
        "colab": {}
      },
      "source": [
        "to_remove = np.where(np.isnan(y_true))\n",
        "X = np.delete(X, to_remove, axis=0)\n",
        "y_true = np.delete(y_true, to_remove)"
      ],
      "execution_count": 0,
      "outputs": []
    },
    {
      "cell_type": "code",
      "metadata": {
        "id": "hlMoNEmc2EHC",
        "colab_type": "code",
        "outputId": "dcbc155b-59ca-4a33-8fb5-69cd905e668d",
        "colab": {
          "base_uri": "https://localhost:8080/",
          "height": 54
        }
      },
      "source": [
        "print(X.shape)\n",
        "print(y_true.shape)"
      ],
      "execution_count": 0,
      "outputs": [
        {
          "output_type": "stream",
          "text": [
            "(7932, 914)\n",
            "(7932,)\n"
          ],
          "name": "stdout"
        }
      ]
    },
    {
      "cell_type": "markdown",
      "metadata": {
        "id": "C44TaVf17W2i",
        "colab_type": "text"
      },
      "source": [
        "## Prediction verification with ground-truth"
      ]
    },
    {
      "cell_type": "code",
      "metadata": {
        "id": "FJ8qhhHk2RD7",
        "colab_type": "code",
        "outputId": "31b46d1d-3712-4ee4-adfc-226a78f0a96a",
        "colab": {
          "base_uri": "https://localhost:8080/",
          "height": 36
        }
      },
      "source": [
        "from sklearn.metrics import f1_score, accuracy_score\n",
        "y_pred = clf.predict(X)\n",
        "result = f1_score(y_true, y_pred, zero_division=1, average=\"weighted\")*100\n",
        "print(\"Weighted F1-Score = %.2f%%\" % result)"
      ],
      "execution_count": 0,
      "outputs": [
        {
          "output_type": "stream",
          "text": [
            "Weighted F1-Score = 47.75%\n"
          ],
          "name": "stdout"
        }
      ]
    },
    {
      "cell_type": "markdown",
      "metadata": {
        "id": "7z0EUGyM4PkW",
        "colab_type": "text"
      },
      "source": [
        "We've achieved a _Weighted F1-score_ equal to **47.75%**.  \n",
        "The value is lover than the one we reported on the _test set_: **54%**. We should consider changing _train-validation-test split_ into _cross-validation_ in reitarations."
      ]
    },
    {
      "cell_type": "markdown",
      "metadata": {
        "id": "AspaNBWa8S3u",
        "colab_type": "text"
      },
      "source": [
        "## Non-trending data aquisition"
      ]
    },
    {
      "cell_type": "markdown",
      "metadata": {
        "id": "HbTwnulYATMr",
        "colab_type": "text"
      },
      "source": [
        "Due to the fact, that YouTube Data API is not faultless, we acquired non-trending data in the following way:\n",
        " * considered publish time: 14.11.2017 - 14.06.2018\n",
        " * the timespace was divided into 7-days pieces\n",
        " * relevance language set to English\n",
        " * request for most popular videos (argument: order='viewCount) made for each timepiece and every category present in trending data"
      ]
    },
    {
      "cell_type": "markdown",
      "metadata": {
        "id": "MErxLlPmyZz5",
        "colab_type": "text"
      },
      "source": [
        "Following quieries were made to obtain needed data:"
      ]
    },
    {
      "cell_type": "markdown",
      "metadata": {
        "id": "iVAI9i9jyjAs",
        "colab_type": "text"
      },
      "source": [
        "```\n",
        "# to obtain video ids\n",
        "youtube.search().list(part='snippet',\n",
        "                      maxResults=50,\n",
        "                      publishedAfter=start_times[i],\n",
        "                      publishedBefore=end_times[i],\n",
        "                      order='viewCount',\n",
        "                      type='video',\n",
        "                      relevanceLanguage='en',\n",
        "                      videoCategoryId=cat_id\n",
        "                      pageToken=page_token).execute()\n",
        "```"
      ]
    },
    {
      "cell_type": "markdown",
      "metadata": {
        "id": "WbAp0C3dzhhL",
        "colab_type": "text"
      },
      "source": [
        "```\n",
        "# to obtain video statistics\n",
        "youtube.videos().list(part='statistics', id=video_id).execute()\n",
        "```"
      ]
    },
    {
      "cell_type": "code",
      "metadata": {
        "id": "RI0BNCuO2zih",
        "colab_type": "code",
        "colab": {}
      },
      "source": [
        "df = pd.read_csv(path.join(data_path, DATA_NT), sep=\";\")"
      ],
      "execution_count": 0,
      "outputs": []
    },
    {
      "cell_type": "code",
      "metadata": {
        "id": "Ki10J9Mr8gTQ",
        "colab_type": "code",
        "outputId": "16739aba-a59f-415b-efcb-7c44727c93bb",
        "colab": {
          "base_uri": "https://localhost:8080/",
          "height": 573
        }
      },
      "source": [
        "df.head()"
      ],
      "execution_count": 0,
      "outputs": [
        {
          "output_type": "execute_result",
          "data": {
            "text/html": [
              "<div>\n",
              "<style scoped>\n",
              "    .dataframe tbody tr th:only-of-type {\n",
              "        vertical-align: middle;\n",
              "    }\n",
              "\n",
              "    .dataframe tbody tr th {\n",
              "        vertical-align: top;\n",
              "    }\n",
              "\n",
              "    .dataframe thead th {\n",
              "        text-align: right;\n",
              "    }\n",
              "</style>\n",
              "<table border=\"1\" class=\"dataframe\">\n",
              "  <thead>\n",
              "    <tr style=\"text-align: right;\">\n",
              "      <th></th>\n",
              "      <th>videoId</th>\n",
              "      <th>publishedAt</th>\n",
              "      <th>title</th>\n",
              "      <th>description</th>\n",
              "      <th>thumbnail</th>\n",
              "      <th>channelTitle</th>\n",
              "      <th>liveBcast</th>\n",
              "      <th>tags</th>\n",
              "      <th>categoryId</th>\n",
              "      <th>views</th>\n",
              "      <th>likes</th>\n",
              "      <th>dislikes</th>\n",
              "      <th>commentCount</th>\n",
              "    </tr>\n",
              "  </thead>\n",
              "  <tbody>\n",
              "    <tr>\n",
              "      <th>0</th>\n",
              "      <td>TyHvyGVs42U</td>\n",
              "      <td>2017-11-17T05:00:01.000Z</td>\n",
              "      <td>Luis Fonsi, Demi Lovato - Échame La Culpa (Vid...</td>\n",
              "      <td>Échame La Culpa” disponible ya en todas las pl...</td>\n",
              "      <td>https://i.ytimg.com/vi/TyHvyGVs42U/default.jpg</td>\n",
              "      <td>LuisFonsiVEVO</td>\n",
              "      <td>none</td>\n",
              "      <td>['luis fonsi', 'luis fonsi vevo', 'luis fonsi ...</td>\n",
              "      <td>10.0</td>\n",
              "      <td>1.988121e+09</td>\n",
              "      <td>8547948.0</td>\n",
              "      <td>663220.0</td>\n",
              "      <td>327170.0</td>\n",
              "    </tr>\n",
              "    <tr>\n",
              "      <th>1</th>\n",
              "      <td>YXSFMV8JOF4</td>\n",
              "      <td>2017-11-17T13:00:03.000Z</td>\n",
              "      <td>Gustavo Mioto - Anti-Amor Part Jorge e Mateus</td>\n",
              "      <td>Quer ter acesso em primeira mão ao novo álbum ...</td>\n",
              "      <td>https://i.ytimg.com/vi/YXSFMV8JOF4/default.jpg</td>\n",
              "      <td>Gustavo Mioto</td>\n",
              "      <td>none</td>\n",
              "      <td>['gustavo mioto', 'jorge e mateus', 'dvd', 'no...</td>\n",
              "      <td>10.0</td>\n",
              "      <td>4.757330e+08</td>\n",
              "      <td>1614753.0</td>\n",
              "      <td>83443.0</td>\n",
              "      <td>20456.0</td>\n",
              "    </tr>\n",
              "    <tr>\n",
              "      <th>2</th>\n",
              "      <td>T4dusvA1fi0</td>\n",
              "      <td>2017-11-18T12:00:01.000Z</td>\n",
              "      <td>Juguemos en el Bosque - La Granja de Zenón 4 |...</td>\n",
              "      <td>Suscríbete ▻ http://bit.ly/SuscribeteElReinoIn...</td>\n",
              "      <td>https://i.ytimg.com/vi/T4dusvA1fi0/default.jpg</td>\n",
              "      <td>El Reino Infantil</td>\n",
              "      <td>none</td>\n",
              "      <td>['El Reino Infantil', 'El Reino', 'canciones',...</td>\n",
              "      <td>10.0</td>\n",
              "      <td>2.597699e+08</td>\n",
              "      <td>404733.0</td>\n",
              "      <td>256359.0</td>\n",
              "      <td>1845.0</td>\n",
              "    </tr>\n",
              "    <tr>\n",
              "      <th>3</th>\n",
              "      <td>6uJf2IT2Zh8</td>\n",
              "      <td>2017-11-17T09:00:03.000Z</td>\n",
              "      <td>Red Velvet 레드벨벳 &amp;#39;피카부 (Peek-A-Boo)&amp;#39; MV</td>\n",
              "      <td>Red Velvet's 2nd full length album \"Perfect Ve...</td>\n",
              "      <td>https://i.ytimg.com/vi/6uJf2IT2Zh8/default.jpg</td>\n",
              "      <td>SMTOWN</td>\n",
              "      <td>none</td>\n",
              "      <td>['Red Velvet', '레드벨벳', '피카부', 'PeekABoo', 'Pee...</td>\n",
              "      <td>10.0</td>\n",
              "      <td>1.675386e+08</td>\n",
              "      <td>2020658.0</td>\n",
              "      <td>53720.0</td>\n",
              "      <td>122379.0</td>\n",
              "    </tr>\n",
              "    <tr>\n",
              "      <th>4</th>\n",
              "      <td>UuCq8mtK8J4</td>\n",
              "      <td>2017-11-16T05:00:01.000Z</td>\n",
              "      <td>DJ Snake, Lauv - A Different Way (Official Video)</td>\n",
              "      <td>Listen to DJ Snake's 'A Different Way,' out no...</td>\n",
              "      <td>https://i.ytimg.com/vi/UuCq8mtK8J4/default.jpg</td>\n",
              "      <td>DJSnakeVEVO</td>\n",
              "      <td>none</td>\n",
              "      <td>['DJ Snake', 'Lauv', 'A Different Way', 'Arc D...</td>\n",
              "      <td>10.0</td>\n",
              "      <td>1.514931e+08</td>\n",
              "      <td>1280205.0</td>\n",
              "      <td>32207.0</td>\n",
              "      <td>22809.0</td>\n",
              "    </tr>\n",
              "  </tbody>\n",
              "</table>\n",
              "</div>"
            ],
            "text/plain": [
              "       videoId               publishedAt  ...  dislikes commentCount\n",
              "0  TyHvyGVs42U  2017-11-17T05:00:01.000Z  ...  663220.0     327170.0\n",
              "1  YXSFMV8JOF4  2017-11-17T13:00:03.000Z  ...   83443.0      20456.0\n",
              "2  T4dusvA1fi0  2017-11-18T12:00:01.000Z  ...  256359.0       1845.0\n",
              "3  6uJf2IT2Zh8  2017-11-17T09:00:03.000Z  ...   53720.0     122379.0\n",
              "4  UuCq8mtK8J4  2017-11-16T05:00:01.000Z  ...   32207.0      22809.0\n",
              "\n",
              "[5 rows x 13 columns]"
            ]
          },
          "metadata": {
            "tags": []
          },
          "execution_count": 13
        }
      ]
    },
    {
      "cell_type": "code",
      "metadata": {
        "id": "QBrrKIQJHmS-",
        "colab_type": "code",
        "outputId": "12d910f4-7569-46e3-b49c-d751e1c9c0d3",
        "colab": {
          "base_uri": "https://localhost:8080/",
          "height": 36
        }
      },
      "source": [
        "len(df)"
      ],
      "execution_count": 0,
      "outputs": [
        {
          "output_type": "execute_result",
          "data": {
            "text/plain": [
              "58876"
            ]
          },
          "metadata": {
            "tags": []
          },
          "execution_count": 14
        }
      ]
    },
    {
      "cell_type": "markdown",
      "metadata": {
        "id": "PKkBVae6HxJZ",
        "colab_type": "text"
      },
      "source": [
        "Firstly, we will filter out videos, which appeared on trending lists"
      ]
    },
    {
      "cell_type": "code",
      "metadata": {
        "id": "jxZez7nqBvEk",
        "colab_type": "code",
        "colab": {}
      },
      "source": [
        "df_trending = pd.read_hdf(path.join(data_path, DATA_OLD))\n",
        "trending_ids = set(df_trending['video_id'])"
      ],
      "execution_count": 0,
      "outputs": []
    },
    {
      "cell_type": "code",
      "metadata": {
        "id": "baBeagSaHS0m",
        "colab_type": "code",
        "colab": {}
      },
      "source": [
        "df = df[~df.videoId.isin(trending_ids)]"
      ],
      "execution_count": 0,
      "outputs": []
    },
    {
      "cell_type": "code",
      "metadata": {
        "id": "p7evUFVYIAlB",
        "colab_type": "code",
        "outputId": "ecff60d8-656c-4bbb-9a84-1c200655cbb9",
        "colab": {
          "base_uri": "https://localhost:8080/",
          "height": 36
        }
      },
      "source": [
        "len(df)"
      ],
      "execution_count": 0,
      "outputs": [
        {
          "output_type": "execute_result",
          "data": {
            "text/plain": [
              "57591"
            ]
          },
          "metadata": {
            "tags": []
          },
          "execution_count": 17
        }
      ]
    },
    {
      "cell_type": "markdown",
      "metadata": {
        "id": "q-8HvGJVIwig",
        "colab_type": "text"
      },
      "source": [
        "Next, we will make sure that data fits in time bounds."
      ]
    },
    {
      "cell_type": "code",
      "metadata": {
        "id": "xgfoqBkinDhv",
        "colab_type": "code",
        "colab": {}
      },
      "source": [
        "import datetime\n",
        "import pytz\n",
        "df['publishedAt'] = pd.to_datetime(df.publishedAt)\n",
        "df = df[df.publishedAt < datetime.datetime(2018, 6, 15, tzinfo=pytz.utc) ]"
      ],
      "execution_count": 0,
      "outputs": []
    },
    {
      "cell_type": "code",
      "metadata": {
        "id": "dB47gwG2nx_d",
        "colab_type": "code",
        "outputId": "348c2419-b529-4c02-cf32-04dfb9eea55c",
        "colab": {
          "base_uri": "https://localhost:8080/",
          "height": 36
        }
      },
      "source": [
        "len(df)"
      ],
      "execution_count": 0,
      "outputs": [
        {
          "output_type": "execute_result",
          "data": {
            "text/plain": [
              "56594"
            ]
          },
          "metadata": {
            "tags": []
          },
          "execution_count": 19
        }
      ]
    },
    {
      "cell_type": "markdown",
      "metadata": {
        "id": "oeVIfyt1n4ER",
        "colab_type": "text"
      },
      "source": [
        "We will delete incomplete data - rows with empty views count"
      ]
    },
    {
      "cell_type": "code",
      "metadata": {
        "id": "OFFeE2f-LB-r",
        "colab_type": "code",
        "colab": {}
      },
      "source": [
        "df = df[~df.views.isna()]"
      ],
      "execution_count": 0,
      "outputs": []
    },
    {
      "cell_type": "code",
      "metadata": {
        "id": "0uySABatM76m",
        "colab_type": "code",
        "outputId": "e2edd641-44f3-49bd-aec2-e8e63056ea31",
        "colab": {
          "base_uri": "https://localhost:8080/",
          "height": 36
        }
      },
      "source": [
        "len(df)"
      ],
      "execution_count": 0,
      "outputs": [
        {
          "output_type": "execute_result",
          "data": {
            "text/plain": [
              "55734"
            ]
          },
          "metadata": {
            "tags": []
          },
          "execution_count": 21
        }
      ]
    },
    {
      "cell_type": "markdown",
      "metadata": {
        "id": "1BYDzRBIoKjG",
        "colab_type": "text"
      },
      "source": [
        "The next step is deleting rows with views count lower than lower bound of views count in trending data"
      ]
    },
    {
      "cell_type": "code",
      "metadata": {
        "id": "WzTmZYy5M_as",
        "colab_type": "code",
        "colab": {}
      },
      "source": [
        "df = df[df.views>=min(list(df_trending['views']))]"
      ],
      "execution_count": 0,
      "outputs": []
    },
    {
      "cell_type": "code",
      "metadata": {
        "id": "OLit1KegOarH",
        "colab_type": "code",
        "outputId": "a1fc871e-4ec7-4707-d792-c3d7159aff13",
        "colab": {
          "base_uri": "https://localhost:8080/",
          "height": 36
        }
      },
      "source": [
        "len(df)"
      ],
      "execution_count": 0,
      "outputs": [
        {
          "output_type": "execute_result",
          "data": {
            "text/plain": [
              "53973"
            ]
          },
          "metadata": {
            "tags": []
          },
          "execution_count": 23
        }
      ]
    },
    {
      "cell_type": "markdown",
      "metadata": {
        "id": "pcgilEuCpA0o",
        "colab_type": "text"
      },
      "source": [
        "YouTube Data API is not ideal. In spite of getting only videos with relevance language set to English, there are a lot of videos, which actually don't have any word in title or description written in Eglish. We will filter out those films based on language detected in title"
      ]
    },
    {
      "cell_type": "code",
      "metadata": {
        "id": "6W2JPLN4XWBP",
        "colab_type": "code",
        "colab": {}
      },
      "source": [
        "from langdetect import lang_detect_exception\n",
        "def detect_lang(text):\n",
        "  try:\n",
        "    lang = langdetect.detect(text)\n",
        "  except:\n",
        "    lang = None\n",
        "  return lang"
      ],
      "execution_count": 0,
      "outputs": []
    },
    {
      "cell_type": "code",
      "metadata": {
        "id": "6K9ECIAPW4qS",
        "colab_type": "code",
        "colab": {}
      },
      "source": [
        "df['language'] = df.apply(lambda row: detect_lang(row['title']), axis=1)"
      ],
      "execution_count": 0,
      "outputs": []
    },
    {
      "cell_type": "code",
      "metadata": {
        "id": "v8-JXYjOp2Mu",
        "colab_type": "code",
        "outputId": "e421e07d-c52f-49a2-d144-bdadaf9f8012",
        "colab": {
          "base_uri": "https://localhost:8080/",
          "height": 608
        }
      },
      "source": [
        "df[df.language!='en'].head(5)"
      ],
      "execution_count": 0,
      "outputs": [
        {
          "output_type": "execute_result",
          "data": {
            "text/html": [
              "<div>\n",
              "<style scoped>\n",
              "    .dataframe tbody tr th:only-of-type {\n",
              "        vertical-align: middle;\n",
              "    }\n",
              "\n",
              "    .dataframe tbody tr th {\n",
              "        vertical-align: top;\n",
              "    }\n",
              "\n",
              "    .dataframe thead th {\n",
              "        text-align: right;\n",
              "    }\n",
              "</style>\n",
              "<table border=\"1\" class=\"dataframe\">\n",
              "  <thead>\n",
              "    <tr style=\"text-align: right;\">\n",
              "      <th></th>\n",
              "      <th>videoId</th>\n",
              "      <th>publishedAt</th>\n",
              "      <th>title</th>\n",
              "      <th>description</th>\n",
              "      <th>thumbnail</th>\n",
              "      <th>channelTitle</th>\n",
              "      <th>liveBcast</th>\n",
              "      <th>tags</th>\n",
              "      <th>categoryId</th>\n",
              "      <th>views</th>\n",
              "      <th>likes</th>\n",
              "      <th>dislikes</th>\n",
              "      <th>commentCount</th>\n",
              "      <th>language</th>\n",
              "    </tr>\n",
              "  </thead>\n",
              "  <tbody>\n",
              "    <tr>\n",
              "      <th>1</th>\n",
              "      <td>YXSFMV8JOF4</td>\n",
              "      <td>2017-11-17 13:00:03+00:00</td>\n",
              "      <td>Gustavo Mioto - Anti-Amor Part Jorge e Mateus</td>\n",
              "      <td>Quer ter acesso em primeira mão ao novo álbum ...</td>\n",
              "      <td>https://i.ytimg.com/vi/YXSFMV8JOF4/default.jpg</td>\n",
              "      <td>Gustavo Mioto</td>\n",
              "      <td>none</td>\n",
              "      <td>['gustavo mioto', 'jorge e mateus', 'dvd', 'no...</td>\n",
              "      <td>10.0</td>\n",
              "      <td>475733001.0</td>\n",
              "      <td>1614753.0</td>\n",
              "      <td>83443.0</td>\n",
              "      <td>20456.0</td>\n",
              "      <td>it</td>\n",
              "    </tr>\n",
              "    <tr>\n",
              "      <th>2</th>\n",
              "      <td>T4dusvA1fi0</td>\n",
              "      <td>2017-11-18 12:00:01+00:00</td>\n",
              "      <td>Juguemos en el Bosque - La Granja de Zenón 4 |...</td>\n",
              "      <td>Suscríbete ▻ http://bit.ly/SuscribeteElReinoIn...</td>\n",
              "      <td>https://i.ytimg.com/vi/T4dusvA1fi0/default.jpg</td>\n",
              "      <td>El Reino Infantil</td>\n",
              "      <td>none</td>\n",
              "      <td>['El Reino Infantil', 'El Reino', 'canciones',...</td>\n",
              "      <td>10.0</td>\n",
              "      <td>259769911.0</td>\n",
              "      <td>404733.0</td>\n",
              "      <td>256359.0</td>\n",
              "      <td>1845.0</td>\n",
              "      <td>es</td>\n",
              "    </tr>\n",
              "    <tr>\n",
              "      <th>6</th>\n",
              "      <td>xb06CqeSgCQ</td>\n",
              "      <td>2017-11-15 14:04:25+00:00</td>\n",
              "      <td>Saif Nabeel And Asraa Alasil - Abe Ashof (Offi...</td>\n",
              "      <td>Saif Nabeel And Asraa Alasil - Abe Ashof (Offi...</td>\n",
              "      <td>https://i.ytimg.com/vi/xb06CqeSgCQ/default.jpg</td>\n",
              "      <td>الـريماس - Al-Remas</td>\n",
              "      <td>none</td>\n",
              "      <td>['سيف نبيل واسراء الاصيل', 'اسراء الاصيل', 'سي...</td>\n",
              "      <td>10.0</td>\n",
              "      <td>99079339.0</td>\n",
              "      <td>673905.0</td>\n",
              "      <td>37839.0</td>\n",
              "      <td>52840.0</td>\n",
              "      <td>so</td>\n",
              "    </tr>\n",
              "    <tr>\n",
              "      <th>8</th>\n",
              "      <td>dq6G2YWoRqA</td>\n",
              "      <td>2017-11-15 12:07:54+00:00</td>\n",
              "      <td>OrelSan - Tout va bien [CLIP OFFICIEL]</td>\n",
              "      <td>La fête est finie : https://orelsan.lnk.to/LaF...</td>\n",
              "      <td>https://i.ytimg.com/vi/dq6G2YWoRqA/default.jpg</td>\n",
              "      <td>orelsan</td>\n",
              "      <td>none</td>\n",
              "      <td>[]</td>\n",
              "      <td>10.0</td>\n",
              "      <td>38113520.0</td>\n",
              "      <td>406354.0</td>\n",
              "      <td>12387.0</td>\n",
              "      <td>17987.0</td>\n",
              "      <td>nl</td>\n",
              "    </tr>\n",
              "    <tr>\n",
              "      <th>10</th>\n",
              "      <td>9cpR2Vs0j90</td>\n",
              "      <td>2017-11-18 12:00:02+00:00</td>\n",
              "      <td>Familia Dedo de Colores #1 ♫ Plim Plim ♫ Canci...</td>\n",
              "      <td>SUSCRIBETE AQUI! ▻ http://goo.gl/HKuo86 Produc...</td>\n",
              "      <td>https://i.ytimg.com/vi/9cpR2Vs0j90/default.jpg</td>\n",
              "      <td>El Payaso Plim Plim</td>\n",
              "      <td>none</td>\n",
              "      <td>['plim plim', 'el payaso plim plim', 'plin pli...</td>\n",
              "      <td>10.0</td>\n",
              "      <td>28429994.0</td>\n",
              "      <td>58488.0</td>\n",
              "      <td>36193.0</td>\n",
              "      <td>200.0</td>\n",
              "      <td>es</td>\n",
              "    </tr>\n",
              "  </tbody>\n",
              "</table>\n",
              "</div>"
            ],
            "text/plain": [
              "        videoId               publishedAt  ... commentCount language\n",
              "1   YXSFMV8JOF4 2017-11-17 13:00:03+00:00  ...      20456.0       it\n",
              "2   T4dusvA1fi0 2017-11-18 12:00:01+00:00  ...       1845.0       es\n",
              "6   xb06CqeSgCQ 2017-11-15 14:04:25+00:00  ...      52840.0       so\n",
              "8   dq6G2YWoRqA 2017-11-15 12:07:54+00:00  ...      17987.0       nl\n",
              "10  9cpR2Vs0j90 2017-11-18 12:00:02+00:00  ...        200.0       es\n",
              "\n",
              "[5 rows x 14 columns]"
            ]
          },
          "metadata": {
            "tags": []
          },
          "execution_count": 26
        }
      ]
    },
    {
      "cell_type": "code",
      "metadata": {
        "id": "Kp1nSvvEafeT",
        "colab_type": "code",
        "outputId": "52fa3e26-a56f-4e9a-d343-216798062847",
        "colab": {
          "base_uri": "https://localhost:8080/",
          "height": 36
        }
      },
      "source": [
        "df = df[df.language=='en']\n",
        "len(df)"
      ],
      "execution_count": 0,
      "outputs": [
        {
          "output_type": "execute_result",
          "data": {
            "text/plain": [
              "39812"
            ]
          },
          "metadata": {
            "tags": []
          },
          "execution_count": 27
        }
      ]
    },
    {
      "cell_type": "markdown",
      "metadata": {
        "id": "F2gttTrhsUL8",
        "colab_type": "text"
      },
      "source": [
        "Some videos are live broadcasts - we don't want to consider them"
      ]
    },
    {
      "cell_type": "code",
      "metadata": {
        "id": "1rlZtXpTsTrA",
        "colab_type": "code",
        "colab": {}
      },
      "source": [
        "df = df[df.liveBcast=='none']"
      ],
      "execution_count": 0,
      "outputs": []
    },
    {
      "cell_type": "code",
      "metadata": {
        "id": "E27Rzw8qsTmw",
        "colab_type": "code",
        "outputId": "3e29cb82-d3bf-409b-cd74-d51aa0a0e6c7",
        "colab": {
          "base_uri": "https://localhost:8080/",
          "height": 36
        }
      },
      "source": [
        "len(df)"
      ],
      "execution_count": 0,
      "outputs": [
        {
          "output_type": "execute_result",
          "data": {
            "text/plain": [
              "39808"
            ]
          },
          "metadata": {
            "tags": []
          },
          "execution_count": 29
        }
      ]
    },
    {
      "cell_type": "markdown",
      "metadata": {
        "id": "XpLUEFWmtOUN",
        "colab_type": "text"
      },
      "source": [
        "We can now delete this column, as well as 'language' column"
      ]
    },
    {
      "cell_type": "code",
      "metadata": {
        "id": "Qhp54XOztEl2",
        "colab_type": "code",
        "colab": {}
      },
      "source": [
        "df = df.drop(['liveBcast', 'language'], axis=1)"
      ],
      "execution_count": 0,
      "outputs": []
    },
    {
      "cell_type": "code",
      "metadata": {
        "id": "SvjR1Q9JtEjK",
        "colab_type": "code",
        "outputId": "73dc84d9-209c-449c-bf12-195e97d051cc",
        "colab": {
          "base_uri": "https://localhost:8080/",
          "height": 678
        }
      },
      "source": [
        "df.sort_values(by='views', ascending=False).head()"
      ],
      "execution_count": 0,
      "outputs": [
        {
          "output_type": "execute_result",
          "data": {
            "text/html": [
              "<div>\n",
              "<style scoped>\n",
              "    .dataframe tbody tr th:only-of-type {\n",
              "        vertical-align: middle;\n",
              "    }\n",
              "\n",
              "    .dataframe tbody tr th {\n",
              "        vertical-align: top;\n",
              "    }\n",
              "\n",
              "    .dataframe thead th {\n",
              "        text-align: right;\n",
              "    }\n",
              "</style>\n",
              "<table border=\"1\" class=\"dataframe\">\n",
              "  <thead>\n",
              "    <tr style=\"text-align: right;\">\n",
              "      <th></th>\n",
              "      <th>videoId</th>\n",
              "      <th>publishedAt</th>\n",
              "      <th>title</th>\n",
              "      <th>description</th>\n",
              "      <th>thumbnail</th>\n",
              "      <th>channelTitle</th>\n",
              "      <th>tags</th>\n",
              "      <th>categoryId</th>\n",
              "      <th>views</th>\n",
              "      <th>likes</th>\n",
              "      <th>dislikes</th>\n",
              "      <th>commentCount</th>\n",
              "    </tr>\n",
              "  </thead>\n",
              "  <tbody>\n",
              "    <tr>\n",
              "      <th>43095</th>\n",
              "      <td>020g-0hhCAU</td>\n",
              "      <td>2017-11-21 08:00:01+00:00</td>\n",
              "      <td>Baby Shark | CoComelon Nursery Rhymes &amp;amp; Ki...</td>\n",
              "      <td>Subscribe for new videos every week: https://w...</td>\n",
              "      <td>https://i.ytimg.com/vi/020g-0hhCAU/default.jpg</td>\n",
              "      <td>Cocomelon - Nursery Rhymes</td>\n",
              "      <td>['abckidtv', 'cocomelon', 'kid songs', 'sing-a...</td>\n",
              "      <td>27.0</td>\n",
              "      <td>1.235668e+09</td>\n",
              "      <td>2489331.0</td>\n",
              "      <td>1547717.0</td>\n",
              "      <td>118.0</td>\n",
              "    </tr>\n",
              "    <tr>\n",
              "      <th>44722</th>\n",
              "      <td>1GDFa-nEzlg</td>\n",
              "      <td>2018-02-22 15:30:01+00:00</td>\n",
              "      <td>This Is The Way We Get Dressed | Kids Songs | ...</td>\n",
              "      <td>Check out the Super Simple App for iOS! ▻ http...</td>\n",
              "      <td>https://i.ytimg.com/vi/1GDFa-nEzlg/default.jpg</td>\n",
              "      <td>Super Simple Songs - Kids Songs</td>\n",
              "      <td>['kids songs', 'this is the way', 'this is the...</td>\n",
              "      <td>27.0</td>\n",
              "      <td>7.316545e+08</td>\n",
              "      <td>1962258.0</td>\n",
              "      <td>1228569.0</td>\n",
              "      <td>3955.0</td>\n",
              "    </tr>\n",
              "    <tr>\n",
              "      <th>2837</th>\n",
              "      <td>mfJhMfOPWdE</td>\n",
              "      <td>2018-05-18 12:28:39+00:00</td>\n",
              "      <td>Armin van Buuren - Blah Blah Blah (Official Ly...</td>\n",
              "      <td>My new single 'All On Me' is OUT NOW ▷ https:/...</td>\n",
              "      <td>https://i.ytimg.com/vi/mfJhMfOPWdE/default.jpg</td>\n",
              "      <td>Armin van Buuren</td>\n",
              "      <td>['Blah', 'Blah Blah', 'Blah Blah Blah', 'Armin...</td>\n",
              "      <td>10.0</td>\n",
              "      <td>4.319719e+08</td>\n",
              "      <td>3319298.0</td>\n",
              "      <td>128450.0</td>\n",
              "      <td>72739.0</td>\n",
              "    </tr>\n",
              "    <tr>\n",
              "      <th>3025</th>\n",
              "      <td>fOrPSLkuI54</td>\n",
              "      <td>2018-05-30 18:32:55+00:00</td>\n",
              "      <td>Wesley Safadão e Aldair Playboy ft. Kevinho - ...</td>\n",
              "      <td>Novo single do Wesley Safadão e Aldair Playboy...</td>\n",
              "      <td>https://i.ytimg.com/vi/fOrPSLkuI54/default.jpg</td>\n",
              "      <td>Wesley Safadão</td>\n",
              "      <td>['Som Livre (Record Label)', 'Forró (Musical G...</td>\n",
              "      <td>10.0</td>\n",
              "      <td>3.777448e+08</td>\n",
              "      <td>2299756.0</td>\n",
              "      <td>165746.0</td>\n",
              "      <td>63177.0</td>\n",
              "    </tr>\n",
              "    <tr>\n",
              "      <th>43226</th>\n",
              "      <td>ubmiT8JKeRU</td>\n",
              "      <td>2017-12-01 23:00:08+00:00</td>\n",
              "      <td>Monkey Banana Dance | Baby Monkey | Dance Alon...</td>\n",
              "      <td>Subscribe and watch new videos uploaded every ...</td>\n",
              "      <td>https://i.ytimg.com/vi/ubmiT8JKeRU/default.jpg</td>\n",
              "      <td>Pinkfong! Kids' Songs &amp; Stories</td>\n",
              "      <td>['pinkfong', 'family', 'kids', 'children', 'to...</td>\n",
              "      <td>27.0</td>\n",
              "      <td>2.906882e+08</td>\n",
              "      <td>703322.0</td>\n",
              "      <td>312424.0</td>\n",
              "      <td>0.0</td>\n",
              "    </tr>\n",
              "  </tbody>\n",
              "</table>\n",
              "</div>"
            ],
            "text/plain": [
              "           videoId               publishedAt  ...   dislikes commentCount\n",
              "43095  020g-0hhCAU 2017-11-21 08:00:01+00:00  ...  1547717.0        118.0\n",
              "44722  1GDFa-nEzlg 2018-02-22 15:30:01+00:00  ...  1228569.0       3955.0\n",
              "2837   mfJhMfOPWdE 2018-05-18 12:28:39+00:00  ...   128450.0      72739.0\n",
              "3025   fOrPSLkuI54 2018-05-30 18:32:55+00:00  ...   165746.0      63177.0\n",
              "43226  ubmiT8JKeRU 2017-12-01 23:00:08+00:00  ...   312424.0          0.0\n",
              "\n",
              "[5 rows x 12 columns]"
            ]
          },
          "metadata": {
            "tags": []
          },
          "execution_count": 31
        }
      ]
    },
    {
      "cell_type": "markdown",
      "metadata": {
        "id": "sfWlVvKru4vC",
        "colab_type": "text"
      },
      "source": [
        "Values corresponding to video_error_or_removed, comments_disabled and ratings_disabled were not directly accessible - we will assume, that video_error_or_removed is equal to False for every video and comments_disabled and ratings_disabled will be equal to True if comment count or sum of likes and dislikes is equal to 0, respectively. We are aware, that this solution is not perfect, but it seems to be the best approach to this kind of data."
      ]
    },
    {
      "cell_type": "code",
      "metadata": {
        "id": "pByltiSCwT-F",
        "colab_type": "code",
        "colab": {}
      },
      "source": [
        "df['video_error_or_removed'] = df.apply(lambda row: False, axis=1)"
      ],
      "execution_count": 0,
      "outputs": []
    },
    {
      "cell_type": "code",
      "metadata": {
        "id": "o9u99X9KwdYM",
        "colab_type": "code",
        "colab": {}
      },
      "source": [
        "df['comments_disabled'] = df.apply(lambda row: True if row.commentCount==0 else False, axis=1)"
      ],
      "execution_count": 0,
      "outputs": []
    },
    {
      "cell_type": "code",
      "metadata": {
        "id": "sKWo30vVxByf",
        "colab_type": "code",
        "colab": {}
      },
      "source": [
        "df['ratings_disabled'] = df.apply(lambda row: True if row.likes + row.dislikes == 0 else False, axis=1)"
      ],
      "execution_count": 0,
      "outputs": []
    },
    {
      "cell_type": "code",
      "metadata": {
        "id": "AkR1aLb2xSfQ",
        "colab_type": "code",
        "outputId": "559beb3e-85e0-45f1-f5ce-d6129ce04ca0",
        "colab": {
          "base_uri": "https://localhost:8080/",
          "height": 660
        }
      },
      "source": [
        "df.head()"
      ],
      "execution_count": 0,
      "outputs": [
        {
          "output_type": "execute_result",
          "data": {
            "text/html": [
              "<div>\n",
              "<style scoped>\n",
              "    .dataframe tbody tr th:only-of-type {\n",
              "        vertical-align: middle;\n",
              "    }\n",
              "\n",
              "    .dataframe tbody tr th {\n",
              "        vertical-align: top;\n",
              "    }\n",
              "\n",
              "    .dataframe thead th {\n",
              "        text-align: right;\n",
              "    }\n",
              "</style>\n",
              "<table border=\"1\" class=\"dataframe\">\n",
              "  <thead>\n",
              "    <tr style=\"text-align: right;\">\n",
              "      <th></th>\n",
              "      <th>videoId</th>\n",
              "      <th>publishedAt</th>\n",
              "      <th>title</th>\n",
              "      <th>description</th>\n",
              "      <th>thumbnail</th>\n",
              "      <th>channelTitle</th>\n",
              "      <th>tags</th>\n",
              "      <th>categoryId</th>\n",
              "      <th>views</th>\n",
              "      <th>likes</th>\n",
              "      <th>dislikes</th>\n",
              "      <th>commentCount</th>\n",
              "      <th>video_error_or_removed</th>\n",
              "      <th>comments_disabled</th>\n",
              "      <th>ratings_disabled</th>\n",
              "    </tr>\n",
              "  </thead>\n",
              "  <tbody>\n",
              "    <tr>\n",
              "      <th>5</th>\n",
              "      <td>BZT8jqsc8lQ</td>\n",
              "      <td>2017-11-17 05:00:00+00:00</td>\n",
              "      <td>Tasha Cobbs Leonard - Your Spirit ft. Kierra S...</td>\n",
              "      <td>Official Music Video for “Your Spirit” by Tash...</td>\n",
              "      <td>https://i.ytimg.com/vi/BZT8jqsc8lQ/default.jpg</td>\n",
              "      <td>TashaCobbsVEVO</td>\n",
              "      <td>['Tasha', 'Cobbs', 'Leonard', 'Your Spirit', '...</td>\n",
              "      <td>10.0</td>\n",
              "      <td>115497808.0</td>\n",
              "      <td>520146.0</td>\n",
              "      <td>32952.0</td>\n",
              "      <td>19636.0</td>\n",
              "      <td>False</td>\n",
              "      <td>False</td>\n",
              "      <td>False</td>\n",
              "    </tr>\n",
              "    <tr>\n",
              "      <th>7</th>\n",
              "      <td>QuSEbo03fc4</td>\n",
              "      <td>2017-11-14 22:04:50+00:00</td>\n",
              "      <td>Becky G, Bad Bunny - Mayores (2017 Latin Ameri...</td>\n",
              "      <td>Music video by Becky G, Bad Bunny performing M...</td>\n",
              "      <td>https://i.ytimg.com/vi/QuSEbo03fc4/default.jpg</td>\n",
              "      <td>BeckyGVEVO</td>\n",
              "      <td>['Becky G &amp; Bad Bunny', 'Kemosabe Records/RCA ...</td>\n",
              "      <td>10.0</td>\n",
              "      <td>49855324.0</td>\n",
              "      <td>309320.0</td>\n",
              "      <td>23742.0</td>\n",
              "      <td>10623.0</td>\n",
              "      <td>False</td>\n",
              "      <td>False</td>\n",
              "      <td>False</td>\n",
              "    </tr>\n",
              "    <tr>\n",
              "      <th>12</th>\n",
              "      <td>oOlmtJRB8oI</td>\n",
              "      <td>2017-11-17 08:06:16+00:00</td>\n",
              "      <td>Avicii ft. Rita Ora - Lonely Together (Alan Wa...</td>\n",
              "      <td>My new single \"Alone, Pt. II\" with Ava Max is ...</td>\n",
              "      <td>https://i.ytimg.com/vi/oOlmtJRB8oI/default.jpg</td>\n",
              "      <td>Alan Walker</td>\n",
              "      <td>['Alan Walker', 'DJ Walkzz', 'K-391', 'House',...</td>\n",
              "      <td>10.0</td>\n",
              "      <td>24447771.0</td>\n",
              "      <td>303812.0</td>\n",
              "      <td>5106.0</td>\n",
              "      <td>11839.0</td>\n",
              "      <td>False</td>\n",
              "      <td>False</td>\n",
              "      <td>False</td>\n",
              "    </tr>\n",
              "    <tr>\n",
              "      <th>14</th>\n",
              "      <td>JPp-oLkQPQQ</td>\n",
              "      <td>2017-11-17 05:00:01+00:00</td>\n",
              "      <td>Sia - Everyday Is Christmas</td>\n",
              "      <td>Everyday Is Christmas\" from 'Everyday Is Chris...</td>\n",
              "      <td>https://i.ytimg.com/vi/JPp-oLkQPQQ/default.jpg</td>\n",
              "      <td>SiaVEVO</td>\n",
              "      <td>['Sia Everyday Is Christmas Holiday']</td>\n",
              "      <td>10.0</td>\n",
              "      <td>16636599.0</td>\n",
              "      <td>124737.0</td>\n",
              "      <td>2552.0</td>\n",
              "      <td>3115.0</td>\n",
              "      <td>False</td>\n",
              "      <td>False</td>\n",
              "      <td>False</td>\n",
              "    </tr>\n",
              "    <tr>\n",
              "      <th>16</th>\n",
              "      <td>tMui4IVW0BM</td>\n",
              "      <td>2017-11-15 08:00:03+00:00</td>\n",
              "      <td>Scorpions - Follow Your Heart (Official Lyric ...</td>\n",
              "      <td>The brand new album \"Born To Touch Your Feelin...</td>\n",
              "      <td>https://i.ytimg.com/vi/tMui4IVW0BM/default.jpg</td>\n",
              "      <td>ScorpionsVEVO</td>\n",
              "      <td>['the scorpions', 'rock', 'rock music', 'rock ...</td>\n",
              "      <td>10.0</td>\n",
              "      <td>14087842.0</td>\n",
              "      <td>135264.0</td>\n",
              "      <td>2707.0</td>\n",
              "      <td>3299.0</td>\n",
              "      <td>False</td>\n",
              "      <td>False</td>\n",
              "      <td>False</td>\n",
              "    </tr>\n",
              "  </tbody>\n",
              "</table>\n",
              "</div>"
            ],
            "text/plain": [
              "        videoId               publishedAt  ... comments_disabled ratings_disabled\n",
              "5   BZT8jqsc8lQ 2017-11-17 05:00:00+00:00  ...             False            False\n",
              "7   QuSEbo03fc4 2017-11-14 22:04:50+00:00  ...             False            False\n",
              "12  oOlmtJRB8oI 2017-11-17 08:06:16+00:00  ...             False            False\n",
              "14  JPp-oLkQPQQ 2017-11-17 05:00:01+00:00  ...             False            False\n",
              "16  tMui4IVW0BM 2017-11-15 08:00:03+00:00  ...             False            False\n",
              "\n",
              "[5 rows x 15 columns]"
            ]
          },
          "metadata": {
            "tags": []
          },
          "execution_count": 35
        }
      ]
    },
    {
      "cell_type": "code",
      "metadata": {
        "id": "MXh-aabMtt_G",
        "colab_type": "code",
        "colab": {}
      },
      "source": [
        "df.to_csv(path.join(drive_path,\"non_trending_data.csv\"), sep=';', index=False)"
      ],
      "execution_count": 0,
      "outputs": []
    },
    {
      "cell_type": "markdown",
      "metadata": {
        "id": "o--MQntRymAD",
        "colab_type": "text"
      },
      "source": [
        "It is important to point out, that acquired data is not perfect because of two main reasons: API faults and some assumptions, which were made - for example getting data from given time period - we cannot be sure if data from the end of this period didn't or wouldn't become trending in past or future."
      ]
    },
    {
      "cell_type": "markdown",
      "metadata": {
        "id": "zjOmHV7kzN9H",
        "colab_type": "text"
      },
      "source": [
        "Eventually, we acquired data about 39812 videos. It is a large number compared to videos coming from trending lists - 8606. Nevertheless, we will not limit non-trending data at this point - we will postpone dealing with data imbalance to the next step where we will be building a classifier."
      ]
    },
    {
      "cell_type": "markdown",
      "metadata": {
        "id": "uG1jMZw47gNO",
        "colab_type": "text"
      },
      "source": [
        "## Short EDA for non-trending data"
      ]
    },
    {
      "cell_type": "code",
      "metadata": {
        "id": "a-2cJK1d71T3",
        "colab_type": "code",
        "colab": {}
      },
      "source": [
        "style.use('seaborn-poster')\n",
        "style.use('ggplot')"
      ],
      "execution_count": 0,
      "outputs": []
    },
    {
      "cell_type": "code",
      "metadata": {
        "id": "PEl9Z-Hj7lg_",
        "colab_type": "code",
        "outputId": "5ecbbc5b-ee29-4ca3-c4b8-426ce5d4b74b",
        "colab": {
          "base_uri": "https://localhost:8080/",
          "height": 573
        }
      },
      "source": [
        "df.publishedAt.hist()\n",
        "plt.xlabel('Publication date')\n",
        "plt.title('Publication date distribution');"
      ],
      "execution_count": 0,
      "outputs": [
        {
          "output_type": "display_data",
          "data": {
            "image/png": "[encoded data removed]",
            "text/plain": [
              "<Figure size 921.6x633.6 with 1 Axes>"
            ]
          },
          "metadata": {
            "tags": []
          }
        }
      ]
    },
    {
      "cell_type": "code",
      "metadata": {
        "id": "d8OMPk0L9v0B",
        "colab_type": "code",
        "outputId": "962bae9b-91af-427c-d241-d78ae6a55b2d",
        "colab": {
          "base_uri": "https://localhost:8080/",
          "height": 573
        }
      },
      "source": [
        "df.categoryId = df.categoryId.astype(int)\n",
        "sns.countplot(df.categoryId)\n",
        "plt.xlabel('Category identifier');\n",
        "plt.title('Categories distribution');"
      ],
      "execution_count": 0,
      "outputs": [
        {
          "output_type": "display_data",
          "data": {
            "image/png": "[encoded data removed]",
            "text/plain": [
              "<Figure size 921.6x633.6 with 1 Axes>"
            ]
          },
          "metadata": {
            "tags": []
          }
        }
      ]
    },
    {
      "cell_type": "markdown",
      "metadata": {
        "id": "6z_AqxJbBJiy",
        "colab_type": "text"
      },
      "source": [
        "The data aquisition technique determines that data is evenly distributed. The lack of category number 43 is the rseult of lack of data obtained by API for this category."
      ]
    },
    {
      "cell_type": "code",
      "metadata": {
        "id": "BoUuLLEf8btu",
        "colab_type": "code",
        "outputId": "05ad60fc-5f1c-4658-c701-7d92f1a5d00c",
        "colab": {
          "base_uri": "https://localhost:8080/",
          "height": 574
        }
      },
      "source": [
        "ax = sns.distplot(df.views, kde=False)\n",
        "ax.set_yscale('log')\n",
        "ax.set_title('Number of views distribution');"
      ],
      "execution_count": 0,
      "outputs": [
        {
          "output_type": "display_data",
          "data": {
            "image/png": "[encoded data removed]",
            "text/plain": [
              "<Figure size 921.6x633.6 with 1 Axes>"
            ]
          },
          "metadata": {
            "tags": []
          }
        }
      ]
    },
    {
      "cell_type": "code",
      "metadata": {
        "id": "zEJguN--8zdi",
        "colab_type": "code",
        "outputId": "87a8648e-82cf-47ea-f100-b447840f4547",
        "colab": {
          "base_uri": "https://localhost:8080/",
          "height": 557
        }
      },
      "source": [
        "ax = sns.distplot(df.likes, kde=False);\n",
        "ax.set_yscale('log');"
      ],
      "execution_count": 0,
      "outputs": [
        {
          "output_type": "display_data",
          "data": {
            "image/png": "[encoded data removed]",
            "text/plain": [
              "<Figure size 921.6x633.6 with 1 Axes>"
            ]
          },
          "metadata": {
            "tags": []
          }
        }
      ]
    },
    {
      "cell_type": "code",
      "metadata": {
        "id": "gPSOT_Uz9LON",
        "colab_type": "code",
        "outputId": "b559b48e-76d6-4781-f719-322cc2951a7d",
        "colab": {
          "base_uri": "https://localhost:8080/",
          "height": 574
        }
      },
      "source": [
        "ax = sns.distplot(df.dislikes, kde=False)\n",
        "ax.set_title('Dislikes distribution')\n",
        "ax.set_yscale('log');"
      ],
      "execution_count": 0,
      "outputs": [
        {
          "output_type": "display_data",
          "data": {
            "image/png": "[encoded data removed]",
            "text/plain": [
              "<Figure size 921.6x633.6 with 1 Axes>"
            ]
          },
          "metadata": {
            "tags": []
          }
        }
      ]
    },
    {
      "cell_type": "code",
      "metadata": {
        "id": "s2XIiFn79bvz",
        "colab_type": "code",
        "outputId": "fa3f784a-c357-4854-d9c8-1e221722b4fd",
        "colab": {
          "base_uri": "https://localhost:8080/",
          "height": 573
        }
      },
      "source": [
        "ax = sns.distplot(df.commentCount, kde=False);\n",
        "ax.set_title('Comments distribution');\n",
        "ax.set_yscale('log');"
      ],
      "execution_count": 0,
      "outputs": [
        {
          "output_type": "display_data",
          "data": {
            "image/png": "[encoded data removed]",
            "text/plain": [
              "<Figure size 921.6x633.6 with 1 Axes>"
            ]
          },
          "metadata": {
            "tags": []
          }
        }
      ]
    },
    {
      "cell_type": "markdown",
      "metadata": {
        "id": "CZ5KFy22CMpF",
        "colab_type": "text"
      },
      "source": [
        "Views, ratings and comments distribution is natural consequence of excluding trending videos - there are only a few extremely viewed, liked and commented videos."
      ]
    }
  ]
}