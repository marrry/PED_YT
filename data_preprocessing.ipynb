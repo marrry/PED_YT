{
 "cells": [
  {
   "cell_type": "markdown",
   "metadata": {},
   "source": [
    "# Projekt Eksploracji Danych Youtube Trending"
   ]
  },
  {
   "cell_type": "markdown",
   "metadata": {},
   "source": [
    "## Import bibliotek"
   ]
  },
  {
   "cell_type": "code",
   "execution_count": 118,
   "metadata": {},
   "outputs": [],
   "source": [
    "import pandas as pd\n",
    "import numpy as np\n",
    "import seaborn as sns\n",
    "import os"
   ]
  },
  {
   "cell_type": "markdown",
   "metadata": {},
   "source": [
    "## Wczytanie danych"
   ]
  },
  {
   "cell_type": "code",
   "execution_count": 119,
   "metadata": {},
   "outputs": [],
   "source": [
    "data_dir = \"youtube_data\""
   ]
  },
  {
   "cell_type": "code",
   "execution_count": 120,
   "metadata": {},
   "outputs": [],
   "source": [
    "us_data = pd.read_csv(os.path.join(data_dir, \"US_videos_5p.csv\"), encoding='utf-8', sep=';')\n",
    "gb_data = pd.read_csv(os.path.join(data_dir, \"GB_videos_5p.csv\"), encoding='utf-8', sep=';')"
   ]
  },
  {
   "cell_type": "code",
   "execution_count": 153,
   "metadata": {},
   "outputs": [],
   "source": [
    "attributes = us_data.columns"
   ]
  },
  {
   "cell_type": "markdown",
   "metadata": {},
   "source": [
    "## Brakujące wartości"
   ]
  },
  {
   "cell_type": "markdown",
   "metadata": {},
   "source": [
    "Niekiedy w danych występują wartośći brakujące, bądź też wartości, które magą być uznane za brakujące. Takie wartości pojawiają się na przykład w atrybucie video_id jako \"#NAZWA?\". Na tym etapie zostały zastępione wartościami pustymi (NaN)."
   ]
  },
  {
   "cell_type": "code",
   "execution_count": 149,
   "metadata": {},
   "outputs": [],
   "source": [
    "us_data = us_data.replace(\"#NAZWA?\", np.nan)\n",
    "gb_data = gb_data.replace(\"#NAZWA?\", np.nan)"
   ]
  },
  {
   "cell_type": "code",
   "execution_count": 150,
   "metadata": {},
   "outputs": [],
   "source": [
    "def get_missing(data):\n",
    "    missing = []\n",
    "    for col in attributes:\n",
    "        missing.append(data[col].isna().sum())\n",
    "    \n",
    "    return missing"
   ]
  },
  {
   "cell_type": "code",
   "execution_count": 188,
   "metadata": {},
   "outputs": [],
   "source": [
    "def missing_summary():\n",
    "    missing = pd.DataFrame(columns = attributes)\n",
    "    us_miss = get_missing(us_data)\n",
    "    gb_miss = get_missing(gb_data)\n",
    "    missing.loc[0] = us_miss\n",
    "    missing.loc[1] = [round(n*100/len(us_data),2) for n in us_miss]\n",
    "    missing.loc[2] = get_missing(gb_data)\n",
    "    missing.loc[3] = [round(n*100/len(gb_data),2) for n in gb_miss]\n",
    "    \n",
    "    miss_sum = missing.sum()\n",
    "    missing_attributes=[]\n",
    "    for col in attributes:\n",
    "        if miss_sum[col] > 0:\n",
    "            missing_attributes.append(col)\n",
    "            \n",
    "    missing['country'] = ['US', 'US_%','GB', 'GB_%']\n",
    "    missing = missing.set_index(['country'])\n",
    "    \n",
    "    return missing[missing_attributes]"
   ]
  },
  {
   "cell_type": "code",
   "execution_count": 189,
   "metadata": {},
   "outputs": [
    {
     "data": {
      "text/html": [
       "<div>\n",
       "<style scoped>\n",
       "    .dataframe tbody tr th:only-of-type {\n",
       "        vertical-align: middle;\n",
       "    }\n",
       "\n",
       "    .dataframe tbody tr th {\n",
       "        vertical-align: top;\n",
       "    }\n",
       "\n",
       "    .dataframe thead th {\n",
       "        text-align: right;\n",
       "    }\n",
       "</style>\n",
       "<table border=\"1\" class=\"dataframe\">\n",
       "  <thead>\n",
       "    <tr style=\"text-align: right;\">\n",
       "      <th></th>\n",
       "      <th>video_id</th>\n",
       "      <th>channel_title</th>\n",
       "      <th>category_id</th>\n",
       "      <th>description</th>\n",
       "    </tr>\n",
       "    <tr>\n",
       "      <th>country</th>\n",
       "      <th></th>\n",
       "      <th></th>\n",
       "      <th></th>\n",
       "      <th></th>\n",
       "    </tr>\n",
       "  </thead>\n",
       "  <tbody>\n",
       "    <tr>\n",
       "      <th>US</th>\n",
       "      <td>380</td>\n",
       "      <td>0</td>\n",
       "      <td>38929</td>\n",
       "      <td>570</td>\n",
       "    </tr>\n",
       "    <tr>\n",
       "      <th>US_%</th>\n",
       "      <td>0.93</td>\n",
       "      <td>0</td>\n",
       "      <td>95.07</td>\n",
       "      <td>1.39</td>\n",
       "    </tr>\n",
       "    <tr>\n",
       "      <th>GB</th>\n",
       "      <td>345</td>\n",
       "      <td>1</td>\n",
       "      <td>36957</td>\n",
       "      <td>612</td>\n",
       "    </tr>\n",
       "    <tr>\n",
       "      <th>GB_%</th>\n",
       "      <td>0.89</td>\n",
       "      <td>0</td>\n",
       "      <td>95.09</td>\n",
       "      <td>1.57</td>\n",
       "    </tr>\n",
       "  </tbody>\n",
       "</table>\n",
       "</div>"
      ],
      "text/plain": [
       "        video_id channel_title category_id description \n",
       "country                                                \n",
       "US           380             0       38929          570\n",
       "US_%        0.93             0       95.07         1.39\n",
       "GB           345             1       36957          612\n",
       "GB_%        0.89             0       95.09         1.57"
      ]
     },
     "execution_count": 189,
     "metadata": {},
     "output_type": "execute_result"
    }
   ],
   "source": [
    "missing_summary()"
   ]
  },
  {
   "cell_type": "markdown",
   "metadata": {},
   "source": [
    "## Rozkład wartości atrybutów"
   ]
  },
  {
   "cell_type": "code",
   "execution_count": 191,
   "metadata": {},
   "outputs": [],
   "source": [
    "# TODO: wykresy z rozkładem wartości z użyciem seaborn.violinplot"
   ]
  }
 ],
 "metadata": {
  "kernelspec": {
   "display_name": "Python 3",
   "language": "python",
   "name": "python3"
  },
  "language_info": {
   "codemirror_mode": {
    "name": "ipython",
    "version": 3
   },
   "file_extension": ".py",
   "mimetype": "text/x-python",
   "name": "python",
   "nbconvert_exporter": "python",
   "pygments_lexer": "ipython3",
   "version": "3.6.7"
  }
 },
 "nbformat": 4,
 "nbformat_minor": 2
}
